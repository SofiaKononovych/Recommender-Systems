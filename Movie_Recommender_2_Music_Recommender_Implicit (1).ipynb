{
  "cells": [
    {
      "cell_type": "markdown",
      "metadata": {
        "id": "Inwi1o3992TW"
      },
      "source": [
        " - Make your first recommender by implementing a user-based collaborating filtering (CF)\n",
        " - Make your first recommendations using Spotlight recommender toolkit on explicit data\n",
        " - Develop and evaluate baseline recommender systems .\n",
        " - Start to think about explicit vs. implicit learners.\n",
        " - Evaluate your results using Spotlight\n"
      ]
    },
    {
      "cell_type": "code",
      "execution_count": 1,
      "metadata": {
        "id": "Ys992pU79yhD"
      },
      "outputs": [],
      "source": [
        "#Standard setup\n",
        "import pandas as pd\n",
        "import numpy as np\n",
        "import torch\n",
        "from typing import List, Tuple, Sequence\n",
        "SEED=20"
      ]
    },
    {
      "cell_type": "markdown",
      "metadata": {
        "id": "-8Vlbi9W-d2j"
      },
      "source": [
        "We'll be using Movielens again. Let's load it in to the dataframe.\n",
        "\n",
        "\n"
      ]
    },
    {
      "cell_type": "code",
      "execution_count": 2,
      "metadata": {
        "id": "Hg093kVRAvHw",
        "colab": {
          "base_uri": "https://localhost:8080/"
        },
        "outputId": "d92c7086-357b-4a4f-af51-85a0cfefb4ab"
      },
      "outputs": [
        {
          "output_type": "stream",
          "name": "stdout",
          "text": [
            "  % Total    % Received % Xferd  Average Speed   Time    Time     Time  Current\n",
            "                                 Dload  Upload   Total   Spent    Left  Speed\n",
            "100  955k  100  955k    0     0  2281k      0 --:--:-- --:--:-- --:--:-- 2279k\n",
            "Archive:  ml-latest-small.zip\n",
            "   creating: ml-latest-small/\n",
            "  inflating: ml-latest-small/links.csv  \n",
            "  inflating: ml-latest-small/tags.csv  \n",
            "  inflating: ml-latest-small/ratings.csv  \n",
            "  inflating: ml-latest-small/README.txt  \n",
            "  inflating: ml-latest-small/movies.csv  \n"
          ]
        }
      ],
      "source": [
        "!curl -o ml-latest-small.zip http://files.grouplens.org/datasets/movielens/ml-latest-small.zip\n",
        "# backup location\n",
        "#!curl -o ml-latest-small.zip http://www.dcs.gla.ac.uk/~craigm/recsysHM/ml-latest-small.zip\n",
        "!unzip -o ml-latest-small.zip"
      ]
    },
    {
      "cell_type": "code",
      "execution_count": 3,
      "metadata": {
        "id": "Yss68U_EA0w2"
      },
      "outputs": [],
      "source": [
        "ratings_df = pd.read_csv(\"ml-latest-small/ratings.csv\")\n",
        "movies_df = pd.read_csv(\"ml-latest-small/movies.csv\")\n",
        "\n",
        "# we're going to treat userId as strings, and similarly as movies. This will prevent confusion later on.\n",
        "ratings_df['userId'] = \"u\" + ratings_df['userId'].astype(str)\n",
        "ratings_df['movieId'] = \"m\" + ratings_df['movieId'].astype(str)\n",
        "movies_df['movieId'] = \"m\" +  movies_df['movieId'].astype(str)"
      ]
    },
    {
      "cell_type": "code",
      "execution_count": 4,
      "metadata": {
        "id": "o5QQBZ3QS2Hv",
        "colab": {
          "base_uri": "https://localhost:8080/",
          "height": 206
        },
        "outputId": "fbb3cfb1-5b2b-467b-9369-2a72347198f1"
      },
      "outputs": [
        {
          "output_type": "execute_result",
          "data": {
            "text/plain": [
              "  userId movieId  rating  timestamp\n",
              "0     u1      m1     4.0  964982703\n",
              "1     u1      m3     4.0  964981247\n",
              "2     u1      m6     4.0  964982224\n",
              "3     u1     m47     5.0  964983815\n",
              "4     u1     m50     5.0  964982931"
            ],
            "text/html": [
              "\n",
              "  <div id=\"df-1ae054bd-106a-4bf2-8af6-3ac79fd8db7b\" class=\"colab-df-container\">\n",
              "    <div>\n",
              "<style scoped>\n",
              "    .dataframe tbody tr th:only-of-type {\n",
              "        vertical-align: middle;\n",
              "    }\n",
              "\n",
              "    .dataframe tbody tr th {\n",
              "        vertical-align: top;\n",
              "    }\n",
              "\n",
              "    .dataframe thead th {\n",
              "        text-align: right;\n",
              "    }\n",
              "</style>\n",
              "<table border=\"1\" class=\"dataframe\">\n",
              "  <thead>\n",
              "    <tr style=\"text-align: right;\">\n",
              "      <th></th>\n",
              "      <th>userId</th>\n",
              "      <th>movieId</th>\n",
              "      <th>rating</th>\n",
              "      <th>timestamp</th>\n",
              "    </tr>\n",
              "  </thead>\n",
              "  <tbody>\n",
              "    <tr>\n",
              "      <th>0</th>\n",
              "      <td>u1</td>\n",
              "      <td>m1</td>\n",
              "      <td>4.0</td>\n",
              "      <td>964982703</td>\n",
              "    </tr>\n",
              "    <tr>\n",
              "      <th>1</th>\n",
              "      <td>u1</td>\n",
              "      <td>m3</td>\n",
              "      <td>4.0</td>\n",
              "      <td>964981247</td>\n",
              "    </tr>\n",
              "    <tr>\n",
              "      <th>2</th>\n",
              "      <td>u1</td>\n",
              "      <td>m6</td>\n",
              "      <td>4.0</td>\n",
              "      <td>964982224</td>\n",
              "    </tr>\n",
              "    <tr>\n",
              "      <th>3</th>\n",
              "      <td>u1</td>\n",
              "      <td>m47</td>\n",
              "      <td>5.0</td>\n",
              "      <td>964983815</td>\n",
              "    </tr>\n",
              "    <tr>\n",
              "      <th>4</th>\n",
              "      <td>u1</td>\n",
              "      <td>m50</td>\n",
              "      <td>5.0</td>\n",
              "      <td>964982931</td>\n",
              "    </tr>\n",
              "  </tbody>\n",
              "</table>\n",
              "</div>\n",
              "    <div class=\"colab-df-buttons\">\n",
              "\n",
              "  <div class=\"colab-df-container\">\n",
              "    <button class=\"colab-df-convert\" onclick=\"convertToInteractive('df-1ae054bd-106a-4bf2-8af6-3ac79fd8db7b')\"\n",
              "            title=\"Convert this dataframe to an interactive table.\"\n",
              "            style=\"display:none;\">\n",
              "\n",
              "  <svg xmlns=\"http://www.w3.org/2000/svg\" height=\"24px\" viewBox=\"0 -960 960 960\">\n",
              "    <path d=\"M120-120v-720h720v720H120Zm60-500h600v-160H180v160Zm220 220h160v-160H400v160Zm0 220h160v-160H400v160ZM180-400h160v-160H180v160Zm440 0h160v-160H620v160ZM180-180h160v-160H180v160Zm440 0h160v-160H620v160Z\"/>\n",
              "  </svg>\n",
              "    </button>\n",
              "\n",
              "  <style>\n",
              "    .colab-df-container {\n",
              "      display:flex;\n",
              "      gap: 12px;\n",
              "    }\n",
              "\n",
              "    .colab-df-convert {\n",
              "      background-color: #E8F0FE;\n",
              "      border: none;\n",
              "      border-radius: 50%;\n",
              "      cursor: pointer;\n",
              "      display: none;\n",
              "      fill: #1967D2;\n",
              "      height: 32px;\n",
              "      padding: 0 0 0 0;\n",
              "      width: 32px;\n",
              "    }\n",
              "\n",
              "    .colab-df-convert:hover {\n",
              "      background-color: #E2EBFA;\n",
              "      box-shadow: 0px 1px 2px rgba(60, 64, 67, 0.3), 0px 1px 3px 1px rgba(60, 64, 67, 0.15);\n",
              "      fill: #174EA6;\n",
              "    }\n",
              "\n",
              "    .colab-df-buttons div {\n",
              "      margin-bottom: 4px;\n",
              "    }\n",
              "\n",
              "    [theme=dark] .colab-df-convert {\n",
              "      background-color: #3B4455;\n",
              "      fill: #D2E3FC;\n",
              "    }\n",
              "\n",
              "    [theme=dark] .colab-df-convert:hover {\n",
              "      background-color: #434B5C;\n",
              "      box-shadow: 0px 1px 3px 1px rgba(0, 0, 0, 0.15);\n",
              "      filter: drop-shadow(0px 1px 2px rgba(0, 0, 0, 0.3));\n",
              "      fill: #FFFFFF;\n",
              "    }\n",
              "  </style>\n",
              "\n",
              "    <script>\n",
              "      const buttonEl =\n",
              "        document.querySelector('#df-1ae054bd-106a-4bf2-8af6-3ac79fd8db7b button.colab-df-convert');\n",
              "      buttonEl.style.display =\n",
              "        google.colab.kernel.accessAllowed ? 'block' : 'none';\n",
              "\n",
              "      async function convertToInteractive(key) {\n",
              "        const element = document.querySelector('#df-1ae054bd-106a-4bf2-8af6-3ac79fd8db7b');\n",
              "        const dataTable =\n",
              "          await google.colab.kernel.invokeFunction('convertToInteractive',\n",
              "                                                    [key], {});\n",
              "        if (!dataTable) return;\n",
              "\n",
              "        const docLinkHtml = 'Like what you see? Visit the ' +\n",
              "          '<a target=\"_blank\" href=https://colab.research.google.com/notebooks/data_table.ipynb>data table notebook</a>'\n",
              "          + ' to learn more about interactive tables.';\n",
              "        element.innerHTML = '';\n",
              "        dataTable['output_type'] = 'display_data';\n",
              "        await google.colab.output.renderOutput(dataTable, element);\n",
              "        const docLink = document.createElement('div');\n",
              "        docLink.innerHTML = docLinkHtml;\n",
              "        element.appendChild(docLink);\n",
              "      }\n",
              "    </script>\n",
              "  </div>\n",
              "\n",
              "\n",
              "<div id=\"df-92d02d74-72dd-484a-beb0-54d0f9f27dcb\">\n",
              "  <button class=\"colab-df-quickchart\" onclick=\"quickchart('df-92d02d74-72dd-484a-beb0-54d0f9f27dcb')\"\n",
              "            title=\"Suggest charts\"\n",
              "            style=\"display:none;\">\n",
              "\n",
              "<svg xmlns=\"http://www.w3.org/2000/svg\" height=\"24px\"viewBox=\"0 0 24 24\"\n",
              "     width=\"24px\">\n",
              "    <g>\n",
              "        <path d=\"M19 3H5c-1.1 0-2 .9-2 2v14c0 1.1.9 2 2 2h14c1.1 0 2-.9 2-2V5c0-1.1-.9-2-2-2zM9 17H7v-7h2v7zm4 0h-2V7h2v10zm4 0h-2v-4h2v4z\"/>\n",
              "    </g>\n",
              "</svg>\n",
              "  </button>\n",
              "\n",
              "<style>\n",
              "  .colab-df-quickchart {\n",
              "      --bg-color: #E8F0FE;\n",
              "      --fill-color: #1967D2;\n",
              "      --hover-bg-color: #E2EBFA;\n",
              "      --hover-fill-color: #174EA6;\n",
              "      --disabled-fill-color: #AAA;\n",
              "      --disabled-bg-color: #DDD;\n",
              "  }\n",
              "\n",
              "  [theme=dark] .colab-df-quickchart {\n",
              "      --bg-color: #3B4455;\n",
              "      --fill-color: #D2E3FC;\n",
              "      --hover-bg-color: #434B5C;\n",
              "      --hover-fill-color: #FFFFFF;\n",
              "      --disabled-bg-color: #3B4455;\n",
              "      --disabled-fill-color: #666;\n",
              "  }\n",
              "\n",
              "  .colab-df-quickchart {\n",
              "    background-color: var(--bg-color);\n",
              "    border: none;\n",
              "    border-radius: 50%;\n",
              "    cursor: pointer;\n",
              "    display: none;\n",
              "    fill: var(--fill-color);\n",
              "    height: 32px;\n",
              "    padding: 0;\n",
              "    width: 32px;\n",
              "  }\n",
              "\n",
              "  .colab-df-quickchart:hover {\n",
              "    background-color: var(--hover-bg-color);\n",
              "    box-shadow: 0 1px 2px rgba(60, 64, 67, 0.3), 0 1px 3px 1px rgba(60, 64, 67, 0.15);\n",
              "    fill: var(--button-hover-fill-color);\n",
              "  }\n",
              "\n",
              "  .colab-df-quickchart-complete:disabled,\n",
              "  .colab-df-quickchart-complete:disabled:hover {\n",
              "    background-color: var(--disabled-bg-color);\n",
              "    fill: var(--disabled-fill-color);\n",
              "    box-shadow: none;\n",
              "  }\n",
              "\n",
              "  .colab-df-spinner {\n",
              "    border: 2px solid var(--fill-color);\n",
              "    border-color: transparent;\n",
              "    border-bottom-color: var(--fill-color);\n",
              "    animation:\n",
              "      spin 1s steps(1) infinite;\n",
              "  }\n",
              "\n",
              "  @keyframes spin {\n",
              "    0% {\n",
              "      border-color: transparent;\n",
              "      border-bottom-color: var(--fill-color);\n",
              "      border-left-color: var(--fill-color);\n",
              "    }\n",
              "    20% {\n",
              "      border-color: transparent;\n",
              "      border-left-color: var(--fill-color);\n",
              "      border-top-color: var(--fill-color);\n",
              "    }\n",
              "    30% {\n",
              "      border-color: transparent;\n",
              "      border-left-color: var(--fill-color);\n",
              "      border-top-color: var(--fill-color);\n",
              "      border-right-color: var(--fill-color);\n",
              "    }\n",
              "    40% {\n",
              "      border-color: transparent;\n",
              "      border-right-color: var(--fill-color);\n",
              "      border-top-color: var(--fill-color);\n",
              "    }\n",
              "    60% {\n",
              "      border-color: transparent;\n",
              "      border-right-color: var(--fill-color);\n",
              "    }\n",
              "    80% {\n",
              "      border-color: transparent;\n",
              "      border-right-color: var(--fill-color);\n",
              "      border-bottom-color: var(--fill-color);\n",
              "    }\n",
              "    90% {\n",
              "      border-color: transparent;\n",
              "      border-bottom-color: var(--fill-color);\n",
              "    }\n",
              "  }\n",
              "</style>\n",
              "\n",
              "  <script>\n",
              "    async function quickchart(key) {\n",
              "      const quickchartButtonEl =\n",
              "        document.querySelector('#' + key + ' button');\n",
              "      quickchartButtonEl.disabled = true;  // To prevent multiple clicks.\n",
              "      quickchartButtonEl.classList.add('colab-df-spinner');\n",
              "      try {\n",
              "        const charts = await google.colab.kernel.invokeFunction(\n",
              "            'suggestCharts', [key], {});\n",
              "      } catch (error) {\n",
              "        console.error('Error during call to suggestCharts:', error);\n",
              "      }\n",
              "      quickchartButtonEl.classList.remove('colab-df-spinner');\n",
              "      quickchartButtonEl.classList.add('colab-df-quickchart-complete');\n",
              "    }\n",
              "    (() => {\n",
              "      let quickchartButtonEl =\n",
              "        document.querySelector('#df-92d02d74-72dd-484a-beb0-54d0f9f27dcb button');\n",
              "      quickchartButtonEl.style.display =\n",
              "        google.colab.kernel.accessAllowed ? 'block' : 'none';\n",
              "    })();\n",
              "  </script>\n",
              "</div>\n",
              "    </div>\n",
              "  </div>\n"
            ],
            "application/vnd.google.colaboratory.intrinsic+json": {
              "type": "dataframe",
              "variable_name": "ratings_df"
            }
          },
          "metadata": {},
          "execution_count": 4
        }
      ],
      "source": [
        "ratings_df.head()\n"
      ]
    },
    {
      "cell_type": "code",
      "execution_count": 5,
      "metadata": {
        "id": "eMfsveWjS4xP",
        "colab": {
          "base_uri": "https://localhost:8080/",
          "height": 223
        },
        "outputId": "70754985-dd4b-408a-ef74-234e48db2f99"
      },
      "outputs": [
        {
          "output_type": "execute_result",
          "data": {
            "text/plain": [
              "  movieId                               title  \\\n",
              "0      m1                    Toy Story (1995)   \n",
              "1      m2                      Jumanji (1995)   \n",
              "2      m3             Grumpier Old Men (1995)   \n",
              "3      m4            Waiting to Exhale (1995)   \n",
              "4      m5  Father of the Bride Part II (1995)   \n",
              "\n",
              "                                        genres  \n",
              "0  Adventure|Animation|Children|Comedy|Fantasy  \n",
              "1                   Adventure|Children|Fantasy  \n",
              "2                               Comedy|Romance  \n",
              "3                         Comedy|Drama|Romance  \n",
              "4                                       Comedy  "
            ],
            "text/html": [
              "\n",
              "  <div id=\"df-859b0106-4e45-4b15-b1a6-4d4e7cc8f942\" class=\"colab-df-container\">\n",
              "    <div>\n",
              "<style scoped>\n",
              "    .dataframe tbody tr th:only-of-type {\n",
              "        vertical-align: middle;\n",
              "    }\n",
              "\n",
              "    .dataframe tbody tr th {\n",
              "        vertical-align: top;\n",
              "    }\n",
              "\n",
              "    .dataframe thead th {\n",
              "        text-align: right;\n",
              "    }\n",
              "</style>\n",
              "<table border=\"1\" class=\"dataframe\">\n",
              "  <thead>\n",
              "    <tr style=\"text-align: right;\">\n",
              "      <th></th>\n",
              "      <th>movieId</th>\n",
              "      <th>title</th>\n",
              "      <th>genres</th>\n",
              "    </tr>\n",
              "  </thead>\n",
              "  <tbody>\n",
              "    <tr>\n",
              "      <th>0</th>\n",
              "      <td>m1</td>\n",
              "      <td>Toy Story (1995)</td>\n",
              "      <td>Adventure|Animation|Children|Comedy|Fantasy</td>\n",
              "    </tr>\n",
              "    <tr>\n",
              "      <th>1</th>\n",
              "      <td>m2</td>\n",
              "      <td>Jumanji (1995)</td>\n",
              "      <td>Adventure|Children|Fantasy</td>\n",
              "    </tr>\n",
              "    <tr>\n",
              "      <th>2</th>\n",
              "      <td>m3</td>\n",
              "      <td>Grumpier Old Men (1995)</td>\n",
              "      <td>Comedy|Romance</td>\n",
              "    </tr>\n",
              "    <tr>\n",
              "      <th>3</th>\n",
              "      <td>m4</td>\n",
              "      <td>Waiting to Exhale (1995)</td>\n",
              "      <td>Comedy|Drama|Romance</td>\n",
              "    </tr>\n",
              "    <tr>\n",
              "      <th>4</th>\n",
              "      <td>m5</td>\n",
              "      <td>Father of the Bride Part II (1995)</td>\n",
              "      <td>Comedy</td>\n",
              "    </tr>\n",
              "  </tbody>\n",
              "</table>\n",
              "</div>\n",
              "    <div class=\"colab-df-buttons\">\n",
              "\n",
              "  <div class=\"colab-df-container\">\n",
              "    <button class=\"colab-df-convert\" onclick=\"convertToInteractive('df-859b0106-4e45-4b15-b1a6-4d4e7cc8f942')\"\n",
              "            title=\"Convert this dataframe to an interactive table.\"\n",
              "            style=\"display:none;\">\n",
              "\n",
              "  <svg xmlns=\"http://www.w3.org/2000/svg\" height=\"24px\" viewBox=\"0 -960 960 960\">\n",
              "    <path d=\"M120-120v-720h720v720H120Zm60-500h600v-160H180v160Zm220 220h160v-160H400v160Zm0 220h160v-160H400v160ZM180-400h160v-160H180v160Zm440 0h160v-160H620v160ZM180-180h160v-160H180v160Zm440 0h160v-160H620v160Z\"/>\n",
              "  </svg>\n",
              "    </button>\n",
              "\n",
              "  <style>\n",
              "    .colab-df-container {\n",
              "      display:flex;\n",
              "      gap: 12px;\n",
              "    }\n",
              "\n",
              "    .colab-df-convert {\n",
              "      background-color: #E8F0FE;\n",
              "      border: none;\n",
              "      border-radius: 50%;\n",
              "      cursor: pointer;\n",
              "      display: none;\n",
              "      fill: #1967D2;\n",
              "      height: 32px;\n",
              "      padding: 0 0 0 0;\n",
              "      width: 32px;\n",
              "    }\n",
              "\n",
              "    .colab-df-convert:hover {\n",
              "      background-color: #E2EBFA;\n",
              "      box-shadow: 0px 1px 2px rgba(60, 64, 67, 0.3), 0px 1px 3px 1px rgba(60, 64, 67, 0.15);\n",
              "      fill: #174EA6;\n",
              "    }\n",
              "\n",
              "    .colab-df-buttons div {\n",
              "      margin-bottom: 4px;\n",
              "    }\n",
              "\n",
              "    [theme=dark] .colab-df-convert {\n",
              "      background-color: #3B4455;\n",
              "      fill: #D2E3FC;\n",
              "    }\n",
              "\n",
              "    [theme=dark] .colab-df-convert:hover {\n",
              "      background-color: #434B5C;\n",
              "      box-shadow: 0px 1px 3px 1px rgba(0, 0, 0, 0.15);\n",
              "      filter: drop-shadow(0px 1px 2px rgba(0, 0, 0, 0.3));\n",
              "      fill: #FFFFFF;\n",
              "    }\n",
              "  </style>\n",
              "\n",
              "    <script>\n",
              "      const buttonEl =\n",
              "        document.querySelector('#df-859b0106-4e45-4b15-b1a6-4d4e7cc8f942 button.colab-df-convert');\n",
              "      buttonEl.style.display =\n",
              "        google.colab.kernel.accessAllowed ? 'block' : 'none';\n",
              "\n",
              "      async function convertToInteractive(key) {\n",
              "        const element = document.querySelector('#df-859b0106-4e45-4b15-b1a6-4d4e7cc8f942');\n",
              "        const dataTable =\n",
              "          await google.colab.kernel.invokeFunction('convertToInteractive',\n",
              "                                                    [key], {});\n",
              "        if (!dataTable) return;\n",
              "\n",
              "        const docLinkHtml = 'Like what you see? Visit the ' +\n",
              "          '<a target=\"_blank\" href=https://colab.research.google.com/notebooks/data_table.ipynb>data table notebook</a>'\n",
              "          + ' to learn more about interactive tables.';\n",
              "        element.innerHTML = '';\n",
              "        dataTable['output_type'] = 'display_data';\n",
              "        await google.colab.output.renderOutput(dataTable, element);\n",
              "        const docLink = document.createElement('div');\n",
              "        docLink.innerHTML = docLinkHtml;\n",
              "        element.appendChild(docLink);\n",
              "      }\n",
              "    </script>\n",
              "  </div>\n",
              "\n",
              "\n",
              "<div id=\"df-5fb86e26-af8b-4ec1-8daa-d3da72652d83\">\n",
              "  <button class=\"colab-df-quickchart\" onclick=\"quickchart('df-5fb86e26-af8b-4ec1-8daa-d3da72652d83')\"\n",
              "            title=\"Suggest charts\"\n",
              "            style=\"display:none;\">\n",
              "\n",
              "<svg xmlns=\"http://www.w3.org/2000/svg\" height=\"24px\"viewBox=\"0 0 24 24\"\n",
              "     width=\"24px\">\n",
              "    <g>\n",
              "        <path d=\"M19 3H5c-1.1 0-2 .9-2 2v14c0 1.1.9 2 2 2h14c1.1 0 2-.9 2-2V5c0-1.1-.9-2-2-2zM9 17H7v-7h2v7zm4 0h-2V7h2v10zm4 0h-2v-4h2v4z\"/>\n",
              "    </g>\n",
              "</svg>\n",
              "  </button>\n",
              "\n",
              "<style>\n",
              "  .colab-df-quickchart {\n",
              "      --bg-color: #E8F0FE;\n",
              "      --fill-color: #1967D2;\n",
              "      --hover-bg-color: #E2EBFA;\n",
              "      --hover-fill-color: #174EA6;\n",
              "      --disabled-fill-color: #AAA;\n",
              "      --disabled-bg-color: #DDD;\n",
              "  }\n",
              "\n",
              "  [theme=dark] .colab-df-quickchart {\n",
              "      --bg-color: #3B4455;\n",
              "      --fill-color: #D2E3FC;\n",
              "      --hover-bg-color: #434B5C;\n",
              "      --hover-fill-color: #FFFFFF;\n",
              "      --disabled-bg-color: #3B4455;\n",
              "      --disabled-fill-color: #666;\n",
              "  }\n",
              "\n",
              "  .colab-df-quickchart {\n",
              "    background-color: var(--bg-color);\n",
              "    border: none;\n",
              "    border-radius: 50%;\n",
              "    cursor: pointer;\n",
              "    display: none;\n",
              "    fill: var(--fill-color);\n",
              "    height: 32px;\n",
              "    padding: 0;\n",
              "    width: 32px;\n",
              "  }\n",
              "\n",
              "  .colab-df-quickchart:hover {\n",
              "    background-color: var(--hover-bg-color);\n",
              "    box-shadow: 0 1px 2px rgba(60, 64, 67, 0.3), 0 1px 3px 1px rgba(60, 64, 67, 0.15);\n",
              "    fill: var(--button-hover-fill-color);\n",
              "  }\n",
              "\n",
              "  .colab-df-quickchart-complete:disabled,\n",
              "  .colab-df-quickchart-complete:disabled:hover {\n",
              "    background-color: var(--disabled-bg-color);\n",
              "    fill: var(--disabled-fill-color);\n",
              "    box-shadow: none;\n",
              "  }\n",
              "\n",
              "  .colab-df-spinner {\n",
              "    border: 2px solid var(--fill-color);\n",
              "    border-color: transparent;\n",
              "    border-bottom-color: var(--fill-color);\n",
              "    animation:\n",
              "      spin 1s steps(1) infinite;\n",
              "  }\n",
              "\n",
              "  @keyframes spin {\n",
              "    0% {\n",
              "      border-color: transparent;\n",
              "      border-bottom-color: var(--fill-color);\n",
              "      border-left-color: var(--fill-color);\n",
              "    }\n",
              "    20% {\n",
              "      border-color: transparent;\n",
              "      border-left-color: var(--fill-color);\n",
              "      border-top-color: var(--fill-color);\n",
              "    }\n",
              "    30% {\n",
              "      border-color: transparent;\n",
              "      border-left-color: var(--fill-color);\n",
              "      border-top-color: var(--fill-color);\n",
              "      border-right-color: var(--fill-color);\n",
              "    }\n",
              "    40% {\n",
              "      border-color: transparent;\n",
              "      border-right-color: var(--fill-color);\n",
              "      border-top-color: var(--fill-color);\n",
              "    }\n",
              "    60% {\n",
              "      border-color: transparent;\n",
              "      border-right-color: var(--fill-color);\n",
              "    }\n",
              "    80% {\n",
              "      border-color: transparent;\n",
              "      border-right-color: var(--fill-color);\n",
              "      border-bottom-color: var(--fill-color);\n",
              "    }\n",
              "    90% {\n",
              "      border-color: transparent;\n",
              "      border-bottom-color: var(--fill-color);\n",
              "    }\n",
              "  }\n",
              "</style>\n",
              "\n",
              "  <script>\n",
              "    async function quickchart(key) {\n",
              "      const quickchartButtonEl =\n",
              "        document.querySelector('#' + key + ' button');\n",
              "      quickchartButtonEl.disabled = true;  // To prevent multiple clicks.\n",
              "      quickchartButtonEl.classList.add('colab-df-spinner');\n",
              "      try {\n",
              "        const charts = await google.colab.kernel.invokeFunction(\n",
              "            'suggestCharts', [key], {});\n",
              "      } catch (error) {\n",
              "        console.error('Error during call to suggestCharts:', error);\n",
              "      }\n",
              "      quickchartButtonEl.classList.remove('colab-df-spinner');\n",
              "      quickchartButtonEl.classList.add('colab-df-quickchart-complete');\n",
              "    }\n",
              "    (() => {\n",
              "      let quickchartButtonEl =\n",
              "        document.querySelector('#df-5fb86e26-af8b-4ec1-8daa-d3da72652d83 button');\n",
              "      quickchartButtonEl.style.display =\n",
              "        google.colab.kernel.accessAllowed ? 'block' : 'none';\n",
              "    })();\n",
              "  </script>\n",
              "</div>\n",
              "    </div>\n",
              "  </div>\n"
            ],
            "application/vnd.google.colaboratory.intrinsic+json": {
              "type": "dataframe",
              "variable_name": "movies_df",
              "summary": "{\n  \"name\": \"movies_df\",\n  \"rows\": 9742,\n  \"fields\": [\n    {\n      \"column\": \"movieId\",\n      \"properties\": {\n        \"dtype\": \"string\",\n        \"num_unique_values\": 9742,\n        \"samples\": [\n          \"m45635\",\n          \"m1373\",\n          \"m7325\"\n        ],\n        \"semantic_type\": \"\",\n        \"description\": \"\"\n      }\n    },\n    {\n      \"column\": \"title\",\n      \"properties\": {\n        \"dtype\": \"string\",\n        \"num_unique_values\": 9737,\n        \"samples\": [\n          \"Teenage Mutant Ninja Turtles (2014)\",\n          \"America's Sweethearts (2001)\",\n          \"Cast Away (2000)\"\n        ],\n        \"semantic_type\": \"\",\n        \"description\": \"\"\n      }\n    },\n    {\n      \"column\": \"genres\",\n      \"properties\": {\n        \"dtype\": \"category\",\n        \"num_unique_values\": 951,\n        \"samples\": [\n          \"Crime|Mystery|Romance|Thriller\",\n          \"Action|Adventure|Comedy|Western\",\n          \"Crime|Drama|Musical\"\n        ],\n        \"semantic_type\": \"\",\n        \"description\": \"\"\n      }\n    }\n  ]\n}"
            }
          },
          "metadata": {},
          "execution_count": 5
        }
      ],
      "source": [
        "movies_df.head()"
      ]
    },
    {
      "cell_type": "markdown",
      "metadata": {
        "id": "-rAIXwDoBCda"
      },
      "source": [
        "### User-based CF"
      ]
    },
    {
      "cell_type": "markdown",
      "metadata": {
        "id": "isjp_rS0BCgh"
      },
      "source": [
        "Generate a matrix of ratings with the ratings_df dataframe. Note that in the matrix, the unrated items are filled with 0 (this means they have no impact upon the calculated Cosine value, but you need to be careful about them in other situations)."
      ]
    },
    {
      "cell_type": "code",
      "execution_count": 6,
      "metadata": {
        "id": "LKsmW549BNlq",
        "colab": {
          "base_uri": "https://localhost:8080/",
          "height": 475
        },
        "outputId": "4e2279d3-c098-418d-d792-2d1323b942d2"
      },
      "outputs": [
        {
          "output_type": "execute_result",
          "data": {
            "text/plain": [
              "movieId   m1  m10  m100  m100044  m100068  m100083  m100106  m100159  m100163  \\\n",
              "userId                                                                          \n",
              "u1       4.0  0.0   0.0      0.0      0.0      0.0      0.0      0.0      0.0   \n",
              "u10      0.0  0.0   0.0      0.0      0.0      0.0      0.0      0.0      0.0   \n",
              "u100     0.0  0.0   0.0      0.0      0.0      0.0      0.0      0.0      0.0   \n",
              "u101     0.0  0.0   0.0      0.0      0.0      0.0      0.0      0.0      0.0   \n",
              "u102     0.0  0.0   0.0      0.0      0.0      0.0      0.0      0.0      0.0   \n",
              "...      ...  ...   ...      ...      ...      ...      ...      ...      ...   \n",
              "u95      0.0  0.0   0.0      0.0      0.0      0.0      0.0      0.0      0.0   \n",
              "u96      5.0  0.0   0.0      0.0      0.0      0.0      0.0      0.0      0.0   \n",
              "u97      0.0  0.0   0.0      0.0      0.0      0.0      0.0      0.0      0.0   \n",
              "u98      4.5  0.0   0.0      0.0      0.0      0.0      0.0      0.0      0.0   \n",
              "u99      0.0  4.0   0.0      0.0      0.0      0.0      0.0      0.0      0.0   \n",
              "\n",
              "movieId  m100194  ...  m99750  m99764  m998  m99813  m99846  m99853  m999  \\\n",
              "userId            ...                                                       \n",
              "u1           0.0  ...     0.0     0.0   0.0     0.0     0.0     0.0   0.0   \n",
              "u10          0.0  ...     0.0     0.0   0.0     0.0     0.0     0.0   0.0   \n",
              "u100         0.0  ...     0.0     0.0   0.0     0.0     0.0     0.0   0.0   \n",
              "u101         0.0  ...     0.0     0.0   0.0     0.0     0.0     0.0   0.0   \n",
              "u102         0.0  ...     0.0     0.0   0.0     0.0     0.0     0.0   0.0   \n",
              "...          ...  ...     ...     ...   ...     ...     ...     ...   ...   \n",
              "u95          0.0  ...     0.0     0.0   0.0     0.0     0.0     0.0   0.0   \n",
              "u96          0.0  ...     0.0     0.0   0.0     0.0     0.0     0.0   0.0   \n",
              "u97          0.0  ...     0.0     0.0   0.0     0.0     0.0     0.0   0.0   \n",
              "u98          0.0  ...     0.0     0.0   0.0     0.0     0.0     0.0   0.0   \n",
              "u99          0.0  ...     0.0     0.0   0.0     0.0     0.0     0.0   0.0   \n",
              "\n",
              "movieId  m99910  m99917  m99992  \n",
              "userId                           \n",
              "u1          0.0     0.0     0.0  \n",
              "u10         0.0     0.0     0.0  \n",
              "u100        0.0     0.0     0.0  \n",
              "u101        0.0     0.0     0.0  \n",
              "u102        0.0     0.0     0.0  \n",
              "...         ...     ...     ...  \n",
              "u95         0.0     0.0     0.0  \n",
              "u96         0.0     0.0     0.0  \n",
              "u97         0.0     0.0     0.0  \n",
              "u98         0.0     0.0     0.0  \n",
              "u99         0.0     0.0     0.0  \n",
              "\n",
              "[610 rows x 9724 columns]"
            ],
            "text/html": [
              "\n",
              "  <div id=\"df-a1b0cbf5-b48a-4387-be77-162cc4e4250b\" class=\"colab-df-container\">\n",
              "    <div>\n",
              "<style scoped>\n",
              "    .dataframe tbody tr th:only-of-type {\n",
              "        vertical-align: middle;\n",
              "    }\n",
              "\n",
              "    .dataframe tbody tr th {\n",
              "        vertical-align: top;\n",
              "    }\n",
              "\n",
              "    .dataframe thead th {\n",
              "        text-align: right;\n",
              "    }\n",
              "</style>\n",
              "<table border=\"1\" class=\"dataframe\">\n",
              "  <thead>\n",
              "    <tr style=\"text-align: right;\">\n",
              "      <th>movieId</th>\n",
              "      <th>m1</th>\n",
              "      <th>m10</th>\n",
              "      <th>m100</th>\n",
              "      <th>m100044</th>\n",
              "      <th>m100068</th>\n",
              "      <th>m100083</th>\n",
              "      <th>m100106</th>\n",
              "      <th>m100159</th>\n",
              "      <th>m100163</th>\n",
              "      <th>m100194</th>\n",
              "      <th>...</th>\n",
              "      <th>m99750</th>\n",
              "      <th>m99764</th>\n",
              "      <th>m998</th>\n",
              "      <th>m99813</th>\n",
              "      <th>m99846</th>\n",
              "      <th>m99853</th>\n",
              "      <th>m999</th>\n",
              "      <th>m99910</th>\n",
              "      <th>m99917</th>\n",
              "      <th>m99992</th>\n",
              "    </tr>\n",
              "    <tr>\n",
              "      <th>userId</th>\n",
              "      <th></th>\n",
              "      <th></th>\n",
              "      <th></th>\n",
              "      <th></th>\n",
              "      <th></th>\n",
              "      <th></th>\n",
              "      <th></th>\n",
              "      <th></th>\n",
              "      <th></th>\n",
              "      <th></th>\n",
              "      <th></th>\n",
              "      <th></th>\n",
              "      <th></th>\n",
              "      <th></th>\n",
              "      <th></th>\n",
              "      <th></th>\n",
              "      <th></th>\n",
              "      <th></th>\n",
              "      <th></th>\n",
              "      <th></th>\n",
              "      <th></th>\n",
              "    </tr>\n",
              "  </thead>\n",
              "  <tbody>\n",
              "    <tr>\n",
              "      <th>u1</th>\n",
              "      <td>4.0</td>\n",
              "      <td>0.0</td>\n",
              "      <td>0.0</td>\n",
              "      <td>0.0</td>\n",
              "      <td>0.0</td>\n",
              "      <td>0.0</td>\n",
              "      <td>0.0</td>\n",
              "      <td>0.0</td>\n",
              "      <td>0.0</td>\n",
              "      <td>0.0</td>\n",
              "      <td>...</td>\n",
              "      <td>0.0</td>\n",
              "      <td>0.0</td>\n",
              "      <td>0.0</td>\n",
              "      <td>0.0</td>\n",
              "      <td>0.0</td>\n",
              "      <td>0.0</td>\n",
              "      <td>0.0</td>\n",
              "      <td>0.0</td>\n",
              "      <td>0.0</td>\n",
              "      <td>0.0</td>\n",
              "    </tr>\n",
              "    <tr>\n",
              "      <th>u10</th>\n",
              "      <td>0.0</td>\n",
              "      <td>0.0</td>\n",
              "      <td>0.0</td>\n",
              "      <td>0.0</td>\n",
              "      <td>0.0</td>\n",
              "      <td>0.0</td>\n",
              "      <td>0.0</td>\n",
              "      <td>0.0</td>\n",
              "      <td>0.0</td>\n",
              "      <td>0.0</td>\n",
              "      <td>...</td>\n",
              "      <td>0.0</td>\n",
              "      <td>0.0</td>\n",
              "      <td>0.0</td>\n",
              "      <td>0.0</td>\n",
              "      <td>0.0</td>\n",
              "      <td>0.0</td>\n",
              "      <td>0.0</td>\n",
              "      <td>0.0</td>\n",
              "      <td>0.0</td>\n",
              "      <td>0.0</td>\n",
              "    </tr>\n",
              "    <tr>\n",
              "      <th>u100</th>\n",
              "      <td>0.0</td>\n",
              "      <td>0.0</td>\n",
              "      <td>0.0</td>\n",
              "      <td>0.0</td>\n",
              "      <td>0.0</td>\n",
              "      <td>0.0</td>\n",
              "      <td>0.0</td>\n",
              "      <td>0.0</td>\n",
              "      <td>0.0</td>\n",
              "      <td>0.0</td>\n",
              "      <td>...</td>\n",
              "      <td>0.0</td>\n",
              "      <td>0.0</td>\n",
              "      <td>0.0</td>\n",
              "      <td>0.0</td>\n",
              "      <td>0.0</td>\n",
              "      <td>0.0</td>\n",
              "      <td>0.0</td>\n",
              "      <td>0.0</td>\n",
              "      <td>0.0</td>\n",
              "      <td>0.0</td>\n",
              "    </tr>\n",
              "    <tr>\n",
              "      <th>u101</th>\n",
              "      <td>0.0</td>\n",
              "      <td>0.0</td>\n",
              "      <td>0.0</td>\n",
              "      <td>0.0</td>\n",
              "      <td>0.0</td>\n",
              "      <td>0.0</td>\n",
              "      <td>0.0</td>\n",
              "      <td>0.0</td>\n",
              "      <td>0.0</td>\n",
              "      <td>0.0</td>\n",
              "      <td>...</td>\n",
              "      <td>0.0</td>\n",
              "      <td>0.0</td>\n",
              "      <td>0.0</td>\n",
              "      <td>0.0</td>\n",
              "      <td>0.0</td>\n",
              "      <td>0.0</td>\n",
              "      <td>0.0</td>\n",
              "      <td>0.0</td>\n",
              "      <td>0.0</td>\n",
              "      <td>0.0</td>\n",
              "    </tr>\n",
              "    <tr>\n",
              "      <th>u102</th>\n",
              "      <td>0.0</td>\n",
              "      <td>0.0</td>\n",
              "      <td>0.0</td>\n",
              "      <td>0.0</td>\n",
              "      <td>0.0</td>\n",
              "      <td>0.0</td>\n",
              "      <td>0.0</td>\n",
              "      <td>0.0</td>\n",
              "      <td>0.0</td>\n",
              "      <td>0.0</td>\n",
              "      <td>...</td>\n",
              "      <td>0.0</td>\n",
              "      <td>0.0</td>\n",
              "      <td>0.0</td>\n",
              "      <td>0.0</td>\n",
              "      <td>0.0</td>\n",
              "      <td>0.0</td>\n",
              "      <td>0.0</td>\n",
              "      <td>0.0</td>\n",
              "      <td>0.0</td>\n",
              "      <td>0.0</td>\n",
              "    </tr>\n",
              "    <tr>\n",
              "      <th>...</th>\n",
              "      <td>...</td>\n",
              "      <td>...</td>\n",
              "      <td>...</td>\n",
              "      <td>...</td>\n",
              "      <td>...</td>\n",
              "      <td>...</td>\n",
              "      <td>...</td>\n",
              "      <td>...</td>\n",
              "      <td>...</td>\n",
              "      <td>...</td>\n",
              "      <td>...</td>\n",
              "      <td>...</td>\n",
              "      <td>...</td>\n",
              "      <td>...</td>\n",
              "      <td>...</td>\n",
              "      <td>...</td>\n",
              "      <td>...</td>\n",
              "      <td>...</td>\n",
              "      <td>...</td>\n",
              "      <td>...</td>\n",
              "      <td>...</td>\n",
              "    </tr>\n",
              "    <tr>\n",
              "      <th>u95</th>\n",
              "      <td>0.0</td>\n",
              "      <td>0.0</td>\n",
              "      <td>0.0</td>\n",
              "      <td>0.0</td>\n",
              "      <td>0.0</td>\n",
              "      <td>0.0</td>\n",
              "      <td>0.0</td>\n",
              "      <td>0.0</td>\n",
              "      <td>0.0</td>\n",
              "      <td>0.0</td>\n",
              "      <td>...</td>\n",
              "      <td>0.0</td>\n",
              "      <td>0.0</td>\n",
              "      <td>0.0</td>\n",
              "      <td>0.0</td>\n",
              "      <td>0.0</td>\n",
              "      <td>0.0</td>\n",
              "      <td>0.0</td>\n",
              "      <td>0.0</td>\n",
              "      <td>0.0</td>\n",
              "      <td>0.0</td>\n",
              "    </tr>\n",
              "    <tr>\n",
              "      <th>u96</th>\n",
              "      <td>5.0</td>\n",
              "      <td>0.0</td>\n",
              "      <td>0.0</td>\n",
              "      <td>0.0</td>\n",
              "      <td>0.0</td>\n",
              "      <td>0.0</td>\n",
              "      <td>0.0</td>\n",
              "      <td>0.0</td>\n",
              "      <td>0.0</td>\n",
              "      <td>0.0</td>\n",
              "      <td>...</td>\n",
              "      <td>0.0</td>\n",
              "      <td>0.0</td>\n",
              "      <td>0.0</td>\n",
              "      <td>0.0</td>\n",
              "      <td>0.0</td>\n",
              "      <td>0.0</td>\n",
              "      <td>0.0</td>\n",
              "      <td>0.0</td>\n",
              "      <td>0.0</td>\n",
              "      <td>0.0</td>\n",
              "    </tr>\n",
              "    <tr>\n",
              "      <th>u97</th>\n",
              "      <td>0.0</td>\n",
              "      <td>0.0</td>\n",
              "      <td>0.0</td>\n",
              "      <td>0.0</td>\n",
              "      <td>0.0</td>\n",
              "      <td>0.0</td>\n",
              "      <td>0.0</td>\n",
              "      <td>0.0</td>\n",
              "      <td>0.0</td>\n",
              "      <td>0.0</td>\n",
              "      <td>...</td>\n",
              "      <td>0.0</td>\n",
              "      <td>0.0</td>\n",
              "      <td>0.0</td>\n",
              "      <td>0.0</td>\n",
              "      <td>0.0</td>\n",
              "      <td>0.0</td>\n",
              "      <td>0.0</td>\n",
              "      <td>0.0</td>\n",
              "      <td>0.0</td>\n",
              "      <td>0.0</td>\n",
              "    </tr>\n",
              "    <tr>\n",
              "      <th>u98</th>\n",
              "      <td>4.5</td>\n",
              "      <td>0.0</td>\n",
              "      <td>0.0</td>\n",
              "      <td>0.0</td>\n",
              "      <td>0.0</td>\n",
              "      <td>0.0</td>\n",
              "      <td>0.0</td>\n",
              "      <td>0.0</td>\n",
              "      <td>0.0</td>\n",
              "      <td>0.0</td>\n",
              "      <td>...</td>\n",
              "      <td>0.0</td>\n",
              "      <td>0.0</td>\n",
              "      <td>0.0</td>\n",
              "      <td>0.0</td>\n",
              "      <td>0.0</td>\n",
              "      <td>0.0</td>\n",
              "      <td>0.0</td>\n",
              "      <td>0.0</td>\n",
              "      <td>0.0</td>\n",
              "      <td>0.0</td>\n",
              "    </tr>\n",
              "    <tr>\n",
              "      <th>u99</th>\n",
              "      <td>0.0</td>\n",
              "      <td>4.0</td>\n",
              "      <td>0.0</td>\n",
              "      <td>0.0</td>\n",
              "      <td>0.0</td>\n",
              "      <td>0.0</td>\n",
              "      <td>0.0</td>\n",
              "      <td>0.0</td>\n",
              "      <td>0.0</td>\n",
              "      <td>0.0</td>\n",
              "      <td>...</td>\n",
              "      <td>0.0</td>\n",
              "      <td>0.0</td>\n",
              "      <td>0.0</td>\n",
              "      <td>0.0</td>\n",
              "      <td>0.0</td>\n",
              "      <td>0.0</td>\n",
              "      <td>0.0</td>\n",
              "      <td>0.0</td>\n",
              "      <td>0.0</td>\n",
              "      <td>0.0</td>\n",
              "    </tr>\n",
              "  </tbody>\n",
              "</table>\n",
              "<p>610 rows × 9724 columns</p>\n",
              "</div>\n",
              "    <div class=\"colab-df-buttons\">\n",
              "\n",
              "  <div class=\"colab-df-container\">\n",
              "    <button class=\"colab-df-convert\" onclick=\"convertToInteractive('df-a1b0cbf5-b48a-4387-be77-162cc4e4250b')\"\n",
              "            title=\"Convert this dataframe to an interactive table.\"\n",
              "            style=\"display:none;\">\n",
              "\n",
              "  <svg xmlns=\"http://www.w3.org/2000/svg\" height=\"24px\" viewBox=\"0 -960 960 960\">\n",
              "    <path d=\"M120-120v-720h720v720H120Zm60-500h600v-160H180v160Zm220 220h160v-160H400v160Zm0 220h160v-160H400v160ZM180-400h160v-160H180v160Zm440 0h160v-160H620v160ZM180-180h160v-160H180v160Zm440 0h160v-160H620v160Z\"/>\n",
              "  </svg>\n",
              "    </button>\n",
              "\n",
              "  <style>\n",
              "    .colab-df-container {\n",
              "      display:flex;\n",
              "      gap: 12px;\n",
              "    }\n",
              "\n",
              "    .colab-df-convert {\n",
              "      background-color: #E8F0FE;\n",
              "      border: none;\n",
              "      border-radius: 50%;\n",
              "      cursor: pointer;\n",
              "      display: none;\n",
              "      fill: #1967D2;\n",
              "      height: 32px;\n",
              "      padding: 0 0 0 0;\n",
              "      width: 32px;\n",
              "    }\n",
              "\n",
              "    .colab-df-convert:hover {\n",
              "      background-color: #E2EBFA;\n",
              "      box-shadow: 0px 1px 2px rgba(60, 64, 67, 0.3), 0px 1px 3px 1px rgba(60, 64, 67, 0.15);\n",
              "      fill: #174EA6;\n",
              "    }\n",
              "\n",
              "    .colab-df-buttons div {\n",
              "      margin-bottom: 4px;\n",
              "    }\n",
              "\n",
              "    [theme=dark] .colab-df-convert {\n",
              "      background-color: #3B4455;\n",
              "      fill: #D2E3FC;\n",
              "    }\n",
              "\n",
              "    [theme=dark] .colab-df-convert:hover {\n",
              "      background-color: #434B5C;\n",
              "      box-shadow: 0px 1px 3px 1px rgba(0, 0, 0, 0.15);\n",
              "      filter: drop-shadow(0px 1px 2px rgba(0, 0, 0, 0.3));\n",
              "      fill: #FFFFFF;\n",
              "    }\n",
              "  </style>\n",
              "\n",
              "    <script>\n",
              "      const buttonEl =\n",
              "        document.querySelector('#df-a1b0cbf5-b48a-4387-be77-162cc4e4250b button.colab-df-convert');\n",
              "      buttonEl.style.display =\n",
              "        google.colab.kernel.accessAllowed ? 'block' : 'none';\n",
              "\n",
              "      async function convertToInteractive(key) {\n",
              "        const element = document.querySelector('#df-a1b0cbf5-b48a-4387-be77-162cc4e4250b');\n",
              "        const dataTable =\n",
              "          await google.colab.kernel.invokeFunction('convertToInteractive',\n",
              "                                                    [key], {});\n",
              "        if (!dataTable) return;\n",
              "\n",
              "        const docLinkHtml = 'Like what you see? Visit the ' +\n",
              "          '<a target=\"_blank\" href=https://colab.research.google.com/notebooks/data_table.ipynb>data table notebook</a>'\n",
              "          + ' to learn more about interactive tables.';\n",
              "        element.innerHTML = '';\n",
              "        dataTable['output_type'] = 'display_data';\n",
              "        await google.colab.output.renderOutput(dataTable, element);\n",
              "        const docLink = document.createElement('div');\n",
              "        docLink.innerHTML = docLinkHtml;\n",
              "        element.appendChild(docLink);\n",
              "      }\n",
              "    </script>\n",
              "  </div>\n",
              "\n",
              "\n",
              "<div id=\"df-57bbeb3f-72f0-4447-bcd6-18fcabf26a3f\">\n",
              "  <button class=\"colab-df-quickchart\" onclick=\"quickchart('df-57bbeb3f-72f0-4447-bcd6-18fcabf26a3f')\"\n",
              "            title=\"Suggest charts\"\n",
              "            style=\"display:none;\">\n",
              "\n",
              "<svg xmlns=\"http://www.w3.org/2000/svg\" height=\"24px\"viewBox=\"0 0 24 24\"\n",
              "     width=\"24px\">\n",
              "    <g>\n",
              "        <path d=\"M19 3H5c-1.1 0-2 .9-2 2v14c0 1.1.9 2 2 2h14c1.1 0 2-.9 2-2V5c0-1.1-.9-2-2-2zM9 17H7v-7h2v7zm4 0h-2V7h2v10zm4 0h-2v-4h2v4z\"/>\n",
              "    </g>\n",
              "</svg>\n",
              "  </button>\n",
              "\n",
              "<style>\n",
              "  .colab-df-quickchart {\n",
              "      --bg-color: #E8F0FE;\n",
              "      --fill-color: #1967D2;\n",
              "      --hover-bg-color: #E2EBFA;\n",
              "      --hover-fill-color: #174EA6;\n",
              "      --disabled-fill-color: #AAA;\n",
              "      --disabled-bg-color: #DDD;\n",
              "  }\n",
              "\n",
              "  [theme=dark] .colab-df-quickchart {\n",
              "      --bg-color: #3B4455;\n",
              "      --fill-color: #D2E3FC;\n",
              "      --hover-bg-color: #434B5C;\n",
              "      --hover-fill-color: #FFFFFF;\n",
              "      --disabled-bg-color: #3B4455;\n",
              "      --disabled-fill-color: #666;\n",
              "  }\n",
              "\n",
              "  .colab-df-quickchart {\n",
              "    background-color: var(--bg-color);\n",
              "    border: none;\n",
              "    border-radius: 50%;\n",
              "    cursor: pointer;\n",
              "    display: none;\n",
              "    fill: var(--fill-color);\n",
              "    height: 32px;\n",
              "    padding: 0;\n",
              "    width: 32px;\n",
              "  }\n",
              "\n",
              "  .colab-df-quickchart:hover {\n",
              "    background-color: var(--hover-bg-color);\n",
              "    box-shadow: 0 1px 2px rgba(60, 64, 67, 0.3), 0 1px 3px 1px rgba(60, 64, 67, 0.15);\n",
              "    fill: var(--button-hover-fill-color);\n",
              "  }\n",
              "\n",
              "  .colab-df-quickchart-complete:disabled,\n",
              "  .colab-df-quickchart-complete:disabled:hover {\n",
              "    background-color: var(--disabled-bg-color);\n",
              "    fill: var(--disabled-fill-color);\n",
              "    box-shadow: none;\n",
              "  }\n",
              "\n",
              "  .colab-df-spinner {\n",
              "    border: 2px solid var(--fill-color);\n",
              "    border-color: transparent;\n",
              "    border-bottom-color: var(--fill-color);\n",
              "    animation:\n",
              "      spin 1s steps(1) infinite;\n",
              "  }\n",
              "\n",
              "  @keyframes spin {\n",
              "    0% {\n",
              "      border-color: transparent;\n",
              "      border-bottom-color: var(--fill-color);\n",
              "      border-left-color: var(--fill-color);\n",
              "    }\n",
              "    20% {\n",
              "      border-color: transparent;\n",
              "      border-left-color: var(--fill-color);\n",
              "      border-top-color: var(--fill-color);\n",
              "    }\n",
              "    30% {\n",
              "      border-color: transparent;\n",
              "      border-left-color: var(--fill-color);\n",
              "      border-top-color: var(--fill-color);\n",
              "      border-right-color: var(--fill-color);\n",
              "    }\n",
              "    40% {\n",
              "      border-color: transparent;\n",
              "      border-right-color: var(--fill-color);\n",
              "      border-top-color: var(--fill-color);\n",
              "    }\n",
              "    60% {\n",
              "      border-color: transparent;\n",
              "      border-right-color: var(--fill-color);\n",
              "    }\n",
              "    80% {\n",
              "      border-color: transparent;\n",
              "      border-right-color: var(--fill-color);\n",
              "      border-bottom-color: var(--fill-color);\n",
              "    }\n",
              "    90% {\n",
              "      border-color: transparent;\n",
              "      border-bottom-color: var(--fill-color);\n",
              "    }\n",
              "  }\n",
              "</style>\n",
              "\n",
              "  <script>\n",
              "    async function quickchart(key) {\n",
              "      const quickchartButtonEl =\n",
              "        document.querySelector('#' + key + ' button');\n",
              "      quickchartButtonEl.disabled = true;  // To prevent multiple clicks.\n",
              "      quickchartButtonEl.classList.add('colab-df-spinner');\n",
              "      try {\n",
              "        const charts = await google.colab.kernel.invokeFunction(\n",
              "            'suggestCharts', [key], {});\n",
              "      } catch (error) {\n",
              "        console.error('Error during call to suggestCharts:', error);\n",
              "      }\n",
              "      quickchartButtonEl.classList.remove('colab-df-spinner');\n",
              "      quickchartButtonEl.classList.add('colab-df-quickchart-complete');\n",
              "    }\n",
              "    (() => {\n",
              "      let quickchartButtonEl =\n",
              "        document.querySelector('#df-57bbeb3f-72f0-4447-bcd6-18fcabf26a3f button');\n",
              "      quickchartButtonEl.style.display =\n",
              "        google.colab.kernel.accessAllowed ? 'block' : 'none';\n",
              "    })();\n",
              "  </script>\n",
              "</div>\n",
              "    </div>\n",
              "  </div>\n"
            ],
            "application/vnd.google.colaboratory.intrinsic+json": {
              "type": "dataframe",
              "variable_name": "r_df_matrix"
            }
          },
          "metadata": {},
          "execution_count": 6
        }
      ],
      "source": [
        "r_df_matrix = ratings_df.pivot_table(index='userId', columns='movieId', values='rating').fillna(0)\n",
        "r_df_matrix"
      ]
    },
    {
      "cell_type": "markdown",
      "metadata": {
        "id": "SpJXEqQ_BKxg"
      },
      "source": [
        "The left hand bold column is the [index of the dataframe](https://pandas.pydata.org/pandas-docs/stable/user_guide/indexing.html) - that is, an attribute of the dataframe that allows fast lookup of rows. In this case, userId has become our index column.\n",
        "\n",
        "You can get all the index of users using the .index"
      ]
    },
    {
      "cell_type": "code",
      "execution_count": 7,
      "metadata": {
        "id": "RRIXYwQgBRt2",
        "colab": {
          "base_uri": "https://localhost:8080/"
        },
        "outputId": "81bf6719-78f6-4e04-d5de-0d74b9caa33e"
      },
      "outputs": [
        {
          "output_type": "execute_result",
          "data": {
            "text/plain": [
              "Index(['u1', 'u10', 'u100', 'u101', 'u102', 'u103', 'u104', 'u105', 'u106',\n",
              "       'u107',\n",
              "       ...\n",
              "       'u90', 'u91', 'u92', 'u93', 'u94', 'u95', 'u96', 'u97', 'u98', 'u99'],\n",
              "      dtype='object', name='userId', length=610)"
            ]
          },
          "metadata": {},
          "execution_count": 7
        }
      ],
      "source": [
        "r_df_matrix.index"
      ]
    },
    {
      "cell_type": "markdown",
      "metadata": {
        "id": "y8RcZo1bBU8O"
      },
      "source": [
        "You can also use [.loc](https://pandas.pydata.org/pandas-docs/stable/reference/api/pandas.DataFrame.loc.html) to access rows, by their \"index\". For instance, we can get all ratings of a specific user with userId=‘u1’."
      ]
    },
    {
      "cell_type": "code",
      "execution_count": 8,
      "metadata": {
        "id": "77XOSOdqBXmw",
        "colab": {
          "base_uri": "https://localhost:8080/"
        },
        "outputId": "cea4e5b9-19b4-4013-dc92-b93ec1f69b11"
      },
      "outputs": [
        {
          "output_type": "execute_result",
          "data": {
            "text/plain": [
              "movieId\n",
              "m1         4.0\n",
              "m10        0.0\n",
              "m100       0.0\n",
              "m100044    0.0\n",
              "m100068    0.0\n",
              "          ... \n",
              "m99853     0.0\n",
              "m999       0.0\n",
              "m99910     0.0\n",
              "m99917     0.0\n",
              "m99992     0.0\n",
              "Name: u1, Length: 9724, dtype: float64"
            ]
          },
          "metadata": {},
          "execution_count": 8
        }
      ],
      "source": [
        "r_df_matrix.loc['u1']"
      ]
    },
    {
      "cell_type": "markdown",
      "metadata": {
        "id": "cljwm-QyZy6i"
      },
      "source": [
        "### Matrix Analysis\n",
        "\n",
        "This task is concerned with examining `r_df_matrix`. Lets define *density* as the percentage of the matrix that that has been filled in (i.e. contains user interactions). How dense is `r_df_matrix`?"
      ]
    },
    {
      "cell_type": "code",
      "execution_count": 9,
      "metadata": {
        "id": "d8XScXBN0C2b",
        "colab": {
          "base_uri": "https://localhost:8080/"
        },
        "outputId": "c5b45097-2040-4aef-a5ef-326811521552"
      },
      "outputs": [
        {
          "output_type": "stream",
          "name": "stdout",
          "text": [
            "1.6999683055613624\n",
            "5.099904916684087\n"
          ]
        }
      ],
      "source": [
        "np_matrix = r_df_matrix.to_numpy()\n",
        "total = np_matrix.size\n",
        "# print(total)\n",
        "non_zero = np.count_nonzero(np_matrix)\n",
        "# print(non_zero)\n",
        "density = (non_zero / total) * 100\n",
        "\n",
        "dense_matrix_in_bytes = r_df_matrix.size * 4\n",
        "non_empty_entries = np.count_nonzero(r_df_matrix)\n",
        "sparse_size_in_bytes = non_empty_entries * 4 * 3\n",
        "\n",
        "ratio = (sparse_size_in_bytes / dense_matrix_in_bytes)*100\n",
        "print(density)\n",
        "print(ratio)"
      ]
    },
    {
      "cell_type": "markdown",
      "metadata": {
        "id": "Rt9_SlC4Beut"
      },
      "source": [
        "User-based CF heavily relies upon Cosine similarity. We are providing a Cosine similarity implementation based on numpy operations. We also show how to use `df.loc` to get all the ratings of a given user from `r_df_matrix` as a Series - we then make this into a numpy array using the [.values](https://pandas.pydata.org/docs/reference/api/pandas.Series.values.html) property.\n"
      ]
    },
    {
      "cell_type": "code",
      "execution_count": 10,
      "metadata": {
        "id": "9NXXbCQsBbJW",
        "colab": {
          "base_uri": "https://localhost:8080/"
        },
        "outputId": "aae35049-509a-4e5d-e9b8-7f81674b507d"
      },
      "outputs": [
        {
          "output_type": "stream",
          "name": "stdout",
          "text": [
            "Cosine similarity between userId=1 and itself is:\n",
            "1.0\n",
            "Cosine similarity between userId=1 and userId=607 is:\n",
            "0.2693892401115333\n"
          ]
        }
      ],
      "source": [
        "def cos_sim(a, b):\n",
        "  from numpy.linalg import norm\n",
        "  from numpy import dot\n",
        "  return dot(a, b)/(norm(a)*norm(b))\n",
        "\n",
        "print('Cosine similarity between userId=1 and itself is:')\n",
        "print(cos_sim(r_df_matrix.loc['u1'].values, r_df_matrix.loc['u1'].values))\n",
        "\n",
        "print('Cosine similarity between userId=1 and userId=607 is:')\n",
        "print(cos_sim(r_df_matrix.loc['u1'].values, r_df_matrix.loc['u607'].values))"
      ]
    },
    {
      "cell_type": "markdown",
      "metadata": {
        "id": "B061AiTiBlWJ"
      },
      "source": [
        "### Get the most similar users.\n",
        "\n",
        "User-based CF is based on user-neighbourhood, implement a function ` get_most_similar_users(userId : str, k : int = 10)` that identifies the userIds of the k most similar users to the specified userId, and their corresponding cosine similarities.\n",
        "\n",
        "In determining the most similar users, you should break ties based on their position in the array - for instance, if two users are tied as 2nd most similar user, the user who appears earlier should be 2nd, and the latter user third.\n",
        "\n",
        "You should exclude the compared user itself when generating a list of the most similar users.\n",
        "\n"
      ]
    },
    {
      "cell_type": "code",
      "execution_count": 11,
      "metadata": {
        "id": "rj1wpnS7BbMF",
        "colab": {
          "base_uri": "https://localhost:8080/"
        },
        "outputId": "e621b942-2889-4135-c966-907501823cda"
      },
      "outputs": [
        {
          "output_type": "stream",
          "name": "stdout",
          "text": [
            "(['u313', 'u377', 'u532', 'u527', 'u312', 'u555', 'u271', 'u561', 'u138', 'u1'], [0.07818732282993371, 0.07168754454516074, 0.07093737641477581, 0.07074797711064541, 0.06792338269875133, 0.0650948497133793, 0.06434597256683772, 0.0632250620180365, 0.06243184269980564, 0.05972026184426368])\n"
          ]
        }
      ],
      "source": [
        "from scipy.stats import rankdata\n",
        "\n",
        "def get_most_similar_users(userId : str, k : int = 10) -> Tuple[Sequence[str], Sequence[float]]:\n",
        "  u1_values = r_df_matrix.loc[userId].values\n",
        "  cosines = []\n",
        "\n",
        "  #calculating cosines between given user and each other user\n",
        "  for u in r_df_matrix.index:\n",
        "    if u != userId:\n",
        "      u2_values = r_df_matrix.loc[u].values\n",
        "      cos = cos_sim(u1_values, u2_values)\n",
        "      cosines.append((u, cos))\n",
        "\n",
        "  #sorting list with cosine similarities\n",
        "  cosines.sort(key=lambda x: x[1], reverse = True)\n",
        "  top_k_users = cosines[:k]\n",
        "  ranked_users = rankdata([-sim for _, sim in top_k_users])\n",
        "\n",
        "  topk_userids = [user for rank, (user, _) in zip(ranked_users, top_k_users)] # a list/numpy array of k userIds of top-k users\n",
        "  topk_cosines = [sim for _, sim in top_k_users]  # a list/numpy array of k cosine similarity values\n",
        "  return (topk_userids, topk_cosines)\n",
        "\n",
        "print(get_most_similar_users(userId='u3', k=10))\n",
        "\n"
      ]
    },
    {
      "cell_type": "code",
      "execution_count": 12,
      "metadata": {
        "id": "-9VnyzFLDtmN",
        "colab": {
          "base_uri": "https://localhost:8080/"
        },
        "outputId": "6a6815b3-1d3b-4afb-e97f-e0f6d851f4f8"
      },
      "outputs": [
        {
          "output_type": "stream",
          "name": "stdout",
          "text": [
            "(['u159'], [0.28826463078187997])\n"
          ]
        }
      ],
      "source": [
        "print(get_most_similar_users(userId='u10', k=1))"
      ]
    },
    {
      "cell_type": "code",
      "execution_count": 13,
      "metadata": {
        "id": "UVnsPTKjzqnD",
        "colab": {
          "base_uri": "https://localhost:8080/"
        },
        "outputId": "c67cfc86-96c0-43f9-ce9e-190d30ac7eb0"
      },
      "outputs": [
        {
          "output_type": "stream",
          "name": "stdout",
          "text": [
            "(['u159', 'u143', 'u563', 'u177', 'u189', 'u509', 'u491', 'u466', 'u68', 'u331'], [0.28826463078187997, 0.27390191686998816, 0.26435888836066573, 0.24630531416437682, 0.231226587055978, 0.2223185977186839, 0.21911658202133055, 0.21636146879454135, 0.21520808397031388, 0.21436248939197988])\n"
          ]
        }
      ],
      "source": [
        "print(get_most_similar_users(userId='u10', k=10))"
      ]
    },
    {
      "cell_type": "code",
      "execution_count": 14,
      "metadata": {
        "id": "PIMwvzqJ2YuE",
        "colab": {
          "base_uri": "https://localhost:8080/"
        },
        "outputId": "429739a8-341e-4803-caf0-057f153224ef"
      },
      "outputs": [
        {
          "output_type": "stream",
          "name": "stdout",
          "text": [
            "(['u453', 'u45'], [0.27983214052930266, 0.26236874974336444])\n"
          ]
        }
      ],
      "source": [
        "print(get_most_similar_users(userId='u500', k=2))"
      ]
    },
    {
      "cell_type": "markdown",
      "metadata": {
        "id": "t9ZepSCnBwc7"
      },
      "source": [
        "### Predict ratings via user-based CF.\n",
        "\n",
        "Now implement your user-based CF, within a `predict_rating()` function. The aim of this function is to predict the rating of a given userId for a given itemId.\n",
        "\n",
        "Implementation should make use of `get_most_similar_users()` implementation above, using k=10 nearest neighbours.\n",
        "- **If a neighbour has not rated a movie (e.g. rating = 0), skip that neighbour.**\n",
        "- **If unable to make a predicted rating, return 0.**"
      ]
    },
    {
      "cell_type": "code",
      "execution_count": 15,
      "metadata": {
        "id": "0eX33RkTBbS2",
        "colab": {
          "base_uri": "https://localhost:8080/"
        },
        "outputId": "2a6e9027-ee31-4f7a-af4d-9f808ed1b40b"
      },
      "outputs": [
        {
          "output_type": "stream",
          "name": "stdout",
          "text": [
            "Predicted rating: 3.9\n",
            "Actual rating: 4.0\n"
          ]
        }
      ],
      "source": [
        "def predict_rating(userId : str, movieId : str) -> float:\n",
        "  topk_userids, topk_cosines = get_most_similar_users(userId, k=10)\n",
        "\n",
        "  upper = 0\n",
        "  lower = 0\n",
        "\n",
        "  #using formula calculating numerator and denominator\n",
        "  for u, sim in zip(topk_userids, topk_cosines):\n",
        "    if r_df_matrix.loc[u, movieId] == 0:\n",
        "      continue\n",
        "    upper += sim * (r_df_matrix.loc[u, movieId])\n",
        "    lower += abs(sim)\n",
        "\n",
        "  #making sure denominator is not equal to 0\n",
        "  if lower == 0:\n",
        "    return 0\n",
        "\n",
        "  #calculating predicted rating\n",
        "  predicted = upper / lower\n",
        "  predicted = round(predicted, 2)\n",
        "  return predicted\n",
        "\n",
        "\n",
        "print(\"Predicted rating:\", predict_rating(userId='u1', movieId='m1'))\n",
        "\n",
        "print(\"Actual rating:\", r_df_matrix.loc['u1']['m1'])"
      ]
    },
    {
      "cell_type": "markdown",
      "metadata": {
        "id": "CqfUghVsCA7G"
      },
      "source": [
        "###  Predict ratings via user-based CF with Mean-center normalisation.\n",
        "\n",
        "Users usually rate differently: (1) some rate high, while others low. (2) Some use more of the scale than others. However, the user-based CF we implemented above ignores these differences. To this end, we can apply normalisation to compensate. We are going to implement user-based CF with Mean-Center Normalisation.\n",
        "\n",
        "Provide implementations for `mean_rating(userId : str)` and `predict_rating_MC(userId : str, movieId : str)`.\n"
      ]
    },
    {
      "cell_type": "code",
      "execution_count": 16,
      "metadata": {
        "id": "-Q5Efb4zB5_O",
        "colab": {
          "base_uri": "https://localhost:8080/"
        },
        "outputId": "20f42bec-fbeb-4e70-fa3c-69e40e13aebf"
      },
      "outputs": [
        {
          "output_type": "stream",
          "name": "stdout",
          "text": [
            "Mean rating of user u5: 3.6363636363636362\n",
            "Predicted rating: 4.769198526598024\n",
            "Actual rating: 4.0\n"
          ]
        }
      ],
      "source": [
        "def mean_rating(userId : str) -> float:\n",
        "  #extracting all non-zero ratings from given user\n",
        "  ratings = r_df_matrix.loc[userId]\n",
        "  non_zero_ratings = ratings[ratings != 0]\n",
        "  if non_zero_ratings.empty:\n",
        "        return 0\n",
        "  mean_rating = non_zero_ratings.mean()   #calculating mean value\n",
        "  return mean_rating\n",
        "\n",
        "print(\"Mean rating of user u5:\", mean_rating('u5') )\n",
        "\n",
        "def predict_rating_MC(userId : str, movieId : str) -> float:\n",
        "  #finding most similiar users\n",
        "  topk_userids, topk_cosines = get_most_similar_users(userId, k=10)\n",
        "\n",
        "  upper = 0\n",
        "  lower = 0\n",
        "\n",
        "  user_mean = mean_rating(userId)         #finding mean rating of given user\n",
        "\n",
        "  #iterating through each user in most similiar users and calculating numerator and denominator\n",
        "  for u, sim in zip(topk_userids, topk_cosines):\n",
        "    if r_df_matrix.loc[u, movieId] == 0:\n",
        "      continue\n",
        "    upper += sim * (r_df_matrix.loc[u, movieId] - mean_rating(u))\n",
        "    lower += abs(sim)\n",
        "\n",
        "  if lower == 0:\n",
        "    return 0\n",
        "\n",
        "  #using formula\n",
        "  predicted = user_mean + (upper / lower) # predicted rating value with mean-centering\n",
        "  return predicted\n",
        "\n",
        "print(\"Predicted rating:\", predict_rating_MC('u1', 'm1'))\n",
        "print(\"Actual rating:\", r_df_matrix.loc['u1']['m1'])"
      ]
    },
    {
      "cell_type": "markdown",
      "metadata": {
        "id": "17h6DqmGGh2f"
      },
      "source": [
        "### In this part, we will investigate explicit matrix factorisation."
      ]
    },
    {
      "cell_type": "markdown",
      "metadata": {
        "id": "L0oobMGk5eqv"
      },
      "source": [
        "We're going to use the Spotlight library - see https://github.com/maciejkula/spotlight"
      ]
    },
    {
      "cell_type": "code",
      "execution_count": 17,
      "metadata": {
        "id": "cDObURPI-Shz",
        "colab": {
          "base_uri": "https://localhost:8080/"
        },
        "outputId": "c7cc71d7-add0-42ca-9ad9-f805fe49f5f9"
      },
      "outputs": [
        {
          "output_type": "stream",
          "name": "stdout",
          "text": [
            "Collecting spotlight\n",
            "  Cloning https://github.com/cmacdonald/spotlight.git (to revision master) to /tmp/pip-install-mcgk8dv9/spotlight_488139adb9894ccb925ec9b87b002a49\n",
            "  Running command git clone --filter=blob:none --quiet https://github.com/cmacdonald/spotlight.git /tmp/pip-install-mcgk8dv9/spotlight_488139adb9894ccb925ec9b87b002a49\n",
            "  Resolved https://github.com/cmacdonald/spotlight.git to commit 814ddbb6a82c933d140c76823f128793515f948f\n",
            "  Preparing metadata (setup.py) ... \u001b[?25l\u001b[?25hdone\n",
            "Requirement already satisfied: torch>=0.4.0 in /usr/local/lib/python3.10/dist-packages (from spotlight) (2.3.0+cu121)\n",
            "Requirement already satisfied: filelock in /usr/local/lib/python3.10/dist-packages (from torch>=0.4.0->spotlight) (3.14.0)\n",
            "Requirement already satisfied: typing-extensions>=4.8.0 in /usr/local/lib/python3.10/dist-packages (from torch>=0.4.0->spotlight) (4.11.0)\n",
            "Requirement already satisfied: sympy in /usr/local/lib/python3.10/dist-packages (from torch>=0.4.0->spotlight) (1.12)\n",
            "Requirement already satisfied: networkx in /usr/local/lib/python3.10/dist-packages (from torch>=0.4.0->spotlight) (3.3)\n",
            "Requirement already satisfied: jinja2 in /usr/local/lib/python3.10/dist-packages (from torch>=0.4.0->spotlight) (3.1.4)\n",
            "Requirement already satisfied: fsspec in /usr/local/lib/python3.10/dist-packages (from torch>=0.4.0->spotlight) (2023.6.0)\n",
            "Collecting nvidia-cuda-nvrtc-cu12==12.1.105 (from torch>=0.4.0->spotlight)\n",
            "  Using cached nvidia_cuda_nvrtc_cu12-12.1.105-py3-none-manylinux1_x86_64.whl (23.7 MB)\n",
            "Collecting nvidia-cuda-runtime-cu12==12.1.105 (from torch>=0.4.0->spotlight)\n",
            "  Using cached nvidia_cuda_runtime_cu12-12.1.105-py3-none-manylinux1_x86_64.whl (823 kB)\n",
            "Collecting nvidia-cuda-cupti-cu12==12.1.105 (from torch>=0.4.0->spotlight)\n",
            "  Using cached nvidia_cuda_cupti_cu12-12.1.105-py3-none-manylinux1_x86_64.whl (14.1 MB)\n",
            "Collecting nvidia-cudnn-cu12==8.9.2.26 (from torch>=0.4.0->spotlight)\n",
            "  Using cached nvidia_cudnn_cu12-8.9.2.26-py3-none-manylinux1_x86_64.whl (731.7 MB)\n",
            "Collecting nvidia-cublas-cu12==12.1.3.1 (from torch>=0.4.0->spotlight)\n",
            "  Using cached nvidia_cublas_cu12-12.1.3.1-py3-none-manylinux1_x86_64.whl (410.6 MB)\n",
            "Collecting nvidia-cufft-cu12==11.0.2.54 (from torch>=0.4.0->spotlight)\n",
            "  Using cached nvidia_cufft_cu12-11.0.2.54-py3-none-manylinux1_x86_64.whl (121.6 MB)\n",
            "Collecting nvidia-curand-cu12==10.3.2.106 (from torch>=0.4.0->spotlight)\n",
            "  Using cached nvidia_curand_cu12-10.3.2.106-py3-none-manylinux1_x86_64.whl (56.5 MB)\n",
            "Collecting nvidia-cusolver-cu12==11.4.5.107 (from torch>=0.4.0->spotlight)\n",
            "  Using cached nvidia_cusolver_cu12-11.4.5.107-py3-none-manylinux1_x86_64.whl (124.2 MB)\n",
            "Collecting nvidia-cusparse-cu12==12.1.0.106 (from torch>=0.4.0->spotlight)\n",
            "  Using cached nvidia_cusparse_cu12-12.1.0.106-py3-none-manylinux1_x86_64.whl (196.0 MB)\n",
            "Collecting nvidia-nccl-cu12==2.20.5 (from torch>=0.4.0->spotlight)\n",
            "  Using cached nvidia_nccl_cu12-2.20.5-py3-none-manylinux2014_x86_64.whl (176.2 MB)\n",
            "Collecting nvidia-nvtx-cu12==12.1.105 (from torch>=0.4.0->spotlight)\n",
            "  Using cached nvidia_nvtx_cu12-12.1.105-py3-none-manylinux1_x86_64.whl (99 kB)\n",
            "Requirement already satisfied: triton==2.3.0 in /usr/local/lib/python3.10/dist-packages (from torch>=0.4.0->spotlight) (2.3.0)\n",
            "Collecting nvidia-nvjitlink-cu12 (from nvidia-cusolver-cu12==11.4.5.107->torch>=0.4.0->spotlight)\n",
            "  Downloading nvidia_nvjitlink_cu12-12.5.40-py3-none-manylinux2014_x86_64.whl (21.3 MB)\n",
            "\u001b[2K     \u001b[90m━━━━━━━━━━━━━━━━━━━━━━━━━━━━━━━━━━━━━━━━\u001b[0m \u001b[32m21.3/21.3 MB\u001b[0m \u001b[31m54.7 MB/s\u001b[0m eta \u001b[36m0:00:00\u001b[0m\n",
            "\u001b[?25hRequirement already satisfied: MarkupSafe>=2.0 in /usr/local/lib/python3.10/dist-packages (from jinja2->torch>=0.4.0->spotlight) (2.1.5)\n",
            "Requirement already satisfied: mpmath>=0.19 in /usr/local/lib/python3.10/dist-packages (from sympy->torch>=0.4.0->spotlight) (1.3.0)\n",
            "Building wheels for collected packages: spotlight\n",
            "  Building wheel for spotlight (setup.py) ... \u001b[?25l\u001b[?25hdone\n",
            "  Created wheel for spotlight: filename=spotlight-0.1.6-py3-none-any.whl size=34071 sha256=4f13c5617e01fc97acd8a7f96bcec05ffce4293959aad2a11a2ea52bae35b40f\n",
            "  Stored in directory: /tmp/pip-ephem-wheel-cache-wgpvb1zd/wheels/8d/f0/95/e2f0e57eaddfa21cd67f5086359fcf6e499d8200cb629f4645\n",
            "Successfully built spotlight\n",
            "Installing collected packages: nvidia-nvtx-cu12, nvidia-nvjitlink-cu12, nvidia-nccl-cu12, nvidia-curand-cu12, nvidia-cufft-cu12, nvidia-cuda-runtime-cu12, nvidia-cuda-nvrtc-cu12, nvidia-cuda-cupti-cu12, nvidia-cublas-cu12, nvidia-cusparse-cu12, nvidia-cudnn-cu12, nvidia-cusolver-cu12, spotlight\n",
            "Successfully installed nvidia-cublas-cu12-12.1.3.1 nvidia-cuda-cupti-cu12-12.1.105 nvidia-cuda-nvrtc-cu12-12.1.105 nvidia-cuda-runtime-cu12-12.1.105 nvidia-cudnn-cu12-8.9.2.26 nvidia-cufft-cu12-11.0.2.54 nvidia-curand-cu12-10.3.2.106 nvidia-cusolver-cu12-11.4.5.107 nvidia-cusparse-cu12-12.1.0.106 nvidia-nccl-cu12-2.20.5 nvidia-nvjitlink-cu12-12.5.40 nvidia-nvtx-cu12-12.1.105 spotlight-0.1.6\n"
          ]
        }
      ],
      "source": [
        "!pip install git+https://github.com/cmacdonald/spotlight.git@master#egg=spotlight"
      ]
    },
    {
      "cell_type": "markdown",
      "metadata": {
        "id": "Nqoiteq7IJzJ"
      },
      "source": [
        "Spotlight has a handy [Interactions](https://maciejkula.github.io/spotlight/interactions.html) object, which encapsulates the basics of a recommendation dataset.\n",
        "\n",
        "Interactions need *numbers* to uniquely identify each item and user. Unfortunately, our MovieLens uses numbers, but these aren't consecutive (i.e. we have missing movieIds values). They are also strings (i.e. movieIds start with \"m\" and userIds start with \"u\").\n",
        "\n",
        "Hence, for both movies and users, we have to assign numbers that start from 0. We will call these **iids** and **uids**.\n",
        "\n",
        "We use [defaultdict](https://docs.python.org/3/library/collections.html#collections.defaultdict) to convert the MovieLens strings down to consecutive integers for use in Spotlight, in the `uid_map` and `iid_map` objects. We'll keep the reverse mapping around too, in case we want to lookup the actual movieId given the uid recorded by Spotlight (etc)."
      ]
    },
    {
      "cell_type": "code",
      "execution_count": 18,
      "metadata": {
        "id": "oF89PzxNHrHq",
        "colab": {
          "base_uri": "https://localhost:8080/"
        },
        "outputId": "d5e56883-db84-4253-9c4b-838a0dab9196"
      },
      "outputs": [
        {
          "output_type": "stream",
          "name": "stdout",
          "text": [
            "610 users 9724 item\n"
          ]
        }
      ],
      "source": [
        "from collections import defaultdict\n",
        "from itertools import count\n",
        "\n",
        "#create userId -> uid mapping dictionary. the next assigned value is the current size.\n",
        "uid_map = defaultdict(count().__next__)\n",
        "#ditto for movieId -> iid\n",
        "iid_map = defaultdict(count().__next__)\n",
        "\n",
        "#uids is an array of integers corresponding to the userId for every row in ratings_df\n",
        "#uid_map does the assignment of new uid values, or reusing the uid value assigned for\n",
        "#each userId\n",
        "uids = np.array([uid_map[uid] for uid in ratings_df[\"userId\"].values ], dtype=np.int32)\n",
        "#similar for iids\n",
        "iids = np.array([iid_map[iid] for iid in ratings_df[\"movieId\"].values ], dtype=np.int32)\n",
        "\n",
        "#freeze uid_map and iid_map so no more mapping are created\n",
        "uid_map.default_factory = None\n",
        "iid_map.default_factory = None\n",
        "\n",
        "uid_rev_map = {v: k for k, v in uid_map.items()}\n",
        "iid_rev_map = {v: k for k, v in iid_map.items()}\n",
        "num_items = len(iid_map)\n",
        "num_users = len(uid_map)\n",
        "\n",
        "print(\"%d users %d item\" % (num_users, num_items))\n",
        "\n",
        "ratings = ratings_df[\"rating\"].values.astype(np.float32)\n",
        "timestamps = ratings_df[\"timestamp\"].values.astype(np.int32)"
      ]
    },
    {
      "cell_type": "markdown",
      "metadata": {
        "id": "q6pN0txDDPqL"
      },
      "source": [
        "To be clear, `uid_map` and `iid_map` are just dictionaries - you can use them to lookup the uid (iid) assigned to a given user (movie).\n",
        "\n",
        "Similarly, `uid_rev_map` (`iid_rev_map`) can be used to recover the userId (movieId) for a given uid (iid)."
      ]
    },
    {
      "cell_type": "code",
      "execution_count": 19,
      "metadata": {
        "id": "34mX05BkDO9o",
        "colab": {
          "base_uri": "https://localhost:8080/"
        },
        "outputId": "372ab158-3e57-481e-e7a8-8b7135bea44a"
      },
      "outputs": [
        {
          "output_type": "stream",
          "name": "stdout",
          "text": [
            "userId u556 got uid 555\n",
            "movieId m54001 got iid 2518\n"
          ]
        }
      ],
      "source": [
        "print(\"userId %s got uid %d\" % (\"u556\", uid_map[\"u556\"]))\n",
        "print(\"movieId %s got iid %d\" % (\"m54001\", iid_map[\"m54001\"]))"
      ]
    },
    {
      "cell_type": "markdown",
      "metadata": {
        "id": "Lrhni5wSX7QP"
      },
      "source": [
        "Furthemore, we will use user u556 as one of our illustrative users."
      ]
    },
    {
      "cell_type": "markdown",
      "metadata": {
        "id": "hDwZYy2xY3-D"
      },
      "source": [
        "## On towards Matrix Factorisation (MF)"
      ]
    },
    {
      "cell_type": "markdown",
      "metadata": {
        "id": "gMejAIwPNVrU"
      },
      "source": [
        "Now let's build a Spotlight [Interactions](https://maciejkula.github.io/spotlight/interactions.html) object. This contains everything that Spotlight needs to train a model. We can split it up randomly into train and test subsets\n",
        "\n",
        "NB: we use a SEED (20) to make our results reproducible."
      ]
    },
    {
      "cell_type": "code",
      "execution_count": 20,
      "metadata": {
        "id": "cg2tNWwPIBfu"
      },
      "outputs": [],
      "source": [
        "from spotlight.interactions import Interactions\n",
        "from spotlight.cross_validation import random_train_test_split\n",
        "\n",
        "dataset = Interactions(user_ids=uids,\n",
        "                                  item_ids=iids,\n",
        "                                  ratings=ratings,\n",
        "                                  timestamps=timestamps)\n",
        "\n",
        "#lets initialise the seed, so that its repeatable and reproducible\n",
        "train_valid, test = random_train_test_split(dataset, random_state=np.random.RandomState(SEED))\n",
        "train, valid = random_train_test_split(train_valid, random_state=np.random.RandomState(SEED))"
      ]
    },
    {
      "cell_type": "markdown",
      "metadata": {
        "id": "1shoeRmWKXxS"
      },
      "source": [
        "Let's see how big the two datasets are. What is the train/test split percentage size?"
      ]
    },
    {
      "cell_type": "code",
      "execution_count": 21,
      "metadata": {
        "cellView": "code",
        "id": "XcjOWJ-qIEge",
        "colab": {
          "base_uri": "https://localhost:8080/"
        },
        "outputId": "020594f0-2bda-41ff-8c20-db7f69eb16e8"
      },
      "outputs": [
        {
          "output_type": "stream",
          "name": "stdout",
          "text": [
            "<Interactions dataset (610 users x 9724 items x 64534 interactions)>\n",
            "<Interactions dataset (610 users x 9724 items x 16134 interactions)>\n",
            "<Interactions dataset (610 users x 9724 items x 20168 interactions)>\n"
          ]
        }
      ],
      "source": [
        "print(train)\n",
        "print(valid)\n",
        "print(test)"
      ]
    },
    {
      "cell_type": "markdown",
      "metadata": {
        "id": "RBnevuHnT57k"
      },
      "source": [
        "Here, we see that following the collaborative filtering task model, all users, and all items, are present in both training and test sets."
      ]
    },
    {
      "cell_type": "markdown",
      "metadata": {
        "id": "aTyhLswNulTX"
      },
      "source": [
        "Now, we can think of the Interaction objects are being the partitions of the rating matrix. But we don't store it as a single big matrix. Instead, we record three one-dimensional arrays:\n",
        "\n",
        "  * one for the ids of the users\n",
        "  * one for the ids of the items\n",
        "  * one for the actual rating values.\n",
        "\n",
        "Each of these arrays is the size of the number of ratings (64534 for the training set).\n",
        "\n",
        "In essence, Interactions is a sparse matrix - for each rating, we record its x and y position, as well as the rating itself.\n"
      ]
    },
    {
      "cell_type": "code",
      "execution_count": 22,
      "metadata": {
        "id": "74iQtBOoUZJ1",
        "colab": {
          "base_uri": "https://localhost:8080/"
        },
        "outputId": "d39fe869-1723-44ce-c3a3-918438f94518"
      },
      "outputs": [
        {
          "output_type": "stream",
          "name": "stdout",
          "text": [
            "(64534,)\n",
            "(64534,)\n",
            "(64534,)\n"
          ]
        }
      ],
      "source": [
        "print(train.item_ids.shape)\n",
        "print(train.user_ids.shape)\n",
        "print(train.ratings.shape)"
      ]
    },
    {
      "cell_type": "markdown",
      "metadata": {
        "id": "2V9Hx3dhUjI1"
      },
      "source": [
        "For instance, let's look at the first rating:"
      ]
    },
    {
      "cell_type": "code",
      "execution_count": 23,
      "metadata": {
        "id": "sz46dNMkUrCC",
        "colab": {
          "base_uri": "https://localhost:8080/"
        },
        "outputId": "aaf672e1-6445-42c6-89ff-d1981d768ee4"
      },
      "outputs": [
        {
          "output_type": "stream",
          "name": "stdout",
          "text": [
            "uid 304 gave iid 763 a rating of 3\n"
          ]
        }
      ],
      "source": [
        "print(\"uid %d gave iid %d a rating of %d\" % (train.user_ids[0], train.item_ids[0],train.ratings[0]))"
      ]
    },
    {
      "cell_type": "markdown",
      "metadata": {
        "id": "V4R1mQgSUZ86"
      },
      "source": [
        "Let's take our favourite fantasy adventure fan userId u556. We can give a look at their training ratings:"
      ]
    },
    {
      "cell_type": "code",
      "execution_count": 24,
      "metadata": {
        "id": "47QmgWtYvM4u",
        "colab": {
          "base_uri": "https://localhost:8080/"
        },
        "outputId": "98cd5264-77a8-441e-d073-bb100a95414d"
      },
      "outputs": [
        {
          "output_type": "stream",
          "name": "stdout",
          "text": [
            "[1938  322 1925  779 1342 6082  770  764 8659 4796  912 1894 1893 2518\n",
            " 3258 2059 1077  457  926 3087 1132 1182  774 5989 1307]\n",
            "[4.5 5.  5.  4.  4.  4.  4.  4.  4.  4.  2.5 3.5 4.  4.  4.  4.  5.  5.\n",
            " 4.  4.  4.  4.  4.  4.  4. ]\n"
          ]
        }
      ],
      "source": [
        "# map userId to the internal uid value\n",
        "userId = \"u556\"\n",
        "uid = uid_map.get(userId)\n",
        "\n",
        "# see which ratings are for this user. Use this to filter the item and ratings arrays.\n",
        "# here we are filtering a numpy array based on an array of True/False values. Its just\n",
        "# like filtering a Pandas data frame.\n",
        "print(train.item_ids[train.user_ids == uid])\n",
        "print(train.ratings[train.user_ids == uid])"
      ]
    },
    {
      "cell_type": "markdown",
      "metadata": {
        "id": "RhnKAa-KKclT"
      },
      "source": [
        "We can now learn a model."
      ]
    },
    {
      "cell_type": "code",
      "execution_count": 25,
      "metadata": {
        "id": "UduCmnlbKt-O",
        "colab": {
          "base_uri": "https://localhost:8080/"
        },
        "outputId": "2aa49775-309a-4fc6-d404-91d64f4bf840"
      },
      "outputs": [
        {
          "output_type": "stream",
          "name": "stdout",
          "text": [
            "Epoch 0: loss 5.034930943971566\n",
            "Epoch 1: loss 0.8732232251186145\n",
            "Epoch 2: loss 0.5403005838865348\n",
            "Epoch 3: loss 0.3673862732446241\n",
            "Epoch 4: loss 0.2787941911003806\n",
            "Epoch 5: loss 0.2281717191866264\n",
            "Epoch 6: loss 0.20108142271343427\n",
            "Epoch 7: loss 0.18570957203274188\n",
            "Epoch 8: loss 0.17749794198590305\n",
            "Epoch 9: loss 0.17130717378948987\n",
            "Training took 20 seconds \n"
          ]
        }
      ],
      "source": [
        "from spotlight.factorization.explicit import ExplicitFactorizationModel\n",
        "import time\n",
        "\n",
        "emodel = ExplicitFactorizationModel(n_iter=10,\n",
        "                                    embedding_dim=32, #this is Spotlight default\n",
        "                                    use_cuda=False,\n",
        "                                    random_state=np.random.RandomState(SEED) # ensure results are repeatable\n",
        ")\n",
        "current = time.time()\n",
        "\n",
        "emodel.fit(train, verbose=True)\n",
        "\n",
        "end = time.time()\n",
        "diff = end - current\n",
        "print(\"Training took %d seconds \"% (diff))"
      ]
    },
    {
      "cell_type": "markdown",
      "metadata": {
        "id": "cTTK1BlbLL_t"
      },
      "source": [
        "Let's give a look at the recommentations, for our specific user, userId u556.\n",
        "\n"
      ]
    },
    {
      "cell_type": "code",
      "execution_count": 26,
      "metadata": {
        "id": "zjyVPjoGLoy6",
        "colab": {
          "base_uri": "https://localhost:8080/"
        },
        "outputId": "a5cf00ca-d415-43a6-95ce-9dc73899f133"
      },
      "outputs": [
        {
          "output_type": "stream",
          "name": "stdout",
          "text": [
            "One test item_id for userId u556 (uid 555) is \n",
            "Test movieId is m74530 iid 8141 \n",
            "Predicted rating for 'Percy Jackson & the Olympians: The Lightning Thief (2010)' was 2.315957, actual rating 3.5, error was 1.184043\n"
          ]
        }
      ],
      "source": [
        "userId = \"u556\"\n",
        "\n",
        "# convert the string to the internal integer\n",
        "uid = uid_map.get(userId)\n",
        "print(\"One test item_id for userId %s (uid %d) is \"% (userId, uid))\n",
        "\n",
        "# pick one rating that the user made\n",
        "testItemId = test.item_ids[test.user_ids == uid][0]\n",
        "print(\"Test movieId is %s iid %d \" % (iid_rev_map.get(testItemId), testItemId ) )\n",
        "\n",
        "\n",
        "#here 0 is a dummy item, which Spotlight needs for some reason...\n",
        "#we discard its prediction using [1]\n",
        "predicted = emodel.predict( np.array([uid]), item_ids=np.array([0, testItemId]) )[1]\n",
        "\n",
        "#what was the actual score of the user for that movie?\n",
        "#we can get the appropriate row from the ratings dataframe, then extract that value\n",
        "actual = ratings_df[(ratings_df.movieId==iid_rev_map.get(testItemId)) & (ratings_df.userId==userId)][\"rating\"].values[0]\n",
        "\n",
        "\n",
        "def getMovieTitle(iid):\n",
        "  return movies_df[movies_df['movieId'] == iid_rev_map.get(iid)][\"title\"].values[0]\n",
        "\n",
        "print(\"Predicted rating for '%s' was %f, actual rating %0.1f, error was %f\" % (getMovieTitle(testItemId), predicted, actual, abs(predicted-actual) ))\n"
      ]
    },
    {
      "cell_type": "markdown",
      "metadata": {
        "id": "zWdWW8QhacOw"
      },
      "source": [
        "So this is interesting - while we saw above that the users liked fantasy movies, we predicted a rating of $\\sim 2.5$, but the user gave this particular movie a 3.5."
      ]
    },
    {
      "cell_type": "markdown",
      "metadata": {
        "id": "BgX01Wwlr_WA"
      },
      "source": [
        "We can also ask for **all** of the recommendations for a given user:"
      ]
    },
    {
      "cell_type": "code",
      "execution_count": 27,
      "metadata": {
        "id": "fz28wrmIsDa-",
        "colab": {
          "base_uri": "https://localhost:8080/"
        },
        "outputId": "c44cf35c-1acd-48ed-e298-66a506726ff6"
      },
      "outputs": [
        {
          "output_type": "stream",
          "name": "stdout",
          "text": [
            "[5.403139  3.422693  4.7912703 ... 0.6854264 2.3689346 0.5659476]\n",
            "9724\n",
            "2.3159573\n",
            "True\n"
          ]
        }
      ],
      "source": [
        "allpreds = emodel.predict( np.array([uid]) )\n",
        "\n",
        "print(allpreds)\n",
        "print(allpreds.size)\n",
        "\n",
        "#we can recover the original rating for our test item\n",
        "print(allpreds[testItemId])\n",
        "\n",
        "# lets just check we got the correct prediction\n",
        "print(allpreds[testItemId] - actual < 0.1)"
      ]
    },
    {
      "cell_type": "markdown",
      "metadata": {
        "id": "d25P7AtBPgXS"
      },
      "source": [
        "## Latent Factors aka Embeddings"
      ]
    },
    {
      "cell_type": "markdown",
      "metadata": {
        "id": "RyL5EG65TuNo"
      },
      "source": [
        "The prediction is made based on the dot product of the user's and item's latent factors (also know as \"embeddings\").\n",
        "\n",
        "We can access these embeddings directly from the emodel object. Each embedding has 32 dimensions, which is what we set when configuring Spotlight's Explicit Factorisation Model."
      ]
    },
    {
      "cell_type": "code",
      "execution_count": 28,
      "metadata": {
        "cellView": "both",
        "id": "Jf2Em9KSa74G",
        "colab": {
          "base_uri": "https://localhost:8080/"
        },
        "outputId": "b991cc2b-09c7-4440-dd82-1a028d37fa83"
      },
      "outputs": [
        {
          "output_type": "stream",
          "name": "stdout",
          "text": [
            "torch.Size([32])\n"
          ]
        },
        {
          "output_type": "execute_result",
          "data": {
            "text/plain": [
              "tensor([-0.0385, -0.1905, -0.2976, -0.3063,  0.2254, -0.1742,  0.4697, -0.2393,\n",
              "        -0.1647,  0.4645, -0.3895,  0.4076, -0.6497,  0.3425,  0.4773, -0.4532,\n",
              "        -0.2661,  0.4869, -0.3479, -0.8201,  0.5821, -0.9591, -0.0880, -0.2948,\n",
              "        -0.1857, -0.1949,  0.0441, -0.2953, -0.3141, -0.2472,  0.1214,  0.5861],\n",
              "       grad_fn=<SelectBackward0>)"
            ]
          },
          "metadata": {},
          "execution_count": 28
        }
      ],
      "source": [
        "#the embedding of an item is a PyTorch tensor of size 32\n",
        "#a PyTorch tensor can be thought of having similar semantics as an numpy array.\n",
        "print(emodel._net.item_embeddings.weight[0].shape)\n",
        "emodel._net.item_embeddings.weight[0]\n"
      ]
    },
    {
      "cell_type": "markdown",
      "metadata": {
        "id": "VcKlJIBoVNYr"
      },
      "source": [
        "We can check how Spotlight makes its prediction. The key line is https://github.com/maciejkula/spotlight/blob/master/spotlight/factorization/representations.py#L89\n",
        "\n",
        "This takes the (dot-)product of the user's \"embedding\" (latent factor) and the item's embedding. On top of these are added \"user_biases\" and \"item_biases\".\n",
        "\n",
        "Let's reproduce this for our user."
      ]
    },
    {
      "cell_type": "code",
      "execution_count": 29,
      "metadata": {
        "id": "g14v62m4YRyd",
        "colab": {
          "base_uri": "https://localhost:8080/"
        },
        "outputId": "9a58e6e4-a4f9-4901-896a-68e2e02a7c60"
      },
      "outputs": [
        {
          "output_type": "stream",
          "name": "stdout",
          "text": [
            "Percy Jackson & the Olympians: The Lightning Thief (2010)\n",
            "tensor([[0.1850]], grad_fn=<EmbeddingBackward0>)\n"
          ]
        },
        {
          "output_type": "execute_result",
          "data": {
            "text/plain": [
              "tensor([[2.3160]], grad_fn=<AddBackward0>)"
            ]
          },
          "metadata": {},
          "execution_count": 29
        }
      ],
      "source": [
        "# uid=555 for u556\n",
        "# testItemId is our item of interest\n",
        "\n",
        "dotprod = (emodel._net.user_embeddings.weight[uid] * emodel._net.item_embeddings.weight[testItemId]).sum(0)\n",
        "user_bias = emodel._net.user_biases(torch.tensor([uid]))\n",
        "item_bias = emodel._net.item_biases(torch.tensor([testItemId], dtype=torch.long))\n",
        "\n",
        "print(getMovieTitle(testItemId))\n",
        "print(item_bias)\n",
        "dotprod + user_bias + item_bias"
      ]
    },
    {
      "cell_type": "markdown",
      "metadata": {
        "id": "9VE2tpcJb8e7"
      },
      "source": [
        "### Examining Latent Factors\n",
        "\n",
        "Let's give a look at item-item similarities, function `mostsimilar(targetMovieId, model)` identifies the most similar movieId to the specified target, based on the Cosine similarity of their item embedding vectors.\n",
        "\n",
        "What's the closest movie to \"Harry Potter and the Deathly Hallows: Part 1 (2010)\" , which is movieId m81834 in the MovieLens dataset?"
      ]
    },
    {
      "cell_type": "code",
      "execution_count": 30,
      "metadata": {
        "id": "O7fDGUx6fBR3",
        "colab": {
          "base_uri": "https://localhost:8080/"
        },
        "outputId": "1c071057-2a82-4725-977d-9b6b27b6d3b4"
      },
      "outputs": [
        {
          "output_type": "execute_result",
          "data": {
            "text/plain": [
              "tensor(0.)"
            ]
          },
          "metadata": {},
          "execution_count": 30
        }
      ],
      "source": [
        "import torch.nn as nn\n",
        "nn.functional.cosine_similarity(\n",
        "     torch.tensor([1.0,0]),\n",
        "     torch.tensor([0,1.0],), dim=0)"
      ]
    },
    {
      "cell_type": "code",
      "execution_count": 31,
      "metadata": {
        "id": "0Rg_DuBnoMEu",
        "colab": {
          "base_uri": "https://localhost:8080/"
        },
        "outputId": "b781d35b-670f-4334-f165-6e979a902f3f"
      },
      "outputs": [
        {
          "output_type": "stream",
          "name": "stdout",
          "text": [
            "[5.  3.  2.  3.5 3.  4. ]\n",
            "9724\n",
            "targetMovieId = m81834 'Harry Potter and the Deathly Hallows: Part 1 (2010)' (iid 1933)\n",
            "mostSimilar = m88125 (iid 1938) with cosine of 0.818559 \n"
          ]
        }
      ],
      "source": [
        "import torch.nn as nn\n",
        "\n",
        "print(train.ratings[train.item_ids == 500])\n",
        "\n",
        "def mostsimilar(targetIId : int, model):\n",
        "  highest=0\n",
        "  highestCos=0\n",
        "  items = model._net.item_embeddings.weight\n",
        "  cosines = []\n",
        "\n",
        "  targetRatings = items[targetIId]\n",
        "  #you may assume that model._num_items provides the total number of items\n",
        "\n",
        "  for iId in range(items.size(0)):\n",
        "    if iId == targetIId:\n",
        "      continue\n",
        "    itemRatings = items[iId]\n",
        "    cosine = nn.functional.cosine_similarity(targetRatings, itemRatings, dim=0)\n",
        "    cosines.append((iId, cosine.item()))\n",
        "\n",
        "  cosines.sort(key=lambda x: x[1], reverse = True)\n",
        "  highest = cosines[0][0]\n",
        "  highestCos = cosines[0][1]\n",
        "\n",
        "  print(train.num_items)\n",
        "  print(\"targetMovieId = %s '%s' (iid %d)\" % (iid_rev_map.get(targetIId), getMovieTitle(targetIId), targetIId))\n",
        "  print(\"mostSimilar = %s (iid %d) with cosine of %f \" % ( iid_rev_map.get(highest), highest, highestCos))\n",
        "\n",
        "\n",
        "mostsimilar(iid_map[\"m81834\"], emodel)"
      ]
    },
    {
      "cell_type": "code",
      "execution_count": 32,
      "metadata": {
        "id": "UgUvFR0AK8XI",
        "colab": {
          "base_uri": "https://localhost:8080/"
        },
        "outputId": "e3de1ec8-130c-4b6b-e575-d1b64dc68bed"
      },
      "outputs": [
        {
          "output_type": "stream",
          "name": "stdout",
          "text": [
            "9724\n",
            "targetMovieId = m88125 'Harry Potter and the Deathly Hallows: Part 2 (2011)' (iid 1938)\n",
            "mostSimilar = m81834 (iid 1933) with cosine of 0.818559 \n"
          ]
        }
      ],
      "source": [
        "mostsimilar(iid_map[\"m88125\"], emodel)"
      ]
    },
    {
      "cell_type": "code",
      "execution_count": 33,
      "metadata": {
        "id": "ENhT5FXX3qH9",
        "colab": {
          "base_uri": "https://localhost:8080/"
        },
        "outputId": "2af1a7fe-6e86-43f6-f327-014680738cba"
      },
      "outputs": [
        {
          "output_type": "stream",
          "name": "stdout",
          "text": [
            "9724\n",
            "targetMovieId = m44 'Mortal Kombat (1995)' (iid 971)\n",
            "mostSimilar = m1735 (iid 4668) with cosine of 0.727842 \n"
          ]
        }
      ],
      "source": [
        "mostsimilar(iid_map[\"m44\"], emodel)"
      ]
    },
    {
      "cell_type": "markdown",
      "metadata": {
        "id": "mxHfMZgbcdRu"
      },
      "source": [
        "## Evaluating performance\n",
        "\n",
        "Finally, let's see how good we are at our rating predictions. Handily, Spotlight implements a few common evaluation measures for us to inspect."
      ]
    },
    {
      "cell_type": "code",
      "execution_count": 34,
      "metadata": {
        "id": "OB8UJykycm3G",
        "colab": {
          "base_uri": "https://localhost:8080/"
        },
        "outputId": "2fa99063-a252-446d-99ab-e17e692dd656"
      },
      "outputs": [
        {
          "output_type": "stream",
          "name": "stdout",
          "text": [
            "Train RMSE 0.385, test RMSE 1.098\n"
          ]
        }
      ],
      "source": [
        "from spotlight.evaluation import rmse_score\n",
        "\n",
        "train_rmse = rmse_score(emodel, train)\n",
        "test_rmse = rmse_score(emodel, test)\n",
        "\n",
        "print('Train RMSE {:.3f}, test RMSE {:.3f}'.format(train_rmse, test_rmse))\n"
      ]
    },
    {
      "cell_type": "markdown",
      "metadata": {
        "id": "WcRrTWx9lkoo"
      },
      "source": [
        "## Tuning\n",
        "\n",
        "Now we wish to tune the latent factors. The task here is to train and evaluate new instances of ExplicitFactorizationModels using different numbers of latent factors, while leaving the other parameters unchanged (i.e. `n_iter=10, use_cuda=False, random_state=np.random.RandomState(SEED)`.\n",
        "\n",
        "Also record the training times for different numbers of latent factors.\n",
        "\n",
        "You should vary the factors in `[8,16,32,64]`. Evaluate and record the RMSE values of the resulting models on (i) the training set (`train`), (ii) the  validation set (`valid`) and (iii) the test set (`test`). Use matplotlib to create a graph showing how the training, validation and test RMSE change as the number of latent factors is varied."
      ]
    },
    {
      "cell_type": "code",
      "execution_count": 35,
      "metadata": {
        "id": "KmfqVqvcjgLi",
        "colab": {
          "base_uri": "https://localhost:8080/",
          "height": 1000
        },
        "outputId": "9d854cf1-8f0c-4d8a-833b-1692074bec38"
      },
      "outputs": [
        {
          "output_type": "stream",
          "name": "stdout",
          "text": [
            "Epoch 0: loss 6.761825584611403\n",
            "Epoch 1: loss 1.1024662402307563\n",
            "Epoch 2: loss 0.7087879784022395\n",
            "Epoch 3: loss 0.5856175999867587\n",
            "Epoch 4: loss 0.5124744202779687\n",
            "Epoch 5: loss 0.4619729534792806\n",
            "Epoch 6: loss 0.42757980260453204\n",
            "Epoch 7: loss 0.4022189556609972\n",
            "Epoch 8: loss 0.3835176006842979\n",
            "Epoch 9: loss 0.3702602333466526\n",
            "Training times:  [10.78889012336731]\n",
            "Epoch 0: loss 5.551360513381807\n",
            "Epoch 1: loss 0.9478535484890693\n",
            "Epoch 2: loss 0.6715788501995825\n",
            "Epoch 3: loss 0.5199350601599622\n",
            "Epoch 4: loss 0.4189781883488531\n",
            "Epoch 5: loss 0.35301924010981683\n",
            "Epoch 6: loss 0.31251296424583014\n",
            "Epoch 7: loss 0.28351533795769507\n",
            "Epoch 8: loss 0.26538423705006775\n",
            "Epoch 9: loss 0.2536371790255483\n",
            "Training times:  [10.78889012336731, 15.507310390472412]\n",
            "Epoch 0: loss 5.034930943971566\n",
            "Epoch 1: loss 0.8732232251186145\n",
            "Epoch 2: loss 0.5403005838865348\n",
            "Epoch 3: loss 0.3673862732446241\n",
            "Epoch 4: loss 0.2787941911003806\n",
            "Epoch 5: loss 0.2281717191866264\n",
            "Epoch 6: loss 0.20108142271343427\n",
            "Epoch 7: loss 0.18570957203274188\n",
            "Epoch 8: loss 0.17749794198590305\n",
            "Epoch 9: loss 0.17130717378948987\n",
            "Training times:  [10.78889012336731, 15.507310390472412, 10.383409976959229]\n",
            "Epoch 0: loss 4.584798156037161\n",
            "Epoch 1: loss 0.7916807991713875\n",
            "Epoch 2: loss 0.41226636656659393\n",
            "Epoch 3: loss 0.26579242932937835\n",
            "Epoch 4: loss 0.21987096323326172\n",
            "Epoch 5: loss 0.20792471325915793\n",
            "Epoch 6: loss 0.20766989126978183\n",
            "Epoch 7: loss 0.20698178936488074\n",
            "Epoch 8: loss 0.21256010269694647\n",
            "Epoch 9: loss 0.21477311684680078\n",
            "Training times:  [10.78889012336731, 15.507310390472412, 10.383409976959229, 15.29366683959961]\n"
          ]
        },
        {
          "output_type": "display_data",
          "data": {
            "text/plain": [
              "<Figure size 1000x600 with 1 Axes>"
            ],
            "image/png": "[encoded data removed]"
          },
          "metadata": {}
        }
      ],
      "source": [
        "import matplotlib.pyplot as plt\n",
        "\n",
        "latent_facs = [8,16,32,64]\n",
        "\n",
        "training_times = []\n",
        "train_rmses = []\n",
        "valid_rmses = []\n",
        "test_rmses = []\n",
        "\n",
        "#Process of training the model with different number of latent factors\n",
        "for fac in latent_facs:\n",
        "  emodel = ExplicitFactorizationModel(n_iter=10,\n",
        "                                    embedding_dim=fac,\n",
        "                                    use_cuda=False,\n",
        "                                    random_state=np.random.RandomState(SEED) # ensure results are repeatable\n",
        "  )\n",
        "  current = time.time()\n",
        "  emodel.fit(train, verbose=True)\n",
        "  end = time.time()\n",
        "  #Estimating training time\n",
        "  diff = end - current\n",
        "  training_times.append(diff)\n",
        "\n",
        "  #Find RMSE for training, validation and test sets, then recording RMSE values\n",
        "  train_rmse = rmse_score(emodel, train)\n",
        "  train_rmses.append(train_rmse)\n",
        "\n",
        "  test_rmse = rmse_score(emodel, test)\n",
        "  test_rmses.append(test_rmse)\n",
        "\n",
        "  valid_rmse = rmse_score(emodel, valid)\n",
        "  valid_rmses.append(valid_rmse)\n",
        "\n",
        "  print('Training times: ', training_times)\n",
        "\n",
        "# Plotting\n",
        "plt.figure(figsize=(10, 6))\n",
        "plt.plot(latent_facs, train_rmses, label='Training RMSE')\n",
        "plt.plot(latent_facs, valid_rmses, label='Validation RMSE')\n",
        "plt.plot(latent_facs, test_rmses, label='Test RMSE')\n",
        "plt.title('RMSE vs Latent Factors')\n",
        "plt.xlabel('Number of Latent Factors')\n",
        "plt.ylabel('RMSE')\n",
        "plt.legend()\n",
        "plt.grid(True)\n",
        "plt.savefig('rmse_vs_latent_factors.png')\n",
        "plt.show()\n",
        "\n"
      ]
    },
    {
      "cell_type": "markdown",
      "metadata": {
        "id": "RYTtH0_pl6sj"
      },
      "source": [
        "## Evaluating Other Models\n",
        "\n",
        "When evaluating models, it's important to compare to some reasonable baselines.\n",
        "\n",
        "Spotlight's `rmse_score()` method can be used to evaluate any Python object that adheres to the specification of the `predict()` function. For instance, we can make a baseline \"static\" scoring model, which returns the same scores for each user. This set of scores is passed as numpy array in the constructor.\n"
      ]
    },
    {
      "cell_type": "code",
      "execution_count": 36,
      "metadata": {
        "id": "D8Xd1X4TX2Tq"
      },
      "outputs": [],
      "source": [
        "class StaticModel:\n",
        "\n",
        "  def __init__(self, staticscores):\n",
        "    self.numitems = len(staticscores)\n",
        "    assert isinstance(staticscores, np.ndarray), \"Expected a numpy array\"\n",
        "    assert staticscores.dtype == np.float32 or staticscores.dtype == np.float64, \"Expected a numpy array of floats\"\n",
        "    self.staticscores = staticscores\n",
        "\n",
        "  # uids are the user(s) we are requesting recommendations for;\n",
        "  # returns an array of scores, one for each item\n",
        "  # the array is duplicated for each user requested\n",
        "  def predict(self, uids, iids=None):\n",
        "    # this model returns all zeros, regardless of userid\n",
        "\n",
        "    # we respond to one or more uids\n",
        "    uids = [uids] if isinstance(uids, int) else uids\n",
        "\n",
        "    # if iids is specificed, we filter predicts for those userids\n",
        "    # if iids is not specificed, predict() returns the prediction for each item _in iid order_\n",
        "    iids = np.arange(self.numitems) if iids is None else iids\n",
        "    return [self.staticscores[iids] for u in uids]"
      ]
    },
    {
      "cell_type": "markdown",
      "metadata": {
        "id": "Zhl_7mUxmdlv"
      },
      "source": [
        "For instance, we can make a static baseline that just returns 0 for every item, regardless of the user."
      ]
    },
    {
      "cell_type": "code",
      "execution_count": 37,
      "metadata": {
        "id": "m3FVJWJzYhoC",
        "colab": {
          "base_uri": "https://localhost:8080/"
        },
        "outputId": "5f30e767-2b27-4d7d-c305-306bb73ae4ca"
      },
      "outputs": [
        {
          "output_type": "stream",
          "name": "stdout",
          "text": [
            "Asking for 2 users, one item: [0.0, 0.0]\n",
            "Asking for one item: [0.0]\n",
            "Asking for two items: [array([0., 0.])]\n",
            "RMSE of our dummy model: 3.642758\n"
          ]
        }
      ],
      "source": [
        "mydummymodel = StaticModel(np.zeros(num_items))\n",
        "\n",
        "print(\"Asking for 2 users, one item: \" + str(mydummymodel.predict([0,1],0)))\n",
        "print(\"Asking for one item: \" + str(mydummymodel.predict(0,0)))\n",
        "print(\"Asking for two items: \" + str(mydummymodel.predict(0,[0,1])))\n",
        "print(\"RMSE of our dummy model: %f\" % rmse_score(mydummymodel, test))"
      ]
    },
    {
      "cell_type": "markdown",
      "metadata": {
        "id": "KSnTtOzAoA2l"
      },
      "source": [
        "### Popularity-based Recommenders\n",
        "\n",
        "Implement other baseline recommenders.\n",
        "**Using ratings_df**, create three new instances of StaticModel as baselines:\n",
        "\n",
        "(a). the number of ratings for each item - linearly normalise this to be in the range 0-5.\n",
        "\n",
        "(b). the number of 5 scores received by an item - linearly normalise this to be in the range 0-5.\n",
        "\n",
        "(c). the average rating value for each item (no need to normalise - scores are already 0-5)\n",
        "\n",
        "Evaluate baseline models in terms of RMSE, as well as providing their scores for particular iids."
      ]
    },
    {
      "cell_type": "code",
      "execution_count": 38,
      "metadata": {
        "colab": {
          "base_uri": "https://localhost:8080/"
        },
        "id": "FEHtLIXLjHqx",
        "outputId": "d7c24872-b731-44d8-bc81-5f1771e83ce0"
      },
      "outputs": [
        {
          "output_type": "stream",
          "name": "stdout",
          "text": [
            "a: 2.899816663013065\n",
            "b: 3.330386784749741\n",
            "c: 0.8810745544813008\n",
            "[3.2621951219512195]\n",
            "[1.513157894736842]\n",
            "[3.9209302325581397]\n"
          ]
        }
      ],
      "source": [
        "# function to implement linear normalization in range(0-5)\n",
        "def lin_norm(array):\n",
        "  min = np.min(array)\n",
        "  max = np.max(array)\n",
        "  norm_array = 5 * (array - min) / (max - min)\n",
        "  return norm_array\n",
        "\n",
        "#(a)\n",
        "item_ratings_count = ratings_df.groupby('movieId').size()\n",
        "item_ratings_count_norm = lin_norm(item_ratings_count)\n",
        "\n",
        "#(b)\n",
        "item_ratings_5_count = ratings_df[ratings_df['rating'] == 5].groupby('movieId').size()\n",
        "item_ratings_5_count_norm = lin_norm(item_ratings_5_count)\n",
        "\n",
        "#(b)\n",
        "avg_item_ratings = ratings_df.groupby('movieId')['rating'].mean()\n",
        "\n",
        "#mapping each movieId of the obtained series to its corresponding index in iid_map so that we got an array of same scores but with right indices\n",
        "def get_score_i(series):\n",
        "    scores = np.zeros(len(iid_map))\n",
        "    for movieId, score in series.items():\n",
        "        if movieId in iid_map:\n",
        "            scores[iid_map[movieId]] = score\n",
        "    return scores\n",
        "\n",
        "#\n",
        "a_scores = get_score_i(item_ratings_count_norm.fillna(0))\n",
        "a_model = StaticModel(a_scores)\n",
        "\n",
        "b_scores = get_score_i(item_ratings_5_count_norm.fillna(0))\n",
        "b_model = StaticModel(b_scores)\n",
        "\n",
        "c_scores = get_score_i(avg_item_ratings.fillna(0))\n",
        "c_model = StaticModel(c_scores)\n",
        "\n",
        "print(\"a:\", rmse_score(a_model, test))\n",
        "print(\"b:\", rmse_score(b_model, test))\n",
        "print(\"c:\", rmse_score(c_model, test))\n",
        "\n",
        "print(a_model.predict(0, 0))\n",
        "print(b_model.predict(0, 0))\n",
        "print(c_model.predict(0, 0))"
      ]
    },
    {
      "cell_type": "code",
      "execution_count": 39,
      "metadata": {
        "colab": {
          "base_uri": "https://localhost:8080/"
        },
        "id": "881F5_SuTe36",
        "outputId": "b9f18378-ad5e-445d-b26a-784378d242e5"
      },
      "outputs": [
        {
          "output_type": "stream",
          "name": "stdout",
          "text": [
            "movieId\n",
            "m1         3.920930\n",
            "m10        3.496212\n",
            "m100       2.785714\n",
            "m100044    4.000000\n",
            "m100068    3.500000\n",
            "             ...   \n",
            "m99853     4.000000\n",
            "m999       3.041667\n",
            "m99910     3.250000\n",
            "m99917     3.166667\n",
            "m99992     3.000000\n",
            "Name: rating, Length: 9724, dtype: float64\n",
            "defaultdict(None, {'m1': 0, 'm3': 1, 'm6': 2, 'm47': 3, 'm50': 4, 'm70': 5, 'm101': 6, 'm110': 7, 'm151': 8, 'm157': 9, 'm163': 10, 'm216': 11, 'm223': 12, 'm231': 13, 'm235': 14, 'm260': 15, 'm296': 16, 'm316': 17, 'm333': 18, 'm349': 19, 'm356': 20, 'm362': 21, 'm367': 22, 'm423': 23, 'm441': 24, 'm457': 25, 'm480': 26, 'm500': 27, 'm527': 28, 'm543': 29, 'm552': 30, 'm553': 31, 'm590': 32, 'm592': 33, 'm593': 34, 'm596': 35, 'm608': 36, 'm648': 37, 'm661': 38, 'm673': 39, 'm733': 40, 'm736': 41, 'm780': 42, 'm804': 43, 'm919': 44, 'm923': 45, 'm940': 46, 'm943': 47, 'm954': 48, 'm1009': 49, 'm1023': 50, 'm1024': 51, 'm1025': 52, 'm1029': 53, 'm1030': 54, 'm1031': 55, 'm1032': 56, 'm1042': 57, 'm1049': 58, 'm1060': 59, 'm1073': 60, 'm1080': 61, 'm1089': 62, 'm1090': 63, 'm1092': 64, 'm1097': 65, 'm1127': 66, 'm1136': 67, 'm1196': 68, 'm1197': 69, 'm1198': 70, 'm1206': 71, 'm1208': 72, 'm1210': 73, 'm1213': 74, 'm1214': 75, 'm1219': 76, 'm1220': 77, 'm1222': 78, 'm1224': 79, 'm1226': 80, 'm1240': 81, 'm1256': 82, 'm1258': 83, 'm1265': 84, 'm1270': 85, 'm1275': 86, 'm1278': 87, 'm1282': 88, 'm1291': 89, 'm1298': 90, 'm1348': 91, 'm1377': 92, 'm1396': 93, 'm1408': 94, 'm1445': 95, 'm1473': 96, 'm1500': 97, 'm1517': 98, 'm1552': 99, 'm1573': 100, 'm1580': 101, 'm1587': 102, 'm1617': 103, 'm1620': 104, 'm1625': 105, 'm1644': 106, 'm1676': 107, 'm1732': 108, 'm1777': 109, 'm1793': 110, 'm1804': 111, 'm1805': 112, 'm1920': 113, 'm1927': 114, 'm1954': 115, 'm1967': 116, 'm2000': 117, 'm2005': 118, 'm2012': 119, 'm2018': 120, 'm2028': 121, 'm2033': 122, 'm2046': 123, 'm2048': 124, 'm2054': 125, 'm2058': 126, 'm2078': 127, 'm2090': 128, 'm2093': 129, 'm2094': 130, 'm2096': 131, 'm2099': 132, 'm2105': 133, 'm2115': 134, 'm2116': 135, 'm2137': 136, 'm2139': 137, 'm2141': 138, 'm2143': 139, 'm2161': 140, 'm2174': 141, 'm2193': 142, 'm2253': 143, 'm2268': 144, 'm2273': 145, 'm2291': 146, 'm2329': 147, 'm2338': 148, 'm2353': 149, 'm2366': 150, 'm2387': 151, 'm2389': 152, 'm2395': 153, 'm2406': 154, 'm2414': 155, 'm2427': 156, 'm2450': 157, 'm2459': 158, 'm2470': 159, 'm2478': 160, 'm2492': 161, 'm2502': 162, 'm2528': 163, 'm2529': 164, 'm2542': 165, 'm2571': 166, 'm2580': 167, 'm2596': 168, 'm2616': 169, 'm2617': 170, 'm2628': 171, 'm2640': 172, 'm2641': 173, 'm2644': 174, 'm2648': 175, 'm2654': 176, 'm2657': 177, 'm2692': 178, 'm2700': 179, 'm2716': 180, 'm2761': 181, 'm2797': 182, 'm2826': 183, 'm2858': 184, 'm2872': 185, 'm2899': 186, 'm2916': 187, 'm2944': 188, 'm2947': 189, 'm2948': 190, 'm2949': 191, 'm2959': 192, 'm2985': 193, 'm2987': 194, 'm2991': 195, 'm2993': 196, 'm2997': 197, 'm3033': 198, 'm3034': 199, 'm3052': 200, 'm3053': 201, 'm3062': 202, 'm3147': 203, 'm3168': 204, 'm3176': 205, 'm3243': 206, 'm3247': 207, 'm3253': 208, 'm3273': 209, 'm3386': 210, 'm3439': 211, 'm3440': 212, 'm3441': 213, 'm3448': 214, 'm3450': 215, 'm3479': 216, 'm3489': 217, 'm3527': 218, 'm3578': 219, 'm3617': 220, 'm3639': 221, 'm3671': 222, 'm3702': 223, 'm3703': 224, 'm3729': 225, 'm3740': 226, 'm3744': 227, 'm3793': 228, 'm3809': 229, 'm4006': 230, 'm5060': 231, 'm318': 232, 'm1704': 233, 'm6874': 234, 'm8798': 235, 'm46970': 236, 'm48516': 237, 'm58559': 238, 'm60756': 239, 'm68157': 240, 'm71535': 241, 'm74458': 242, 'm77455': 243, 'm79132': 244, 'm80489': 245, 'm80906': 246, 'm86345': 247, 'm89774': 248, 'm91529': 249, 'm91658': 250, 'm99114': 251, 'm106782': 252, 'm109487': 253, 'm112552': 254, 'm114060': 255, 'm115713': 256, 'm122882': 257, 'm131724': 258, 'm31': 259, 'm647': 260, 'm688': 261, 'm720': 262, 'm849': 263, 'm914': 264, 'm1093': 265, 'm1124': 266, 'm1263': 267, 'm1272': 268, 'm1302': 269, 'm1371': 270, 'm2080': 271, 'm2288': 272, 'm2424': 273, 'm2851': 274, 'm3024': 275, 'm3210': 276, 'm3949': 277, 'm4518': 278, 'm5048': 279, 'm5181': 280, 'm5746': 281, 'm5764': 282, 'm5919': 283, 'm6238': 284, 'm6835': 285, 'm7899': 286, 'm7991': 287, 'm26409': 288, 'm70946': 289, 'm72378': 290, 'm21': 291, 'm32': 292, 'm45': 293, 'm52': 294, 'm58': 295, 'm106': 296, 'm125': 297, 'm126': 298, 'm162': 299, 'm171': 300, 'm176': 301, 'm190': 302, 'm215': 303, 'm222': 304, 'm232': 305, 'm247': 306, 'm265': 307, 'm319': 308, 'm342': 309, 'm345': 310, 'm348': 311, 'm351': 312, 'm357': 313, 'm368': 314, 'm417': 315, 'm450': 316, 'm475': 317, 'm492': 318, 'm509': 319, 'm538': 320, 'm539': 321, 'm588': 322, 'm595': 323, 'm599': 324, 'm708': 325, 'm759': 326, 'm800': 327, 'm892': 328, 'm898': 329, 'm899': 330, 'm902': 331, 'm904': 332, 'm908': 333, 'm910': 334, 'm912': 335, 'm920': 336, 'm930': 337, 'm937': 338, 'm1046': 339, 'm1057': 340, 'm1077': 341, 'm1079': 342, 'm1084': 343, 'm1086': 344, 'm1094': 345, 'm1103': 346, 'm1179': 347, 'm1183': 348, 'm1188': 349, 'm1199': 350, 'm1203': 351, 'm1211': 352, 'm1225': 353, 'm1250': 354, 'm1259': 355, 'm1266': 356, 'm1279': 357, 'm1283': 358, 'm1288': 359, 'm1304': 360, 'm1391': 361, 'm1449': 362, 'm1466': 363, 'm1597': 364, 'm1641': 365, 'm1719': 366, 'm1733': 367, 'm1734': 368, 'm1834': 369, 'm1860': 370, 'm1883': 371, 'm1885': 372, 'm1892': 373, 'm1895': 374, 'm1907': 375, 'm1914': 376, 'm1916': 377, 'm1923': 378, 'm1947': 379, 'm1966': 380, 'm1968': 381, 'm2019': 382, 'm2076': 383, 'm2109': 384, 'm2145': 385, 'm2150': 386, 'm2186': 387, 'm2203': 388, 'm2204': 389, 'm2282': 390, 'm2324': 391, 'm2336': 392, 'm2351': 393, 'm2359': 394, 'm2390': 395, 'm2467': 396, 'm2583': 397, 'm2599': 398, 'm2683': 399, 'm2712': 400, 'm2762': 401, 'm2763': 402, 'm2770': 403, 'm2791': 404, 'm2843': 405, 'm2874': 406, 'm2921': 407, 'm2926': 408, 'm2973': 409, 'm3044': 410, 'm3060': 411, 'm3079': 412, 'm3083': 413, 'm3160': 414, 'm3175': 415, 'm3204': 416, 'm3255': 417, 'm3317': 418, 'm3358': 419, 'm3365': 420, 'm3408': 421, 'm3481': 422, 'm3508': 423, 'm3538': 424, 'm3591': 425, 'm3788': 426, 'm3851': 427, 'm3897': 428, 'm3911': 429, 'm3967': 430, 'm3996': 431, 'm4002': 432, 'm4014': 433, 'm4020': 434, 'm4021': 435, 'm4027': 436, 'm4029': 437, 'm4033': 438, 'm4034': 439, 'm4074': 440, 'm4121': 441, 'm4144': 442, 'm4166': 443, 'm4226': 444, 'm4239': 445, 'm4246': 446, 'm4252': 447, 'm4260': 448, 'm4273': 449, 'm4308': 450, 'm4347': 451, 'm4381': 452, 'm4641': 453, 'm4741': 454, 'm4765': 455, 'm4881': 456, 'm4896': 457, 'm4902': 458, 'm4967': 459, 'm34': 460, 'm36': 461, 'm39': 462, 'm150': 463, 'm153': 464, 'm253': 465, 'm261': 466, 'm266': 467, 'm290': 468, 'm300': 469, 'm344': 470, 'm364': 471, 'm380': 472, 'm410': 473, 'm474': 474, 'm515': 475, 'm531': 476, 'm534': 477, 'm589': 478, 'm594': 479, 'm597': 480, 'm2': 481, 'm4': 482, 'm5': 483, 'm7': 484, 'm8': 485, 'm10': 486, 'm11': 487, 'm13': 488, 'm15': 489, 'm16': 490, 'm17': 491, 'm19': 492, 'm22': 493, 'm24': 494, 'm25': 495, 'm26': 496, 'm27': 497, 'm41': 498, 'm43': 499, 'm46': 500, 'm54': 501, 'm60': 502, 'm61': 503, 'm62': 504, 'm65': 505, 'm66': 506, 'm76': 507, 'm79': 508, 'm86': 509, 'm87': 510, 'm88': 511, 'm89': 512, 'm92': 513, 'm93': 514, 'm95': 515, 'm100': 516, 'm102': 517, 'm104': 518, 'm105': 519, 'm112': 520, 'm113': 521, 'm135': 522, 'm140': 523, 'm141': 524, 'm145': 525, 'm146': 526, 'm158': 527, 'm159': 528, 'm160': 529, 'm161': 530, 'm165': 531, 'm168': 532, 'm170': 533, 'm174': 534, 'm177': 535, 'm179': 536, 'm180': 537, 'm181': 538, 'm185': 539, 'm186': 540, 'm189': 541, 'm191': 542, 'm195': 543, 'm196': 544, 'm201': 545, 'm204': 546, 'm205': 547, 'm207': 548, 'm208': 549, 'm209': 550, 'm210': 551, 'm212': 552, 'm217': 553, 'm218': 554, 'm219': 555, 'm224': 556, 'm225': 557, 'm230': 558, 'm234': 559, 'm236': 560, 'm237': 561, 'm239': 562, 'm240': 563, 'm243': 564, 'm248': 565, 'm250': 566, 'm251': 567, 'm252': 568, 'm254': 569, 'm256': 570, 'm257': 571, 'm258': 572, 'm262': 573, 'm267': 574, 'm270': 575, 'm271': 576, 'm273': 577, 'm274': 578, 'm276': 579, 'm277': 580, 'm279': 581, 'm281': 582, 'm282': 583, 'm288': 584, 'm289': 585, 'm291': 586, 'm292': 587, 'm293': 588, 'm302': 589, 'm303': 590, 'm304': 591, 'm310': 592, 'm312': 593, 'm313': 594, 'm314': 595, 'm315': 596, 'm317': 597, 'm327': 598, 'm329': 599, 'm330': 600, 'm332': 601, 'm336': 602, 'm337': 603, 'm339': 604, 'm340': 605, 'm343': 606, 'm347': 607, 'm350': 608, 'm352': 609, 'm353': 610, 'm354': 611, 'm355': 612, 'm358': 613, 'm359': 614, 'm360': 615, 'm361': 616, 'm366': 617, 'm370': 618, 'm371': 619, 'm374': 620, 'm377': 621, 'm378': 622, 'm381': 623, 'm382': 624, 'm383': 625, 'm405': 626, 'm412': 627, 'm415': 628, 'm416': 629, 'm419': 630, 'm426': 631, 'm432': 632, 'm434': 633, 'm435': 634, 'm437': 635, 'm440': 636, 'm445': 637, 'm454': 638, 'm455': 639, 'm458': 640, 'm460': 641, 'm466': 642, 'm468': 643, 'm469': 644, 'm472': 645, 'm477': 646, 'm485': 647, 'm489': 648, 'm490': 649, 'm491': 650, 'm493': 651, 'm494': 652, 'm497': 653, 'm502': 654, 'm505': 655, 'm508': 656, 'm510': 657, 'm516': 658, 'm520': 659, 'm524': 660, 'm532': 661, 'm536': 662, 'm537': 663, 'm540': 664, 'm542': 665, 'm546': 666, 'm548': 667, 'm569': 668, 'm575': 669, 'm587': 670, 'm606': 671, 'm609': 672, 'm616': 673, 'm628': 674, 'm631': 675, 'm637': 676, 'm640': 677, 'm662': 678, 'm667': 679, 'm694': 680, 'm697': 681, 'm700': 682, 'm704': 683, 'm709': 684, 'm710': 685, 'm711': 686, 'm719': 687, 'm747': 688, 'm762': 689, 'm765': 690, 'm775': 691, 'm783': 692, 'm795': 693, 'm799': 694, 'm801': 695, 'm802': 696, 'm818': 697, 'm830': 698, 'm835': 699, 'm837': 700, 'm838': 701, 'm839': 702, 'm842': 703, 'm848': 704, 'm852': 705, 'm867': 706, 'm880': 707, 'm881': 708, 'm888': 709, 'm891': 710, 'm979': 711, 'm981': 712, 'm986': 713, 'm991': 714, 'm996': 715, 'm999': 716, 'm1004': 717, 'm1006': 718, 'm1061': 719, 'm1064': 720, 'm1082': 721, 'm750': 722, 'm924': 723, 'm1101': 724, 'm1246': 725, 'm1584': 726, 'm1610': 727, 'm1682': 728, 'm1784': 729, 'm1917': 730, 'm2671': 731, 'm2688': 732, 'm2701': 733, 'm2717': 734, 'm3114': 735, 'm3354': 736, 'm3623': 737, 'm3869': 738, 'm3916': 739, 'm3977': 740, 'm3994': 741, 'm4018': 742, 'm4223': 743, 'm4306': 744, 'm4310': 745, 'm4370': 746, 'm4643': 747, 'm4700': 748, 'm4844': 749, 'm4874': 750, 'm4886': 751, 'm4963': 752, 'm4993': 753, 'm4995': 754, 'm5218': 755, 'm5349': 756, 'm5378': 757, 'm5445': 758, 'm5459': 759, 'm5464': 760, 'm5502': 761, 'm5618': 762, 'm5816': 763, 'm5952': 764, 'm5989': 765, 'm5991': 766, 'm6333': 767, 'm6365': 768, 'm6534': 769, 'm6539': 770, 'm6863': 771, 'm6934': 772, 'm7143': 773, 'm7153': 774, 'm7155': 775, 'm7445': 776, 'm8207': 777, 'm8360': 778, 'm8368': 779, 'm8373': 780, 'm8528': 781, 'm8636': 782, 'm8665': 783, 'm8666': 784, 'm8783': 785, 'm8808': 786, 'm8865': 787, 'm8870': 788, 'm8907': 789, 'm8908': 790, 'm8949': 791, 'm8957': 792, 'm8958': 793, 'm8961': 794, 'm8965': 795, 'm8970': 796, 'm8972': 797, 'm8984': 798, 'm27741': 799, 'm30812': 800, 'm30816': 801, 'm31878': 802, 'm32029': 803, 'm32031': 804, 'm32296': 805, 'm32587': 806, 'm33162': 807, 'm33493': 808, 'm33794': 809, 'm33836': 810, 'm34048': 811, 'm34319': 812, 'm37741': 813, 'm38388': 814, 'm42002': 815, 'm45499': 816, 'm45517': 817, 'm45668': 818, 'm45730': 819, 'm46530': 820, 'm48783': 821, 'm48997': 822, 'm49272': 823, 'm49278': 824, 'm49286': 825, 'm49824': 826, 'm586': 827, 'm187': 828, 'm627': 829, 'm922': 830, 'm1037': 831, 'm1095': 832, 'm1674': 833, 'm1987': 834, 'm2011': 835, 'm2023': 836, 'm2300': 837, 'm2877': 838, 'm2901': 839, 'm3173': 840, 'm3328': 841, 'm3735': 842, 'm4131': 843, 'm4558': 844, 'm5447': 845, 'm5451': 846, 'm5481': 847, 'm5507': 848, 'm5841': 849, 'm5843': 850, 'm5872': 851, 'm5890': 852, 'm5891': 853, 'm5893': 854, 'm5902': 855, 'm5956': 856, 'm5962': 857, 'm5965': 858, 'm5988': 859, 'm6001': 860, 'm6044': 861, 'm1028': 862, 'm1088': 863, 'm1247': 864, 'm1307': 865, 'm3882': 866, 'm4447': 867, 'm5066': 868, 'm5377': 869, 'm5620': 870, 'm5943': 871, 'm5957': 872, 'm6155': 873, 'm6266': 874, 'm6377': 875, 'm6535': 876, 'm6942': 877, 'm7149': 878, 'm7151': 879, 'm7154': 880, 'm7169': 881, 'm7293': 882, 'm7375': 883, 'm7451': 884, 'm7458': 885, 'm8529': 886, 'm8533': 887, 'm8869': 888, 'm8969': 889, 'm30749': 890, 'm31433': 891, 'm31685': 892, 'm33145': 893, 'm33679': 894, 'm40629': 895, 'm40819': 896, 'm41285': 897, 'm47099': 898, 'm51662': 899, 'm51705': 900, 'm51834': 901, 'm54286': 902, 'm56367': 903, 'm56949': 904, 'm58047': 905, 'm59333': 906, 'm59421': 907, 'm60397': 908, 'm60950': 909, 'm61250': 910, 'm63113': 911, 'm63992': 912, 'm64969': 913, 'm66203': 914, 'm68954': 915, 'm69406': 916, 'm69844': 917, 'm70183': 918, 'm70293': 919, 'm71579': 920, 'm72011': 921, 'm72330': 922, 'm72407': 923, 'm72720': 924, 'm72737': 925, 'm72998': 926, 'm73017': 927, 'm74450': 928, 'm77841': 929, 'm78772': 930, 'm79091': 931, 'm80549': 932, 'm81784': 933, 'm81845': 934, 'm81847': 935, 'm82167': 936, 'm82499': 937, 'm84374': 938, 'm86548': 939, 'm87222': 940, 'm88163': 941, 'm88810': 942, 'm91104': 943, 'm92259': 944, 'm94070': 945, 'm95167': 946, 'm95449': 947, 'm95510': 948, 'm95543': 949, 'm96079': 950, 'm97024': 951, 'm97938': 952, 'm98203': 953, 'm103335': 954, 'm103339': 955, 'm104374': 956, 'm105211': 957, 'm106489': 958, 'm106696': 959, 'm107141': 960, 'm109374': 961, 'm109853': 962, 'm112006': 963, 'm113275': 964, 'm113394': 965, 'm119145': 966, 'm129428': 967, 'm136020': 968, 'm137595': 969, 'm140110': 970, 'm44': 971, 'm376': 972, 'm511': 973, 'm529': 974, 'm1100': 975, 'm1358': 976, 'm1370': 977, 'm1385': 978, 'm1438': 979, 'm1518': 980, 'm1586': 981, 'm1604': 982, 'm1608': 983, 'm1616': 984, 'm1687': 985, 'm1693': 986, 'm1721': 987, 'm1840': 988, 'm1882': 989, 'm1918': 990, 'm2002': 991, 'm2027': 992, 'm1357': 993, 'm1405': 994, 'm1876': 995, 'm2072': 996, 'm2100': 997, 'm2421': 998, 'm2485': 999, 'm2572': 1000, 'm2581': 1001, 'm2694': 1002, 'm3668': 1003, 'm305': 1004, 'm1173': 1005, 'm1590': 1006, 'm1619': 1007, 'm1639': 1008, 'm2541': 1009, 'm3300': 1010, 'm3409': 1011, 'm3513': 1012, 'm3624': 1013, 'm3717': 1014, 'm3753': 1015, 'm3798': 1016, 'm3827': 1017, 'm3863': 1018, 'm3893': 1019, 'm3952': 1020, 'm4011': 1021, 'm4148': 1022, 'm193': 1023, 'm448': 1024, 'm784': 1025, 'm172': 1026, 'm858': 1027, 'm1200': 1028, 'm1347': 1029, 'm1527': 1030, 'm1653': 1031, 'm1909': 1032, 'm2001': 1033, 'm2081': 1034, 'm2085': 1035, 'm2278': 1036, 'm3156': 1037, 'm3499': 1038, 'm3510': 1039, 'm3535': 1040, 'm3555': 1041, 'm4022': 1042, 'm4720': 1043, 'm5971': 1044, 'm6502': 1045, 'm7254': 1046, 'm7438': 1047, 'm8644': 1048, 'm48304': 1049, 'm48774': 1050, 'm48780': 1051, 'm50872': 1052, 'm56174': 1053, 'm59315': 1054, 'm60069': 1055, 'm63859': 1056, 'm64614': 1057, 'm68237': 1058, 'm69757': 1059, 'm70286': 1060, 'm71057': 1061, 'm71264': 1062, 'm84152': 1063, 'm84954': 1064, 'm85414': 1065, 'm89745': 1066, 'm91500': 1067, 'm94864': 1068, 'm96610': 1069, 'm101864': 1070, 'm103249': 1071, 'm104841': 1072, 'm105504': 1073, 'm110102': 1074, 'm111759': 1075, 'm112556': 1076, 'm112852': 1077, 'm115149': 1078, 'm120466': 1079, 'm122886': 1080, 'm122904': 1081, 'm122922': 1082, 'm122924': 1083, 'm134130': 1084, 'm134853': 1085, 'm143385': 1086, 'm152077': 1087, 'm152081': 1088, 'm158872': 1089, 'm160980': 1090, 'm166528': 1091, 'm166635': 1092, 'm111': 1093, 'm541': 1094, 'm678': 1095, 'm745': 1096, 'm913': 1097, 'm1147': 1098, 'm1148': 1099, 'm1186': 1100, 'm1193': 1101, 'm1201': 1102, 'm1207': 1103, 'm1223': 1104, 'm1230': 1105, 'm1252': 1106, 'm1260': 1107, 'm1261': 1108, 'm1267': 1109, 'm1276': 1110, 'm1281': 1111, 'm1299': 1112, 'm1680': 1113, 'm2490': 1114, 'm2707': 1115, 'm2723': 1116, 'm3000': 1117, 'm3022': 1118, 'm3108': 1119, 'm3174': 1120, 'm3429': 1121, 'm3683': 1122, 'm3741': 1123, 'm4878': 1124, 'm4973': 1125, 'm5782': 1126, 'm6350': 1127, 'm7099': 1128, 'm7361': 1129, 'm27611': 1130, 'm27773': 1131, 'm48394': 1132, 'm78499': 1133, 'm1036': 1134, 'm1209': 1135, 'm1221': 1136, 'm1228': 1137, 'm1234': 1138, 'm1375': 1139, 'm2194': 1140, 'm3039': 1141, 'm3263': 1142, 'm3435': 1143, 'm3681': 1144, 'm4571': 1145, 'm6016': 1146, 'm6870': 1147, 'm7482': 1148, 'm31658': 1149, 'm64839': 1150, 'm68358': 1151, 'm80463': 1152, 'm81932': 1153, 'm82459': 1154, 'm431': 1155, 'm442': 1156, 'm555': 1157, 'm653': 1158, 'm778': 1159, 'm1020': 1160, 'm1059': 1161, 'm1212': 1162, 'm1227': 1163, 'm1245': 1164, 'm1356': 1165, 'm1374': 1166, 'm1544': 1167, 'm1729': 1168, 'm1924': 1169, 'm1961': 1170, 'm2184': 1171, 'm2409': 1172, 'm2410': 1173, 'm2411': 1174, 'm2412': 1175, 'm2420': 1176, 'm2422': 1177, 'm2706': 1178, 'm2918': 1179, 'm2951': 1180, 'm2953': 1181, 'm3081': 1182, 'm3257': 1183, 'm3275': 1184, 'm3462': 1185, 'm3751': 1186, 'm3785': 1187, 'm3896': 1188, 'm4007': 1189, 'm4262': 1190, 'm4327': 1191, 'm4383': 1192, 'm4728': 1193, 'm4816': 1194, 'm5008': 1195, 'm5120': 1196, 'm5266': 1197, 'm5418': 1198, 'm5574': 1199, 'm5608': 1200, 'm5669': 1201, 'm5679': 1202, 'm5903': 1203, 'm5944': 1204, 'm5995': 1205, 'm6287': 1206, 'm6300': 1207, 'm6373': 1208, 'm6378': 1209, 'm6440': 1210, 'm6548': 1211, 'm6709': 1212, 'm6787': 1213, 'm6807': 1214, 'm6888': 1215, 'm7018': 1216, 'm7147': 1217, 'm7317': 1218, 'm7318': 1219, 'm7323': 1220, 'm7373': 1221, 'm7753': 1222, 'm7843': 1223, 'm8117': 1224, 'm8361': 1225, 'm8641': 1226, 'm8784': 1227, 'm8917': 1228, 'm8950': 1229, 'm26444': 1230, 'm26614': 1231, 'm27689': 1232, 'm27716': 1233, 'm27831': 1234, 'm27878': 1235, 'm30793': 1236, 'm32460': 1237, 'm33004': 1238, 'm33615': 1239, 'm34150': 1240, 'm34405': 1241, 'm36519': 1242, 'm36529': 1243, 'm37386': 1244, 'm37729': 1245, 'm37733': 1246, 'm38038': 1247, 'm38061': 1248, 'm44022': 1249, 'm44191': 1250, 'm44199': 1251, 'm44555': 1252, 'm44665': 1253, 'm45722': 1254, 'm46578': 1255, 'm46965': 1256, 'm47200': 1257, 'm47491': 1258, 'm49651': 1259, 'm51357': 1260, 'm51540': 1261, 'm52604': 1262, 'm53125': 1263, 'm53129': 1264, 'm53318': 1265, 'm53464': 1266, 'm53972': 1267, 'm53996': 1268, 'm54272': 1269, 'm55118': 1270, 'm55247': 1271, 'm55276': 1272, 'm55290': 1273, 'm55765': 1274, 'm56757': 1275, 'm57528': 1276, 'm57640': 1277, 'm57669': 1278, 'm58295': 1279, 'm58299': 1280, 'm59615': 1281, 'm59784': 1282, 'm60040': 1283, 'm60074': 1284, 'm60684': 1285, 'm62434': 1286, 'm63131': 1287, 'm64197': 1288, 'm64957': 1289, 'm65596': 1290, 'm66934': 1291, 'm67255': 1292, 'm68073': 1293, 'm68159': 1294, 'm68319': 1295, 'm69122': 1296, 'm69640': 1297, 'm69951': 1298, 'm71108': 1299, 'm71156': 1300, 'm71899': 1301, 'm73268': 1302, 'm73321': 1303, 'm73323': 1304, 'm73499': 1305, 'm74510': 1306, 'm74789': 1307, 'm74948': 1308, 'm76077': 1309, 'm76175': 1310, 'm76251': 1311, 'm77561': 1312, 'm78469': 1313, 'm79293': 1314, 'm79592': 1315, 'm79695': 1316, 'm79702': 1317, 'm80219': 1318, 'm81788': 1319, 'm83349': 1320, 'm84392': 1321, 'm85354': 1322, 'm86190': 1323, 'm86332': 1324, 'm86628': 1325, 'm86880': 1326, 'm87232': 1327, 'm88094': 1328, 'm88129': 1329, 'm88140': 1330, 'm90600': 1331, 'm91485': 1332, 'm91542': 1333, 'm92094': 1334, 'm95441': 1335, 'm96432': 1336, 'm96488': 1337, 'm96655': 1338, 'm97752': 1339, 'm98124': 1340, 'm98585': 1341, 'm98809': 1342, 'm99728': 1343, 'm99813': 1344, 'm102125': 1345, 'm102445': 1346, 'm102903': 1347, 'm103253': 1348, 'm103772': 1349, 'm104241': 1350, 'm104879': 1351, 'm106072': 1352, 'm106487': 1353, 'm106839': 1354, 'm107846': 1355, 'm111362': 1356, 'm112183': 1357, 'm112334': 1358, 'm112421': 1359, 'm114066': 1360, 'm116797': 1361, 'm116823': 1362, 'm117176': 1363, 'm118900': 1364, 'm122892': 1365, 'm122900': 1366, 'm122918': 1367, 'm122920': 1368, 'm122926': 1369, 'm128620': 1370, 'm135569': 1371, 'm139385': 1372, 'm140289': 1373, 'm141688': 1374, 'm142488': 1375, 'm144210': 1376, 'm145283': 1377, 'm148626': 1378, 'm150548': 1379, 'm155168': 1380, 'm157108': 1381, 'm157110': 1382, 'm158238': 1383, 'm158972': 1384, 'm159093': 1385, 'm160438': 1386, 'm161582': 1387, 'm162350': 1388, 'm162606': 1389, 'm164179': 1390, 'm166015': 1391, 'm168252': 1392, 'm171023': 1393, 'm176101': 1394, 'm177593': 1395, 'm180095': 1396, 'm180777': 1397, 'm185135': 1398, 'm12': 1399, 'm48': 1400, 'm64': 1401, 'm107': 1402, 'm118': 1403, 'm173': 1404, 'm295': 1405, 'm325': 1406, 'm328': 1407, 'm338': 1408, 'm372': 1409, 'm379': 1410, 'm407': 1411, 'm414': 1412, 'm420': 1413, 'm422': 1414, 'm427': 1415, 'm486': 1416, 'm512': 1417, 'm513': 1418, 'm551': 1419, 'm558': 1420, 'm610': 1421, 'm611': 1422, 'm671': 1423, 'm674': 1424, 'm724': 1425, 'm742': 1426, 'm743': 1427, 'm761': 1428, 'm785': 1429, 'm788': 1430, 'm798': 1431, 'm810': 1432, 'm829': 1433, 'm832': 1434, 'm866': 1435, 'm879': 1436, 'm903': 1437, 'm906': 1438, 'm911': 1439, 'm915': 1440, 'm921': 1441, 'm931': 1442, 'm933': 1443, 'm965': 1444, 'm984': 1445, 'm1016': 1446, 'm1021': 1447, 'm1047': 1448, 'm1081': 1449, 'm1129': 1450, 'm1215': 1451, 'm1238': 1452, 'm1257': 1453, 'm1269': 1454, 'm1285': 1455, 'm1297': 1456, 'm1322': 1457, 'm1324': 1458, 'm1330': 1459, 'm1333': 1460, 'm1339': 1461, 'm1342': 1462, 'm1345': 1463, 'm1346': 1464, 'm1355': 1465, 'm1359': 1466, 'm1367': 1467, 'm1372': 1468, 'm1373': 1469, 'm1376': 1470, 'm1378': 1471, 'm1379': 1472, 'm1380': 1473, 'm1394': 1474, 'm1407': 1475, 'm1409': 1476, 'm1427': 1477, 'm1441': 1478, 'm1456': 1479, 'm1457': 1480, 'm1461': 1481, 'm1474': 1482, 'm1479': 1483, 'm1485': 1484, 'm1489': 1485, 'm1499': 1486, 'm1542': 1487, 'm1550': 1488, 'm1551': 1489, 'm1556': 1490, 'm1562': 1491, 'm1566': 1492, 'm1569': 1493, 'm1583': 1494, 'm1588': 1495, 'm1591': 1496, 'm1593': 1497, 'm1603': 1498, 'm1614': 1499, 'm1645': 1500, 'm1648': 1501, 'm1658': 1502, 'm1663': 1503, 'm1665': 1504, 'm1679': 1505, 'm1681': 1506, 'm1688': 1507, 'm1689': 1508, 'm1690': 1509, 'm1702': 1510, 'm1717': 1511, 'm1718': 1512, 'm1722': 1513, 'm1747': 1514, 'm1748': 1515, 'm1754': 1516, 'm1779': 1517, 'm1783': 1518, 'm1798': 1519, 'm1806': 1520, 'm1812': 1521, 'm1816': 1522, 'm1831': 1523, 'm1845': 1524, 'm1848': 1525, 'm1855': 1526, 'm1862': 1527, 'm1881': 1528, 'm1888': 1529, 'm1891': 1530, 'm1894': 1531, 'm1906': 1532, 'm1911': 1533, 'm1919': 1534, 'm1921': 1535, 'm1963': 1536, 'm1970': 1537, 'm1971': 1538, 'm1972': 1539, 'm1973': 1540, 'm1991': 1541, 'm1994': 1542, 'm2003': 1543, 'm2004': 1544, 'm2014': 1545, 'm2015': 1546, 'm2016': 1547, 'm2026': 1548, 'm2034': 1549, 'm2036': 1550, 'm2037': 1551, 'm2040': 1552, 'm2041': 1553, 'm2044': 1554, 'm2052': 1555, 'm2053': 1556, 'm2060': 1557, 'm2065': 1558, 'm2082': 1559, 'm2088': 1560, 'm2092': 1561, 'm2097': 1562, 'm2108': 1563, 'm2110': 1564, 'm2111': 1565, 'm2118': 1566, 'm2123': 1567, 'm2133': 1568, 'm2134': 1569, 'm2140': 1570, 'm2144': 1571, 'm2148': 1572, 'm2153': 1573, 'm2167': 1574, 'm2169': 1575, 'm2171': 1576, 'm2206': 1577, 'm2227': 1578, 'm2232': 1579, 'm2243': 1580, 'm2244': 1581, 'm2245': 1582, 'm2248': 1583, 'm2249': 1584, 'm2255': 1585, 'm2261': 1586, 'm2263': 1587, 'm2266': 1588, 'm2267': 1589, 'm2279': 1590, 'm2287': 1591, 'm2294': 1592, 'm2302': 1593, 'm2315': 1594, 'm2320': 1595, 'm2321': 1596, 'm2328': 1597, 'm2335': 1598, 'm2354': 1599, 'm2355': 1600, 'm2369': 1601, 'm2371': 1602, 'm2372': 1603, 'm2374': 1604, 'm2375': 1605, 'm2393': 1606, 'm2394': 1607, 'm2396': 1608, 'm2407': 1609, 'm2413': 1610, 'm2416': 1611, 'm2418': 1612, 'm2423': 1613, 'm2428': 1614, 'm2446': 1615, 'm2453': 1616, 'm2455': 1617, 'm2458': 1618, 'm2463': 1619, 'm2465': 1620, 'm2468': 1621, 'm2491': 1622, 'm2496': 1623, 'm2513': 1624, 'm2518': 1625, 'm2539': 1626, 'm2548': 1627, 'm2550': 1628, 'm2555': 1629, 'm2558': 1630, 'm2605': 1631, 'm2606': 1632, 'm2614': 1633, 'm2622': 1634, 'm2642': 1635, 'm2643': 1636, 'm2668': 1637, 'm2672': 1638, 'm2687': 1639, 'm2699': 1640, 'm2709': 1641, 'm2710': 1642, 'm2719': 1643, 'm2720': 1644, 'm2722': 1645, 'm2733': 1646, 'm2746': 1647, 'm2754': 1648, 'm2788': 1649, 'm2793': 1650, 'm2802': 1651, 'm2804': 1652, 'm2806': 1653, 'm2808': 1654, 'm2822': 1655, 'm2836': 1656, 'm2840': 1657, 'm2857': 1658, 'm2860': 1659, 'm2867': 1660, 'm2870': 1661, 'm2883': 1662, 'm2888': 1663, 'm2898': 1664, 'm2900': 1665, 'm2915': 1666, 'm2936': 1667, 'm2968': 1668, 'm2995': 1669, 'm3005': 1670, 'm3016': 1671, 'm3017': 1672, 'm3031': 1673, 'm3032': 1674, 'm3035': 1675, 'm3040': 1676, 'm3048': 1677, 'm3056': 1678, 'm3063': 1679, 'm3064': 1680, 'm3070': 1681, 'm3072': 1682, 'm3082': 1683, 'm3087': 1684, 'm3101': 1685, 'm3104': 1686, 'm3113': 1687, 'm3146': 1688, 'm3190': 1689, 'm3203': 1690, 'm3213': 1691, 'm3219': 1692, 'm3225': 1693, 'm3238': 1694, 'm3248': 1695, 'm3254': 1696, 'm3258': 1697, 'm3264': 1698, 'm3269': 1699, 'm3301': 1700, 'm3308': 1701, 'm3316': 1702, 'm3324': 1703, 'm3355': 1704, 'm3361': 1705, 'm3370': 1706, 'm3387': 1707, 'm3393': 1708, 'm3394': 1709, 'm3395': 1710, 'm3396': 1711, 'm3397': 1712, 'm3398': 1713, 'm3400': 1714, 'm3401': 1715, 'm3418': 1716, 'm3421': 1717, 'm3424': 1718, 'm3454': 1719, 'm3466': 1720, 'm3471': 1721, 'm3476': 1722, 'm3477': 1723, 'm3483': 1724, 'm3484': 1725, 'm3497': 1726, 'm3500': 1727, 'm3501': 1728, 'm3505': 1729, 'm3515': 1730, 'm3526': 1731, 'm3534': 1732, 'm3536': 1733, 'm3548': 1734, 'm3550': 1735, 'm3551': 1736, 'm3584': 1737, 'm3594': 1738, 'm3608': 1739, 'm3622': 1740, 'm3662': 1741, 'm3685': 1742, 'm3686': 1743, 'm3692': 1744, 'm3693': 1745, 'm3698': 1746, 'm3699': 1747, 'm3701': 1748, 'm3704': 1749, 'm3705': 1750, 'm3706': 1751, 'm3708': 1752, 'm3712': 1753, 'm3743': 1754, 'm3745': 1755, 'm3752': 1756, 'm3754': 1757, 'm3763': 1758, 'm3770': 1759, 'm3784': 1760, 'm3797': 1761, 'm3802': 1762, 'm3825': 1763, 'm3826': 1764, 'm3835': 1765, 'm3837': 1766, 'm3839': 1767, 'm1010': 1768, 'm1012': 1769, 'm1013': 1770, 'm1015': 1771, 'm1018': 1772, 'm1022': 1773, 'm1035': 1774, 'm1547': 1775, 'm2006': 1776, 'm2059': 1777, 'm2083': 1778, 'm2087': 1779, 'm2089': 1780, 'm2135': 1781, 'm2430': 1782, 'm2565': 1783, 'm2941': 1784, 'm3157': 1785, 'm3159': 1786, 'm3189': 1787, 'm3410': 1788, 'm3438': 1789, 'm3512': 1790, 'm3549': 1791, 'm3565': 1792, 'm3615': 1793, 'm3755': 1794, 'm3852': 1795, 'm3948': 1796, 'm3972': 1797, 'm3986': 1798, 'm3988': 1799, 'm3990': 1800, 'm3999': 1801, 'm4016': 1802, 'm4019': 1803, 'm4025': 1804, 'm4039': 1805, 'm4054': 1806, 'm4090': 1807, 'm4154': 1808, 'm4161': 1809, 'm4232': 1810, 'm4270': 1811, 'm4299': 1812, 'm4344': 1813, 'm4366': 1814, 'm4367': 1815, 'm4369': 1816, 'm4378': 1817, 'm4446': 1818, 'm4449': 1819, 'm4519': 1820, 'm4638': 1821, 'm4718': 1822, 'm4734': 1823, 'm4776': 1824, 'm4783': 1825, 'm4821': 1826, 'm4846': 1827, 'm4848': 1828, 'm4865': 1829, 'm4901': 1830, 'm4979': 1831, 'm4990': 1832, 'm5013': 1833, 'm5014': 1834, 'm5015': 1835, 'm5103': 1836, 'm5110': 1837, 'm5171': 1838, 'm5254': 1839, 'm5293': 1840, 'm5299': 1841, 'm5313': 1842, 'm5364': 1843, 'm5388': 1844, 'm5419': 1845, 'm5463': 1846, 'm5504': 1847, 'm5630': 1848, 'm5693': 1849, 'm5785': 1850, 'm6143': 1851, 'm6156': 1852, 'm6157': 1853, 'm6166': 1854, 'm6170': 1855, 'm6297': 1856, 'm6345': 1857, 'm6358': 1858, 'm38': 1859, 'm2376': 1860, 'm2378': 1861, 'm2402': 1862, 'm2403': 1863, 'm2724': 1864, 'm2989': 1865, 'm2990': 1866, 'm3633': 1867, 'm3635': 1868, 'm3638': 1869, 'm3697': 1870, 'm3868': 1871, 'm3984': 1872, 'm4005': 1873, 'm4040': 1874, 'm4085': 1875, 'm4489': 1876, 'm4545': 1877, 'm4621': 1878, 'm4701': 1879, 'm5219': 1880, 'm5796': 1881, 'm6503': 1882, 'm7569': 1883, 'm7570': 1884, 'm7573': 1885, 'm7701': 1886, 'm8574': 1887, 'm8946': 1888, 'm26340': 1889, 'm30825': 1890, 'm34162': 1891, 'm39715': 1892, 'm40815': 1893, 'm41566': 1894, 'm45186': 1895, 'm45447': 1896, 'm45672': 1897, 'm46972': 1898, 'm47566': 1899, 'm47997': 1900, 'm50189': 1901, 'm51084': 1902, 'm52730': 1903, 'm52973': 1904, 'm53121': 1905, 'm53322': 1906, 'm54276': 1907, 'm56775': 1908, 'm58025': 1909, 'm58998': 1910, 'm59369': 1911, 'm59429': 1912, 'm59900': 1913, 'm61160': 1914, 'm63082': 1915, 'm64032': 1916, 'm68791': 1917, 'm68793': 1918, 'm69526': 1919, 'm69644': 1920, 'm72641': 1921, 'm73106': 1922, 'm73319': 1923, 'm73858': 1924, 'm76093': 1925, 'm78637': 1926, 'm79134': 1927, 'm79185': 1928, 'm80166': 1929, 'm81229': 1930, 'm81564': 1931, 'm81591': 1932, 'm81834': 1933, 'm82202': 1934, 'm85259': 1935, 'm86068': 1936, 'm87520': 1937, 'm88125': 1938, 'm88405': 1939, 'm88744': 1940, 'm90249': 1941, 'm91535': 1942, 'm91630': 1943, 'm93510': 1944, 'm94503': 1945, 'm94677': 1946, 'm94777': 1947, 'm95067': 1948, 'm95170': 1949, 'm95738': 1950, 'm96004': 1951, 'm96588': 1952, 'm97913': 1953, 'm99532': 1954, 'm102481': 1955, 'm102716': 1956, 'm102993': 1957, 'm103141': 1958, 'm103228': 1959, 'm103372': 1960, 'm103384': 1961, 'm103801': 1962, 'm103810': 1963, 'm103819': 1964, 'm103883': 1965, 'm104211': 1966, 'm105213': 1967, 'm105653': 1968, 'm105844': 1969, 'm105954': 1970, 'm106491': 1971, 'm106540': 1972, 'm106916': 1973, 'm106918': 1974, 'm106920': 1975, 'm107013': 1976, 'm107449': 1977, 'm108156': 1978, 'm108190': 1979, 'm108932': 1980, 'm108945': 1981, 'm109576': 1982, 'm109723': 1983, 'm109864': 1984, 'm110130': 1985, 'm110553': 1986, 'm111113': 1987, 'm111617': 1988, 'm111743': 1989, 'm111781': 1990, 'm111844': 1991, 'm112138': 1992, 'm112175': 1993, 'm114180': 1994, 'm114818': 1995, 'm115502': 1996, 'm115617': 1997, 'm115877': 1998, 'm117368': 1999, 'm117529': 2000, 'm117572': 2001, 'm117590': 2002, 'm117851': 2003, 'm117922': 2004, 'm119141': 2005, 'm119155': 2006, 'm119964': 2007, 'm122896': 2008, 'm126548': 2009, 'm130450': 2010, 'm132157': 2011, 'm133419': 2012, 'm134368': 2013, 'm134393': 2014, 'm135133': 2015, 'm135536': 2016, 'm135861': 2017, 'm135887': 2018, 'm136016': 2019, 'm138036': 2020, 'm138186': 2021, 'm139642': 2022, 'm139717': 2023, 'm139915': 2024, 'm140301': 2025, 'm142536': 2026, 'm143245': 2027, 'm148675': 2028, 'm149380': 2029, 'm160565': 2030, 'm160872': 2031, 'm164909': 2032, 'm166492': 2033, 'm167036': 2034, 'm168248': 2035, 'm173307': 2036, 'm1952': 2037, 'm1953': 2038, 'm2160': 2039, 'm3006': 2040, 'm4017': 2041, 'm4036': 2042, 'm4903': 2043, 'm5617': 2044, 'm5673': 2045, 'm6711': 2046, 'm8464': 2047, 'm8622': 2048, 'm30707': 2049, 'm31410': 2050, 'm34437': 2051, 'm39183': 2052, 'm41997': 2053, 'm46976': 2054, 'm52281': 2055, 'm53519': 2056, 'm54503': 2057, 'm55820': 2058, 'm56171': 2059, 'm56782': 2060, 'm56788': 2061, 'm60766': 2062, 'm61323': 2063, 'm64575': 2064, 'm66097': 2065, 'm68536': 2066, 'm71464': 2067, 'm29': 2068, 'm175': 2069, 'm272': 2070, 'm334': 2071, 'm741': 2072, 'm1050': 2073, 'm1175': 2074, 'm1217': 2075, 'm1218': 2076, 'm1232': 2077, 'm1233': 2078, 'm1237': 2079, 'm1243': 2080, 'm1248': 2081, 'm1249': 2082, 'm1274': 2083, 'm1284': 2084, 'm1425': 2085, 'm1464': 2086, 'm1711': 2087, 'm1809': 2088, 'm1859': 2089, 'm1884': 2090, 'm1960': 2091, 'm2579': 2092, 'm2686': 2093, 'm2726': 2094, 'm2730': 2095, 'm2912': 2096, 'm3030': 2097, 'm3181': 2098, 'm3265': 2099, 'm3822': 2100, 'm4235': 2101, 'm5333': 2102, 'm6234': 2103, 'm6387': 2104, 'm6721': 2105, 'm6773': 2106, 'm6790': 2107, 'm6857': 2108, 'm6920': 2109, 'm6989': 2110, 'm7064': 2111, 'm7069': 2112, 'm7123': 2113, 'm7587': 2114, 'm7924': 2115, 'm7932': 2116, 'm8012': 2117, 'm8228': 2118, 'm8370': 2119, 'm2405': 2120, 'm3556': 2121, 'm4855': 2122, 'm5064': 2123, 'm5791': 2124, 'm31696': 2125, 'm35836': 2126, 'm47610': 2127, 'm57368': 2128, 'm61024': 2129, 'm61132': 2130, 'm86882': 2131, 'm102407': 2132, 'm132660': 2133, 'm122912': 2134, 'm122916': 2135, 'm176371': 2136, 'm187541': 2137, 'm187593': 2138, 'm238': 2139, 'm421': 2140, 'm808': 2141, 'm969': 2142, 'm1083': 2143, 'm1262': 2144, 'm1287': 2145, 'm1387': 2146, 'm1592': 2147, 'm2032': 2148, 'm2142': 2149, 'm2151': 2150, 'm2311': 2151, 'm2530': 2152, 'm2532': 2153, 'm2876': 2154, 'm2886': 2155, 'm3037': 2156, 'm3350': 2157, 'm3451': 2158, 'm3519': 2159, 'm3654': 2160, 'm3791': 2161, 'm3836': 2162, 'm23': 2163, 'm147': 2164, 'm211': 2165, 'm428': 2166, 'm456': 2167, 'm481': 2168, 'm507': 2169, 'm635': 2170, 'm714': 2171, 'm851': 2172, 'm1120': 2173, 'm1171': 2174, 'm1253': 2175, 'm1271': 2176, 'm1303': 2177, 'm1459': 2178, 'm1480': 2179, 'm1678': 2180, 'm1785': 2181, 'm2021': 2182, 'm2231': 2183, 'm2272': 2184, 'm2358': 2185, 'm2618': 2186, 'm2841': 2187, 'm2908': 2188, 'm2952': 2189, 'm3020': 2190, 'm3100': 2191, 'm3105': 2192, 'm3107': 2193, 'm3169': 2194, 'm3178': 2195, 'm3198': 2196, 'm3246': 2197, 'm3250': 2198, 'm3252': 2199, 'm3256': 2200, 'm3260': 2201, 'm3271': 2202, 'm3272': 2203, 'm3360': 2204, 'm3543': 2205, 'm3783': 2206, 'm3950': 2207, 'm3980': 2208, 'm4047': 2209, 'm4211': 2210, 'm4238': 2211, 'm4251': 2212, 'm4343': 2213, 'm4626': 2214, 'm4688': 2215, 'm4772': 2216, 'm4787': 2217, 'm5009': 2218, 'm5010': 2219, 'm5055': 2220, 'm5152': 2221, 'm5267': 2222, 'm5292': 2223, 'm5329': 2224, 'm5446': 2225, 'm5577': 2226, 'm5632': 2227, 'm5682': 2228, 'm5747': 2229, 'm5945': 2230, 'm5955': 2231, 'm6281': 2232, 'm6428': 2233, 'm6537': 2234, 'm6552': 2235, 'm6565': 2236, 'm6617': 2237, 'm6796': 2238, 'm6817': 2239, 'm6867': 2240, 'm6884': 2241, 'm6947': 2242, 'm6953': 2243, 'm6957': 2244, 'm6974': 2245, 'm6993': 2246, 'm6997': 2247, 'm7009': 2248, 'm7025': 2249, 'm7090': 2250, 'm7263': 2251, 'm7481': 2252, 'm7649': 2253, 'm7706': 2254, 'm7841': 2255, 'm7842': 2256, 'm7884': 2257, 'm8010': 2258, 'm8132': 2259, 'm8378': 2260, 'm8493': 2261, 'm8495': 2262, 'm8633': 2263, 'm8810': 2264, 'm8874': 2265, 'm8914': 2266, 'm8937': 2267, 'm8951': 2268, 'm8977': 2269, 'm8982': 2270, 'm8983': 2271, 'm26649': 2272, 'm26695': 2273, 'm26750': 2274, 'm26812': 2275, 'm26901': 2276, 'm27408': 2277, 'm27450': 2278, 'm27788': 2279, 'm27793': 2280, 'm31101': 2281, 'm31116': 2282, 'm31225': 2283, 'm31420': 2284, 'm33166': 2285, 'm33558': 2286, 'm33660': 2287, 'm34536': 2288, 'm36517': 2289, 'm36527': 2290, 'm37731': 2291, 'm37739': 2292, 'm38886': 2293, 'm39381': 2294, 'm39444': 2295, 'm40278': 2296, 'm40414': 2297, 'm40583': 2298, 'm41569': 2299, 'm41863': 2300, 'm42004': 2301, 'm43396': 2302, 'm43921': 2303, 'm43928': 2304, 'm43936': 2305, 'm44195': 2306, 'm44204': 2307, 'm44761': 2308, 'm45658': 2309, 'm46723': 2310, 'm47629': 2311, 'm47644': 2312, 'm47894': 2313, 'm48326': 2314, 'm48385': 2315, 'm48738': 2316, 'm48879': 2317, 'm49265': 2318, 'm49530': 2319, 'm49822': 2320, 'm49961': 2321, 'm50068': 2322, 'm50442': 2323, 'm51080': 2324, 'm51255': 2325, 'm51471': 2326, 'm51935': 2327, 'm52042': 2328, 'm52241': 2329, 'm52328': 2330, 'm52952': 2331, 'm53123': 2332, 'm53550': 2333, 'm53953': 2334, 'm54736': 2335, 'm54962': 2336, 'm54997': 2337, 'm55080': 2338, 'm55094': 2339, 'm55116': 2340, 'm55274': 2341, 'm55363': 2342, 'm55721': 2343, 'm55908': 2344, 'm56145': 2345, 'm56587': 2346, 'm56607': 2347, 'm56921': 2348, 'm58293': 2349, 'm58803': 2350, 'm59018': 2351, 'm59129': 2352, 'm59387': 2353, 'm60046': 2354, 'm60389': 2355, 'm60647': 2356, 'm60674': 2357, 'm60735': 2358, 'm60753': 2359, 'm60941': 2360, 'm60943': 2361, 'm61011': 2362, 'm61167': 2363, 'm61210': 2364, 'm61236': 2365, 'm61248': 2366, 'm61350': 2367, 'm61352': 2368, 'm61628': 2369, 'm61986': 2370, 'm62374': 2371, 'm62376': 2372, 'm62394': 2373, 'm62792': 2374, 'm62799': 2375, 'm62849': 2376, 'm63033': 2377, 'm63062': 2378, 'm63433': 2379, 'm64030': 2380, 'm64497': 2381, 'm64716': 2382, 'm64983': 2383, 'm64997': 2384, 'm65216': 2385, 'm65682': 2386, 'm65982': 2387, 'm67534': 2388, 'm68205': 2389, 'm69849': 2390, 'm70336': 2391, 'm71106': 2392, 'm71135': 2393, 'm953': 2394, 'm1204': 2395, 'm1242': 2396, 'm1772': 2397, 'm1792': 2398, 'm1939': 2399, 'm1945': 2400, 'm2301': 2401, 'm3363': 2402, 'm4980': 2403, 'm7156': 2404, 'm7379': 2405, 'm26554': 2406, 'm26729': 2407, 'm64620': 2408, 'm87306': 2409, 'm98961': 2410, 'm96821': 2411, 'm605': 2412, 'm612': 2413, 'm1099': 2414, 'm1231': 2415, 'm1353': 2416, 'm1361': 2417, 'm1363': 2418, 'm1393': 2419, 'm74': 2420, 'm78': 2421, 'm194': 2422, 'm203': 2423, 'm246': 2424, 'm471': 2425, 'm786': 2426, 'm1104': 2427, 'm1429': 2428, 'm1458': 2429, 'm28': 2430, 'm94': 2431, 'm249': 2432, 'm307': 2433, 'm308': 2434, 'm322': 2435, 'm385': 2436, 'm446': 2437, 'm452': 2438, 'm562': 2439, 'm580': 2440, 'm613': 2441, 'm715': 2442, 'm805': 2443, 'm994': 2444, 'm1027': 2445, 'm1056': 2446, 'm1177': 2447, 'm1280': 2448, 'm1365': 2449, 'm1399': 2450, 'm1446': 2451, 'm1476': 2452, 'm1487': 2453, 'm1537': 2454, 'm1545': 2455, 'm1621': 2456, 'm1633': 2457, 'm1643': 2458, 'm1672': 2459, 'm1673': 2460, 'm1799': 2461, 'm1801': 2462, 'm1841': 2463, 'm2112': 2464, 'm2310': 2465, 'm2333': 2466, 'm2357': 2467, 'm2391': 2468, 'm2443': 2469, 'm2501': 2470, 'm2690': 2471, 'm2875': 2472, 'm2943': 2473, 'm3997': 2474, 'm5146': 2475, 'm5449': 2476, 'm6242': 2477, 'm6567': 2478, 'm6618': 2479, 'm26606': 2480, 'm27193': 2481, 'm27728': 2482, 'm27801': 2483, 'm31184': 2484, 'm44974': 2485, 'm544': 2486, 'm2269': 2487, 'm2735': 2488, 'm2794': 2489, 'm3066': 2490, 'm3270': 2491, 'm3347': 2492, 'm3362': 2493, 'm3766': 2494, 'm3861': 2495, 'm4220': 2496, 'm5093': 2497, 'm5312': 2498, 'm6662': 2499, 'm585': 2500, 'm2342': 2501, 'm3019': 2502, 'm82': 2503, 'm121': 2504, 'm199': 2505, 'm228': 2506, 'm306': 2507, 'm514': 2508, 'm685': 2509, 'm3285': 2510, 'm3968': 2511, 'm4890': 2512, 'm6708': 2513, 'm6763': 2514, 'm7173': 2515, 'm7444': 2516, 'm8981': 2517, 'm54001': 2518, 'm55280': 2519, 'm56941': 2520, 'm59725': 2521, 'm61240': 2522, 'm65230': 2523, 'm71033': 2524, 'm85774': 2525, 'm86781': 2526, 'm87869': 2527, 'm89759': 2528, 'm93840': 2529, 'm96829': 2530, 'm97921': 2531, 'm100714': 2532, 'm101525': 2533, 'm103980': 2534, 'm111659': 2535, 'm111921': 2536, 'm112290': 2537, 'm115569': 2538, 'm116897': 2539, 'm125916': 2540, 'm128360': 2541, 'm136864': 2542, 'm122': 2543, 'm144': 2544, 'm227': 2545, 'm408': 2546, 'm413': 2547, 'm418': 2548, 'm424': 2549, 'm433': 2550, 'm436': 2551, 'm459': 2552, 'm550': 2553, 'm639': 2554, 'm782': 2555, 'm1191': 2556, 'm1343': 2557, 'm1431': 2558, 'm1453': 2559, 'm1468': 2560, 'm1488': 2561, 'm1513': 2562, 'm1667': 2563, 'm1726': 2564, 'm1810': 2565, 'm1835': 2566, 'm1975': 2567, 'm1976': 2568, 'm2146': 2569, 'm2155': 2570, 'm2236': 2571, 'm2297': 2572, 'm2306': 2573, 'm2352': 2574, 'm2404': 2575, 'm2433': 2576, 'm2497': 2577, 'm2500': 2578, 'm2505': 2579, 'm2568': 2580, 'm2574': 2581, 'm2598': 2582, 'm2702': 2583, 'm2713': 2584, 'm2771': 2585, 'm2795': 2586, 'm2796': 2587, 'm2805': 2588, 'm2827': 2589, 'm2861': 2590, 'm2871': 2591, 'm2890': 2592, 'm2906': 2593, 'm3098': 2594, 'm3120': 2595, 'm3142': 2596, 'm3177': 2597, 'm3186': 2598, 'm3208': 2599, 'm3259': 2600, 'm3261': 2601, 'm3298': 2602, 'm3326': 2603, 'm3502': 2604, 'm3552': 2605, 'm3646': 2606, 'm3694': 2607, 'm3695': 2608, 'm3764': 2609, 'm3824': 2610, 'm3841': 2611, 'm3946': 2612, 'm3987': 2613, 'm4008': 2614, 'm4041': 2615, 'm4062': 2616, 'm4067': 2617, 'm4084': 2618, 'm4102': 2619, 'm4132': 2620, 'm4153': 2621, 'm4155': 2622, 'm4207': 2623, 'm4280': 2624, 'm4293': 2625, 'm4317': 2626, 'm4321': 2627, 'm4322': 2628, 'm4333': 2629, 'm4349': 2630, 'm4351': 2631, 'm4359': 2632, 'm4361': 2633, 'm4396': 2634, 'm4442': 2635, 'm4466': 2636, 'm4477': 2637, 'm4482': 2638, 'm4487': 2639, 'm4509': 2640, 'm4516': 2641, 'm4541': 2642, 'm4564': 2643, 'm4565': 2644, 'm4577': 2645, 'm4623': 2646, 'm4629': 2647, 'm4654': 2648, 'm4679': 2649, 'm4686': 2650, 'm57': 2651, 'm259': 2652, 'm484': 2653, 'm519': 2654, 'm828': 2655, 'm1105': 2656, 'm18': 2657, 'm663': 2658, 'm737': 2659, 'm833': 2660, 'm836': 2661, 'm889': 2662, 'm69': 2663, 'm934': 2664, 'm1005': 2665, 'm1033': 2666, 'm1390': 2667, 'm1442': 2668, 'm1615': 2669, 'm1642': 2670, 'm1753': 2671, 'm1769': 2672, 'm1863': 2673, 'm1866': 2674, 'm1934': 2675, 'm2042': 2676, 'm2064': 2677, 'm2106': 2678, 'm2124': 2679, 'm2195': 2680, 'm2431': 2681, 'm2504': 2682, 'm2718': 2683, 'm2731': 2684, 'm3004': 2685, 'm3196': 2686, 'm3249': 2687, 'm3268': 2688, 'm3274': 2689, 'm3385': 2690, 'm4104': 2691, 'm4502': 2692, 'm4929': 2693, 'm4958': 2694, 'm4974': 2695, 'm5151': 2696, 'm5220': 2697, 'm5283': 2698, 'm5307': 2699, 'm5308': 2700, 'm5500': 2701, 'm5528': 2702, 'm5568': 2703, 'm5582': 2704, 'm5585': 2705, 'm5589': 2706, 'm7294': 2707, 'm33495': 2708, 'm53993': 2709, 'm391': 2710, 'm2121': 2711, 'm2942': 2712, 'm3844': 2713, 'm3969': 2714, 'm4474': 2715, 'm4975': 2716, 'm5108': 2717, 'm6765': 2718, 'm7160': 2719, 'm8966': 2720, 'm45950': 2721, 'm47423': 2722, 'm51931': 2723, 'm53894': 2724, 'm63876': 2725, 'm68932': 2726, 'm69712': 2727, 'm72395': 2728, 'm79242': 2729, 'm82767': 2730, 'm96567': 2731, 'm96811': 2732, 'm97923': 2733, 'm100383': 2734, 'm106100': 2735, 'm108729': 2736, 'm112804': 2737, 'm117881': 2738, 'm132424': 2739, 'm137337': 2740, 'm140174': 2741, 'm140247': 2742, 'm140715': 2743, 'm145839': 2744, 'm146656': 2745, 'm159817': 2746, 'm163645': 2747, 'm166643': 2748, 'm171011': 2749, 'm1320': 2750, 'm5882': 2751, 'm8371': 2752, 'm909': 2753, 'm1251': 2754, 'm1273': 2755, 'm1289': 2756, 'm2164': 2757, 'm2553': 2758, 'm2732': 2759, 'm2925': 2760, 'm3221': 2761, 'm3415': 2762, 'm3730': 2763, 'm4282': 2764, 'm4399': 2765, 'm4658': 2766, 'm4914': 2767, 'm4928': 2768, 'm5004': 2769, 'm5021': 2770, 'm5810': 2771, 'm5932': 2772, 'm6239': 2773, 'm6663': 2774, 'm6666': 2775, 'm6975': 2776, 'm7063': 2777, 'm7206': 2778, 'm7247': 2779, 'm7327': 2780, 'm7396': 2781, 'm7700': 2782, 'm7748': 2783, 'm8143': 2784, 'm8157': 2785, 'm8235': 2786, 'm8253': 2787, 'm8379': 2788, 'm8879': 2789, 'm8928': 2790, 'm8974': 2791, 'm26258': 2792, 'm26326': 2793, 'm26422': 2794, 'm27156': 2795, 'm27513': 2796, 'm32657': 2797, 'm32659': 2798, 'm32875': 2799, 'm32898': 2800, 'm33781': 2801, 'm37545': 2802, 'm44719': 2803, 'm45880': 2804, 'm46062': 2805, 'm46862': 2806, 'm52885': 2807, 'm62336': 2808, 'm62644': 2809, 'm63312': 2810, 'm64278': 2811, 'm66335': 2812, 'm79224': 2813, 'm81018': 2814, 'm81562': 2815, 'm82848': 2816, 'm85796': 2817, 'm88911': 2818, 'm90522': 2819, 'm90746': 2820, 'm91094': 2821, 'm92046': 2822, 'm92427': 2823, 'm92475': 2824, 'm93114': 2825, 'm93326': 2826, 'm96606': 2827, 'm97225': 2828, 'm97304': 2829, 'm100498': 2830, 'm101072': 2831, 'm103171': 2832, 'm104283': 2833, 'm104913': 2834, 'm105250': 2835, 'm107338': 2836, 'm107565': 2837, 'm111732': 2838, 'm113374': 2839, 'm114335': 2840, 'm115203': 2841, 'm122898': 2842, 'm127146': 2843, 'm128695': 2844, 'm134170': 2845, 'm134515': 2846, 'm135143': 2847, 'm135456': 2848, 'm136018': 2849, 'm136305': 2850, 'm136564': 2851, 'm137857': 2852, 'm138208': 2853, 'm139644': 2854, 'm140928': 2855, 'm142074': 2856, 'm142448': 2857, 'm142602': 2858, 'm142961': 2859, 'm142997': 2860, 'm143859': 2861, 'm143969': 2862, 'm149406': 2863, 'm151759': 2864, 'm156607': 2865, 'm160569': 2866, 'm164280': 2867, 'm165969': 2868, 'm167370': 2869, 'm168254': 2870, 'm168492': 2871, 'm170705': 2872, 'm170875': 2873, 'm171701': 2874, 'm171759': 2875, 'm172013': 2876, 'm172461': 2877, 'm174055': 2878, 'm174141': 2879, 'm174403': 2880, 'm174737': 2881, 'm175485': 2882, 'm175661': 2883, 'm175693': 2884, 'm175705': 2885, 'm175707': 2886, 'm175743': 2887, 'm175781': 2888, 'm179073': 2889, 'm188301': 2890, 'm190183': 2891, 'm387': 2892, 'm479': 2893, 'm482': 2894, 'm522': 2895, 'm781': 2896, 'm1011': 2897, 'm1014': 2898, 'm1235': 2899, 'm1244': 2900, 'm1301': 2901, 'm1350': 2902, 'm1873': 2903, 'm1997': 2904, 'm1999': 2905, 'm2159': 2906, 'm2183': 2907, 'm2265': 2908, 'm2322': 2909, 'm2356': 2910, 'm2363': 2911, 'm2379': 2912, 'm2380': 2913, 'm2408': 2914, 'm2454': 2915, 'm2524': 2916, 'm2533': 2917, 'm2554': 2918, 'm2587': 2919, 'm2613': 2920, 'm2615': 2921, 'm2634': 2922, 'm2661': 2923, 'm2664': 2924, 'm2752': 2925, 'm2978': 2926, 'm3115': 2927, 'm3148': 2928, 'm3388': 2929, 'm3430': 2930, 'm3614': 2931, 'm3799': 2932, 'm3814': 2933, 'm3917': 2934, 'm3918': 2935, 'm3959': 2936, 'm4215': 2937, 'm4241': 2938, 'm4255': 2939, 'm4267': 2940, 'm4291': 2941, 'm4340': 2942, 'm4437': 2943, 'm4464': 2944, 'm4496': 2945, 'm4508': 2946, 'm4591': 2947, 'm4713': 2948, 'm4876': 2949, 'm4971': 2950, 'm4992': 2951, 'm5040': 2952, 'm5339': 2953, 'm5505': 2954, 'm5672': 2955, 'm5712': 2956, 'm6323': 2957, 'm6371': 2958, 'm6659': 2959, 'm6786': 2960, 'm6793': 2961, 'm6873': 2962, 'm6880': 2963, 'm7000': 2964, 'm7004': 2965, 'm7007': 2966, 'm7040': 2967, 'm7163': 2968, 'm7757': 2969, 'm7983': 2970, 'm8623': 2971, 'm26680': 2972, 'm34338': 2973, 'm39414': 2974, 'm42723': 2975, 'm45666': 2976, 'm48877': 2977, 'm52722': 2978, 'm57532': 2979, 'm59306': 2980, 'm60487': 2981, 'm33646': 2982, 'm50794': 2983, 'm51077': 2984, 'm52245': 2985, 'm54995': 2986, 'm54999': 2987, 'm56801': 2988, 'm65514': 2989, 'm69481': 2990, 'm86892': 2991, 'm93721': 2992, 'm93838': 2993, 'm110501': 2994, 'm748': 2995, 'm916': 2996, 'm1125': 2997, 'm1982': 2998, 'm1293': 2999, 'm198': 3000, 'm473': 3001, 'm518': 3002, 'm707': 3003, 'm728': 3004, 'm861': 3005, 'm897': 3006, 'm942': 3007, 'm951': 3008, 'm955': 3009, 'm1184': 3010, 'm1254': 3011, 'm1268': 3012, 'm1277': 3013, 'm1388': 3014, 'm1416': 3015, 'm1498': 3016, 'm1564': 3017, 'm1646': 3018, 'm1670': 3019, 'm1858': 3020, 'm1912': 3021, 'm2009': 3022, 'm2067': 3023, 'm2102': 3024, 'm2202': 3025, 'm2289': 3026, 'm2429': 3027, 'm2476': 3028, 'm2681': 3029, 'm2759': 3030, 'm2917': 3031, 'm2922': 3032, 'm2935': 3033, 'm2961': 3034, 'm3045': 3035, 'm3334': 3036, 'm3426': 3037, 'm3446': 3038, 'm3494': 3039, 'm3507': 3040, 'm3593': 3041, 'm3628': 3042, 'm3632': 3043, 'm3643': 3044, 'm3769': 3045, 'm3773': 3046, 'm3774': 3047, 'm3811': 3048, 'm3901': 3049, 'm3937': 3050, 'm280': 3051, 'm928': 3052, 'm1151': 3053, 'm1428': 3054, 'm1631': 3055, 'm1696': 3056, 'm1797': 3057, 'm1944': 3058, 'm2020': 3059, 'm2075': 3060, 'm3075': 3061, 'm3230': 3062, 'm3461': 3063, 'm3498': 3064, 'm3504': 3065, 'm6460': 3066, 'm2739': 3067, 'm6058': 3068, 'm6541': 3069, 'm6564': 3070, 'm27660': 3071, 'm27706': 3072, 'm27808': 3073, 'm48043': 3074, 'm49130': 3075, 'm49649': 3076, 'm50804': 3077, 'm51086': 3078, 'm59501': 3079, 'm60072': 3080, 'm60126': 3081, 'm63072': 3082, 'm67734': 3083, 'm68554': 3084, 'm68848': 3085, 'm74228': 3086, 'm78105': 3087, 'm79357': 3088, 'm80693': 3089, 'm82461': 3090, 'm83369': 3091, 'm86911': 3092, 'm87430': 3093, 'm89492': 3094, 'm89864': 3095, 'm90866': 3096, 'm96861': 3097, 'm99149': 3098, 'm102123': 3099, 'm103042': 3100, 'm103341': 3101, 'm104863': 3102, 'm106002': 3103, 'm107348': 3104, 'm107406': 3105, 'm111360': 3106, 'm113741': 3107, 'm114662': 3108, 'm114678': 3109, 'm114935': 3110, 'm115210': 3111, 'm115680': 3112, 'm118696': 3113, 'm128512': 3114, 'm135518': 3115, 'm142222': 3116, 'm143355': 3117, 'm158966': 3118, 'm161131': 3119, 'm166534': 3120, 'm168250': 3121, 'm170827': 3122, 'm171763': 3123, 'm172591': 3124, 'm173925': 3125, 'm174053': 3126, 'm175303': 3127, 'm176601': 3128, 'm179401': 3129, 'm179819': 3130, 'm182715': 3131, 'm183611': 3132, 'm184471': 3133, 'm185031': 3134, 'm187595': 3135, 'm1202': 3136, 'm1965': 3137, 'm3088': 3138, 'm4105': 3139, 'm6104': 3140, 'm7022': 3141, 'm7132': 3142, 'm7387': 3143, 'm7980': 3144, 'm8376': 3145, 'm8873': 3146, 'm27846': 3147, 'm27904': 3148, 'm30810': 3149, 'm33779': 3150, 'm45728': 3151, 'm53000': 3152, 'm54259': 3153, 'm64285': 3154, 'm67997': 3155, 'm77800': 3156, 'm86290': 3157, 'm86504': 3158, 'm89753': 3159, 'm89904': 3160, 'm92494': 3161, 'm92535': 3162, 'm95858': 3163, 'm98491': 3164, 'm102217': 3165, 'm104069': 3166, 'm365': 3167, 'm968': 3168, 'm1096': 3169, 'm1762': 3170, 'm1889': 3171, 'm2313': 3172, 'm2905': 3173, 'm3041': 3174, 'm4023': 3175, 'm4128': 3176, 'm4380': 3177, 'm4448': 3178, 'm4773': 3179, 'm4964': 3180, 'm5026': 3181, 'm5225': 3182, 'm5291': 3183, 'm5417': 3184, 'm5690': 3185, 'm5878': 3186, 'm5954': 3187, 'm6188': 3188, 'm6214': 3189, 'm6218': 3190, 'm6296': 3191, 'm6331': 3192, 'm6385': 3193, 'm6936': 3194, 'm6944': 3195, 'm7139': 3196, 'm7162': 3197, 'm7235': 3198, 'm7360': 3199, 'm7411': 3200, 'm7743': 3201, 'm7930': 3202, 'm7982': 3203, 'm8014': 3204, 'm8093': 3205, 'm8645': 3206, 'm8795': 3207, 'm8832': 3208, 'm26504': 3209, 'm27020': 3210, 'm27266': 3211, 'm27523': 3212, 'm27869': 3213, 'm33683': 3214, 'm34072': 3215, 'm42632': 3216, 'm255': 3217, 'm523': 3218, 'm535': 3219, 'm1216': 3220, 'm1326': 3221, 'm1382': 3222, 'm1541': 3223, 'm1956': 3224, 'm2257': 3225, 'm2312': 3226, 'm2316': 3227, 'm2401': 3228, 'm2956': 3229, 'm2966': 3230, 'm3029': 3231, 'm3074': 3232, 'm3201': 3233, 'm3262': 3234, 'm3444': 3235, 'm4079': 3236, 'm4149': 3237, 'm4158': 3238, 'm4203': 3239, 'm4231': 3240, 'm4465': 3241, 'm4499': 3242, 'm4537': 3243, 'm4572': 3244, 'm4581': 3245, 'm4585': 3246, 'm4611': 3247, 'm4616': 3248, 'm5023': 3249, 'm5265': 3250, 'm5548': 3251, 'm5644': 3252, 'm6022': 3253, 'm6025': 3254, 'm6124': 3255, 'm6313': 3256, 'm6636': 3257, 'm6754': 3258, 'm6832': 3259, 'm6979': 3260, 'm6996': 3261, 'm7015': 3262, 'm7027': 3263, 'm7028': 3264, 'm7046': 3265, 'm7048': 3266, 'm7127': 3267, 'm7325': 3268, 'm7493': 3269, 'm7624': 3270, 'm7647': 3271, 'm7766': 3272, 'm8024': 3273, 'm8158': 3274, 'm5628': 3275, 'm8604': 3276, 'm8605': 3277, 'm875': 3278, 'm932': 3279, 'm1017': 3280, 'm1019': 3281, 'm1292': 3282, 'm1381': 3283, 'm1515': 3284, 'm1635': 3285, 'm1703': 3286, 'm2125': 3287, 'm2334': 3288, 'm2340': 3289, 'm2385': 3290, 'm2471': 3291, 'm2560': 3292, 'm2567': 3293, 'm2662': 3294, 'm2728': 3295, 'm2803': 3296, 'm2881': 3297, 'm2950': 3298, 'm3077': 3299, 'm3452': 3300, 'm3553': 3301, 'm3554': 3302, 'm3653': 3303, 'm3675': 3304, 'm3707': 3305, 'm3786': 3306, 'm3978': 3307, 'm3981': 3308, 'm4015': 3309, 'm4068': 3310, 'm4069': 3311, 'm4124': 3312, 'm4141': 3313, 'm4326': 3314, 'm4356': 3315, 'm4372': 3316, 'm4387': 3317, 'm4388': 3318, 'm4639': 3319, 'm4677': 3320, 'm4681': 3321, 'm4823': 3322, 'm4877': 3323, 'm4969': 3324, 'm5049': 3325, 'm5400': 3326, 'm5444': 3327, 'm5541': 3328, 'm5553': 3329, 'm6193': 3330, 'm6383': 3331, 'm6595': 3332, 'm6707': 3333, 'm6753': 3334, 'm6755': 3335, 'm6879': 3336, 'm6893': 3337, 'm6939': 3338, 'm7010': 3339, 'm7137': 3340, 'm7256': 3341, 'm7320': 3342, 'm7346': 3343, 'm7454': 3344, 'm7541': 3345, 'm7566': 3346, 'm8366': 3347, 'm8677': 3348, 'm8781': 3349, 'm8807': 3350, 'm8861': 3351, 'm8866': 3352, 'm8910': 3353, 'm8947': 3354, 'm8968': 3355, 'm8985': 3356, 'm26712': 3357, 'm26778': 3358, 'm26871': 3359, 'm27473': 3360, 'm27539': 3361, 'm27705': 3362, 'm30822': 3363, 'm31049': 3364, 'm32598': 3365, 'm33154': 3366, 'm33437': 3367, 'm33672': 3368, 'm34153': 3369, 'm34542': 3370, 'm40732': 3371, 'm40959': 3372, 'm41571': 3373, 'm41573': 3374, 'm41724': 3375, 'm42018': 3376, 'm42718': 3377, 'm42738': 3378, 'm44004': 3379, 'm44709': 3380, 'm44788': 3381, 'm45431': 3382, 'm45501': 3383, 'm45720': 3384, 'm45726': 3385, 'm45928': 3386, 'm46322': 3387, 'm46948': 3388, 'm47970': 3389, 'm47978': 3390, 'm47999': 3391, 'm48342': 3392, 'm48696': 3393, 'm49274': 3394, 'm49772': 3395, 'm50658': 3396, 'm50685': 3397, 'm50740': 3398, 'm50806': 3399, 'm51709': 3400, 'm51884': 3401, 'm52287': 3402, 'm52435': 3403, 'm52458': 3404, 'm52767': 3405, 'm52975': 3406, 'm53435': 3407, 'm54004': 3408, 'm54116': 3409, 'm54121': 3410, 'm54281': 3411, 'm54734': 3412, 'm54881': 3413, 'm55052': 3414, 'm55112': 3415, 'm55190': 3416, 'm55232': 3417, 'm55253': 3418, 'm55267': 3419, 'm55282': 3420, 'm55620': 3421, 'm55830': 3422, 'm56152': 3423, 'm56251': 3424, 'm56336': 3425, 'm56339': 3426, 'm56379': 3427, 'm57951': 3428, 'm58078': 3429, 'm58107': 3430, 'm58162': 3431, 'm58347': 3432, 'm58839': 3433, 'm59126': 3434, 'm59220': 3435, 'm59258': 3436, 'm59440': 3437, 'm59731': 3438, 'm60363': 3439, 'm60514': 3440, 'm62155': 3441, 'm62293': 3442, 'm62956': 3443, 'm62999': 3444, 'm64622': 3445, 'm65188': 3446, 'm66198': 3447, 'm66665': 3448, 'm67087': 3449, 'm67267': 3450, 'm67408': 3451, 'm67618': 3452, 'm68659': 3453, 'm68952': 3454, 'm69069': 3455, 'm69394': 3456, 'm69524': 3457, 'm69784': 3458, 'm69904': 3459, 'm70492': 3460, 'm70521': 3461, 'm70990': 3462, 'm71282': 3463, 'm72167': 3464, 'm72489': 3465, 'm72591': 3466, 'm73023': 3467, 'm74154': 3468, 'm74508': 3469, 'm74668': 3470, 'm74946': 3471, 'm76751': 3472, 'm78467': 3473, 'm78703': 3474, 'm79057': 3475, 'm80860': 3476, 'm81910': 3477, 'm83134': 3478, 'm83803': 3479, 'm84772': 3480, 'm85780': 3481, 'm86293': 3482, 'm86377': 3483, 'm86833': 3484, 'm89087': 3485, 'm89470': 3486, 'm90576': 3487, 'm92420': 3488, 'm93287': 3489, 'm94959': 3490, 'm95218': 3491, 'm95624': 3492, 'm95875': 3493, 'm96110': 3494, 'm114762': 3495, 'm4744': 3496, 'm4880': 3497, 'm1172': 3498, 'm1300': 3499, 'm1955': 3500, 'm1959': 3501, 'm1962': 3502, 'm3152': 3503, 'm3359': 3504, 'm3468': 3505, 'm91077': 3506, 'm2136': 3507, 'm44193': 3508, 'm45221': 3509, 'm47122': 3510, 'm47518': 3511, 'm48414': 3512, 'm50601': 3513, 'm53460': 3514, 'm55768': 3515, 'm68135': 3516, 'm69278': 3517, 'm71518': 3518, 'm72226': 3519, 'm74647': 3520, 'm75805': 3521, 'm76293': 3522, 'm87485': 3523, 'm92509': 3524, 'm93272': 3525, 'm99106': 3526, 'm101612': 3527, 'm105037': 3528, 'm109483': 3529, 'm111320': 3530, 'm112450': 3531, 'm112788': 3532, 'm113378': 3533, 'm114074': 3534, 'm123947': 3535, 'm127202': 3536, 'm128520': 3537, 'm131013': 3538, 'm138204': 3539, 'm149354': 3540, 'm151739': 3541, 'm926': 3542, 'm949': 3543, 'm1041': 3544, 'm1185': 3545, 'm2010': 3546, 'm2360': 3547, 'm2594': 3548, 'm3089': 3549, 'm3307': 3550, 'm4103': 3551, 'm4427': 3552, 'm4546': 3553, 'm5300': 3554, 'm5304': 3555, 'm5341': 3556, 'm5434': 3557, 'm5812': 3558, 'm5867': 3559, 'm6235': 3560, 'm6244': 3561, 'm6270': 3562, 'm6301': 3563, 'm6305': 3564, 'm6591': 3565, 'm6791': 3566, 'm6852': 3567, 'm6858': 3568, 'm7087': 3569, 'm7158': 3570, 'm7234': 3571, 'm7419': 3572, 'm7889': 3573, 'm8154': 3574, 'm8183': 3575, 'm8340': 3576, 'm8341': 3577, 'm8804': 3578, 'm8838': 3579, 'm26350': 3580, 'm26578': 3581, 'm27721': 3582, 'm31522': 3583, 'm39292': 3584, 'm44937': 3585, 'm48698': 3586, 'm50274': 3587, 'm52967': 3588, 'm55069': 3589, 'm55444': 3590, 'm55814': 3591, 'm57147': 3592, 'm58103': 3593, 'm58154': 3594, 'm6303': 3595, 'm7001': 3596, 'm2318': 3597, 'm7669': 3598, 'm39446': 3599, 'm55577': 3600, 'm63436': 3601, 'm72129': 3602, 'm81535': 3603, 'm20': 3604, 'm2792': 3605, 'm164': 3606, 'm1189': 3607, 'm1192': 3608, 'm2659': 3609, 'm3197': 3610, 'm3266': 3611, 'm3425': 3612, 'm3576': 3613, 'm4887': 3614, 'm6059': 3615, 'm6952': 3616, 'm60030': 3617, 'm69654': 3618, 'm75395': 3619, 'm78266': 3620, 'm78349': 3621, 'm80363': 3622, 'm80831': 3623, 'm81417': 3624, 'm82041': 3625, 'm84189': 3626, 'm84601': 3627, 'm85397': 3628, 'm90405': 3629, 'm90469': 3630, 'm91974': 3631, 'm93297': 3632, 'm96691': 3633, 'm96917': 3634, 'm98361': 3635, 'm100810': 3636, 'm103075': 3637, 'm103688': 3638, 'm2381': 3639, 'm2383': 3640, 'm2384': 3641, 'm4386': 3642, 'm4989': 3643, 'm5065': 3644, 'm5094': 3645, 'm5106': 3646, 'm5296': 3647, 'm5414': 3648, 'm5803': 3649, 'm5874': 3650, 'm5900': 3651, 'm6006': 3652, 'm6014': 3653, 'm6249': 3654, 'm6338': 3655, 'm6484': 3656, 'm6536': 3657, 'm6550': 3658, 'm6566': 3659, 'm6586': 3660, 'm6593': 3661, 'm6686': 3662, 'm6687': 3663, 'm6702': 3664, 'm6750': 3665, 'm6752': 3666, 'm6764': 3667, 'm6886': 3668, 'm6887': 3669, 'm6946': 3670, 'm6949': 3671, 'm6958': 3672, 'm7142': 3673, 'm3155': 3674, 'm27397': 3675, 'm55442': 3676, 'm58303': 3677, 'm14': 3678, 'm55': 3679, 'm154': 3680, 'm214': 3681, 'm287': 3682, 'm299': 3683, 'm321': 3684, 'm324': 3685, 'm326': 3686, 'm331': 3687, 'm369': 3688, 'm406': 3689, 'm691': 3690, 'm722': 3691, 'm726': 3692, 'm900': 3693, 'm948': 3694, 'm971': 3695, 'm987': 3696, 'm1091': 3697, 'm1131': 3698, 'm1132': 3699, 'm1135': 3700, 'm1187': 3701, 'm1190': 3702, 'm1194': 3703, 'm1286': 3704, 'm1290': 3705, 'm1295': 3706, 'm1296': 3707, 'm1305': 3708, 'm1395': 3709, 'm1414': 3710, 'm53': 3711, 'm1140': 3712, 'm1519': 3713, 'm1596': 3714, 'm1624': 3715, 'm1683': 3716, 'm1694': 3717, 'm1730': 3718, 'm72356': 3719, 'm74553': 3720, 'm3910': 3721, 'm6464': 3722, 'm7312': 3723, 'm26974': 3724, 'm74795': 3725, 'm83177': 3726, 'm901': 3727, 'm905': 3728, 'm918': 3729, 'm936': 3730, 'm945': 3731, 'm946': 3732, 'm947': 3733, 'm950': 3734, 'm3061': 3735, 'm3097': 3736, 'm3315': 3737, 'm3599': 3738, 'm3604': 3739, 'm3606': 3740, 'm3991': 3741, 'm4300': 3742, 'm4899': 3743, 'm5092': 3744, 'm5480': 3745, 'm5529': 3746, 'm5621': 3747, 'm6271': 3748, 'm6402': 3749, 'm6604': 3750, 'm6650': 3751, 'm6783': 3752, 'm7067': 3753, 'm7209': 3754, 'm7297': 3755, 'm7381': 3756, 'm8238': 3757, 'm8372': 3758, 'm8814': 3759, 'm8978': 3760, 'm25887': 3761, 'm26183': 3762, 'm26184': 3763, 'm26265': 3764, 'm26429': 3765, 'm26645': 3766, 'm27619': 3767, 'm27826': 3768, 'm31851': 3769, 'm31925': 3770, 'm32060': 3771, 'm32243': 3772, 'm32596': 3773, 'm33090': 3774, 'm33830': 3775, 'm34312': 3776, 'm34332': 3777, 'm35807': 3778, 'm37384': 3779, 'm37444': 3780, 'm40339': 3781, 'm40962': 3782, 'm41828': 3783, 'm42013': 3784, 'm42725': 3785, 'm42761': 3786, 'm44773': 3787, 'm44777': 3788, 'm44851': 3789, 'm46105': 3790, 'm47725': 3791, 'm47736': 3792, 'm48520': 3793, 'm48649': 3794, 'm48982': 3795, 'm49013': 3796, 'm49735': 3797, 'm50613': 3798, 'm50999': 3799, 'm51167': 3800, 'm51575': 3801, 'm53280': 3802, 'm53355': 3803, 'm53578': 3804, 'm55269': 3805, 'm58291': 3806, 'm60289': 3807, 'm60737': 3808, 'm62008': 3809, 'm64116': 3810, 'm65588': 3811, 'm66798': 3812, 'm66943': 3813, 'm67888': 3814, 'm69211': 3815, 'm69304': 3816, 'm69469': 3817, 'm69720': 3818, 'm70697': 3819, 'm72178': 3820, 'm72624': 3821, 'm72692': 3822, 'm72701': 3823, 'm73015': 3824, 'm73042': 3825, 'm73160': 3826, 'm73822': 3827, 'm74342': 3828, 'm74683': 3829, 'm74698': 3830, 'm76143': 3831, 'm76301': 3832, 'm77688': 3833, 'm78142': 3834, 'm78620': 3835, 'm79684': 3836, 'm79897': 3837, 'm80727': 3838, 'm81087': 3839, 'm81537': 3840, 'm82854': 3841, 'm83910': 3842, 'm83969': 3843, 'm84246': 3844, 'm84512': 3845, 'm84944': 3846, 'm85295': 3847, 'm85881': 3848, 'm86059': 3849, 'm86298': 3850, 'm87834': 3851, 'm88069': 3852, 'm88746': 3853, 'm88785': 3854, 'm88812': 3855, 'm89898': 3856, 'm90717': 3857, 'm91355': 3858, 'm91386': 3859, 'm91666': 3860, 'm92643': 3861, 'm93006': 3862, 'm93022': 3863, 'm94661': 3864, 'm95633': 3865, 'm95843': 3866, 'm96608': 3867, 'm96935': 3868, 'm97836': 3869, 'm98279': 3870, 'm99117': 3871, 'm99122': 3872, 'm99130': 3873, 'm99853': 3874, 'm100390': 3875, 'm100507': 3876, 'm101283': 3877, 'm102378': 3878, 'm102686': 3879, 'm102747': 3880, 'm102984': 3881, 'm103602': 3882, 'm104339': 3883, 'm104875': 3884, 'm105540': 3885, 'm105746': 3886, 'm106594': 3887, 'm106927': 3888, 'm107951': 3889, 'm108078': 3890, 'm108949': 3891, 'm109241': 3892, 'm109596': 3893, 'm111146': 3894, 'm113252': 3895, 'm113453': 3896, 'm115111': 3897, 'm116718': 3898, 'm116738': 3899, 'm116817': 3900, 'm117109': 3901, 'm118270': 3902, 'm118530': 3903, 'm118572': 3904, 'm118834': 3905, 'm118862': 3906, 'm118894': 3907, 'm119714': 3908, 'm120813': 3909, 'm121007': 3910, 'm121097': 3911, 'm121338': 3912, 'm121342': 3913, 'm121469': 3914, 'm121781': 3915, 'm122092': 3916, 'm124273': 3917, 'm124404': 3918, 'm125970': 3919, 'm125974': 3920, 'm126088': 3921, 'm126577': 3922, 'm126921': 3923, 'm127052': 3924, 'm127134': 3925, 'm128087': 3926, 'm128089': 3927, 'm128366': 3928, 'm128594': 3929, 'm128852': 3930, 'm128944': 3931, 'm128968': 3932, 'm129011': 3933, 'm129354': 3934, 'm130452': 3935, 'm130518': 3936, 'm130520': 3937, 'm131098': 3938, 'm131104': 3939, 'm131130': 3940, 'm131439': 3941, 'm131610': 3942, 'm131826': 3943, 'm132153': 3944, 'm132422': 3945, 'm132496': 3946, 'm132584': 3947, 'm132800': 3948, 'm133712': 3949, 'm133867': 3950, 'm133879': 3951, 'm134004': 3952, 'm134334': 3953, 'm134847': 3954, 'm135777': 3955, 'm135937': 3956, 'm136341': 3957, 'm136353': 3958, 'm136355': 3959, 'm136359': 3960, 'm136503': 3961, 'm136834': 3962, 'm139157': 3963, 'm139640': 3964, 'm139994': 3965, 'm140133': 3966, 'm140481': 3967, 'm140541': 3968, 'm140561': 3969, 'm140711': 3970, 'm141513': 3971, 'm141544': 3972, 'm141646': 3973, 'm141830': 3974, 'm141928': 3975, 'm142196': 3976, 'm142444': 3977, 'm142550': 3978, 'm142831': 3979, 'm143031': 3980, 'm143559': 3981, 'm144222': 3982, 'm145491': 3983, 'm146244': 3984, 'm146684': 3985, 'm146986': 3986, 'm147410': 3987, 'm147936': 3988, 'm148632': 3989, 'm148775': 3990, 'm149350': 3991, 'm149352': 3992, 'm149508': 3993, 'm149566': 3994, 'm150554': 3995, 'm153386': 3996, 'm153408': 3997, 'm155589': 3998, 'm156025': 3999, 'm156781': 4000, 'm157296': 4001, 'm157775': 4002, 'm158398': 4003, 'm158882': 4004, 'm159069': 4005, 'm160567': 4006, 'm163527': 4007, 'm164200': 4008, 'm164226': 4009, 'm164707': 4010, 'm167018': 4011, 'm167380': 4012, 'm167772': 4013, 'm167854': 4014, 'm169912': 4015, 'm170837': 4016, 'm170993': 4017, 'm171751': 4018, 'm171811': 4019, 'm172321': 4020, 'm173253': 4021, 'm174681': 4022, 'm176621': 4023, 'm176805': 4024, 'm177185': 4025, 'm177765': 4026, 'm179211': 4027, 'm181065': 4028, 'm182293': 4029, 'm182297': 4030, 'm182299': 4031, 'm182731': 4032, 'm184349': 4033, 'm184791': 4034, 'm68': 4035, 'm81': 4036, 'm85': 4037, 'm116': 4038, 'm581': 4039, 'm617': 4040, 'm735': 4041, 'm766': 4042, 'm791': 4043, 'm896': 4044, 'm1034': 4045, 'm1116': 4046, 'm1137': 4047, 'm1144': 4048, 'm1366': 4049, 'm1411': 4050, 'm1417': 4051, 'm384': 4052, 'm464': 4053, 'm533': 4054, 'm1241': 4055, 'm1321': 4056, 'm1337': 4057, 'm1340': 4058, 'm1760': 4059, 'm1771': 4060, 'm1974': 4061, 'm1981': 4062, 'm2117': 4063, 'm2122': 4064, 'm2138': 4065, 'm2298': 4066, 'm2419': 4067, 'm2456': 4068, 'm2522': 4069, 'm2625': 4070, 'm2651': 4071, 'm2782': 4072, 'm2784': 4073, 'm2790': 4074, 'm2817': 4075, 'm2868': 4076, 'm2992': 4077, 'm3013': 4078, 'm3018': 4079, 'm3153': 4080, 'm3182': 4081, 'm3267': 4082, 'm3563': 4083, 'm3727': 4084, 'm3768': 4085, 'm3810': 4086, 'm3840': 4087, 'm4092': 4088, 'm4109': 4089, 'm4214': 4090, 'm4254': 4091, 'm4304': 4092, 'm4316': 4093, 'm4438': 4094, 'm4587': 4095, 'm4599': 4096, 'm4624': 4097, 'm4645': 4098, 'm4661': 4099, 'm4678': 4100, 'm4774': 4101, 'm4800': 4102, 'm4850': 4103, 'm4909': 4104, 'm4987': 4105, 'm5165': 4106, 'm5294': 4107, 'm5346': 4108, 'm5438': 4109, 'm5479': 4110, 'm5588': 4111, 'm5640': 4112, 'm5650': 4113, 'm5749': 4114, 'm6203': 4115, 'm6219': 4116, 'm6283': 4117, 'm6327': 4118, 'm6375': 4119, 'm6395': 4120, 'm6461': 4121, 'm6620': 4122, 'm6629': 4123, 'm6638': 4124, 'm6678': 4125, 'm6731': 4126, 'm6744': 4127, 'm6820': 4128, 'm6963': 4129, 'm7118': 4130, 'm7308': 4131, 'm7492': 4132, 'm7561': 4133, 'm7650': 4134, 'm7802': 4135, 'm8016': 4136, 'm8147': 4137, 'm8266': 4138, 'm8426': 4139, 'm8501': 4140, 'm8507': 4141, 'm8581': 4142, 'm27317': 4143, 'm27873': 4144, 'm2114': 4145, 'm2398': 4146, 'm54190': 4147, 'm1606': 4148, 'm2103': 4149, 'm1529': 4150, 'm1659': 4151, 'm2280': 4152, 'm2600': 4153, 'm3071': 4154, 'm3690': 4155, 'm4126': 4156, 'm4732': 4157, 'm4954': 4158, 'm5027': 4159, 'm5072': 4160, 'm5246': 4161, 'm5247': 4162, 'm5619': 4163, 'm5792': 4164, 'm6051': 4165, 'm6288': 4166, 'm6367': 4167, 'm1942': 4168, 'm3819': 4169, 'm5109': 4170, 'm5420': 4171, 'm71745': 4172, 'm79139': 4173, 'm1958': 4174, 'm2262': 4175, 'm3244': 4176, 'm5380': 4177, 'm6183': 4178, 'm6785': 4179, 'm233': 4180, 'm2337': 4181, 'm3179': 4182, 'm4873': 4183, 'm7367': 4184, 'm50912': 4185, 'm57522': 4186, 'm58972': 4187, 'm59022': 4188, 'm62553': 4189, 'm64114': 4190, 'm65088': 4191, 'm65577': 4192, 'm65802': 4193, 'm69140': 4194, 'm70728': 4195, 'm77206': 4196, 'm77427': 4197, 'm79572': 4198, 'm80572': 4199, 'm80586': 4200, 'm81156': 4201, 'm81819': 4202, 'm86014': 4203, 'm86815': 4204, 'm87194': 4205, 'm88108': 4206, 'm90890': 4207, 'm91126': 4208, 'm91653': 4209, 'm91671': 4210, 'm91976': 4211, 'm96728': 4212, 'm99764': 4213, 'm106766': 4214, 'm116799': 4215, 'm132046': 4216, 'm134881': 4217, 'm938': 4218, 'm1833': 4219, 'm2325': 4220, 'm2551': 4221, 'm2837': 4222, 'm3163': 4223, 'm3325': 4224, 'm3719': 4225, 'm3746': 4226, 'm4476': 4227, 'm4663': 4228, 'm4676': 4229, 'm4740': 4230, 'm4912': 4231, 'm4941': 4232, 'm5460': 4233, 'm6012': 4234, 'm6030': 4235, 'm6060': 4236, 'm6169': 4237, 'm6579': 4238, 'm7034': 4239, 'm7036': 4240, 'm7050': 4241, 'm7380': 4242, 'm8643': 4243, 'm8796': 4244, 'm25937': 4245, 'm32300': 4246, 'm45175': 4247, 'm53466': 4248, 'm54780': 4249, 'm69988': 4250, 'm80584': 4251, 'm85401': 4252, 'm93805': 4253, 'm94015': 4254, 'm94150': 4255, 'm94833': 4256, 'm213': 4257, 'm665': 4258, 'm935': 4259, 'm1111': 4260, 'm1178': 4261, 'm1354': 4262, 'm2131': 4263, 'm2495': 4264, 'm2931': 4265, 'm3306': 4266, 'm3310': 4267, 'm3592': 4268, 'm3629': 4269, 'm3677': 4270, 'm3687': 4271, 'm3742': 4272, 'm3821': 4273, 'm4325': 4274, 'm4788': 4275, 'm5373': 4276, 'm5888': 4277, 'm5889': 4278, 'm5912': 4279, 'm6187': 4280, 'm6433': 4281, 'm6643': 4282, 'm6777': 4283, 'm6985': 4284, 'm7347': 4285, 'm7371': 4286, 'm8025': 4287, 'm8033': 4288, 'm8197': 4289, 'm8511': 4290, 'm8638': 4291, 'm8656': 4292, 'm9010': 4293, 'm26082': 4294, 'm26150': 4295, 'm26236': 4296, 'm26237': 4297, 'm26347': 4298, 'm26471': 4299, 'm26587': 4300, 'm26662': 4301, 'm26849': 4302, 'm26903': 4303, 'm27134': 4304, 'm27803': 4305, 'm27815': 4306, 'm27834': 4307, 'm30803': 4308, 'm32892': 4309, 'm33124': 4310, 'm36363': 4311, 'm36401': 4312, 'm38159': 4313, 'm42191': 4314, 'm48872': 4315, 'm56060': 4316, 'm57183': 4317, 'm57504': 4318, 'm58425': 4319, 'm58554': 4320, 'm60904': 4321, 'm63515': 4322, 'm64993': 4323, 'm66371': 4324, 'm67923': 4325, 'm69134': 4326, 'm69529': 4327, 'm69685': 4328, 'm72104': 4329, 'm73881': 4330, 'm74324': 4331, 'm74727': 4332, 'm75341': 4333, 'm79333': 4334, 'm80124': 4335, 'm84156': 4336, 'm84844': 4337, 'm85316': 4338, 'm85736': 4339, 'm86066': 4340, 'm86320': 4341, 'm86347': 4342, 'm88235': 4343, 'm88345': 4344, 'm91261': 4345, 'm93790': 4346, 'm95175': 4347, 'm95311': 4348, 'm95313': 4349, 'm95377': 4350, 'm95654': 4351, 'm96020': 4352, 'm96373': 4353, 'm98604': 4354, 'm99145': 4355, 'm100302': 4356, 'm100553': 4357, 'm101088': 4358, 'm101962': 4359, 'm102602': 4360, 'm102666': 4361, 'm103235': 4362, 'm104780': 4363, 'm105593': 4364, 'm107159': 4365, 'm107408': 4366, 'm107410': 4367, 'm107412': 4368, 'm108540': 4369, 'm108727': 4370, 'm108981': 4371, 'm109633': 4372, 'm110586': 4373, 'm111622': 4374, 'm116411': 4375, 'm117444': 4376, 'm118166': 4377, 'm118888': 4378, 'm118896': 4379, 'm118985': 4380, 'm120138': 4381, 'm120478': 4382, 'm120625': 4383, 'm126090': 4384, 'm126426': 4385, 'm126430': 4386, 'm127098': 4387, 'm129514': 4388, 'm130970': 4389, 'm130976': 4390, 'm130978': 4391, 'm131237': 4392, 'm133716': 4393, 'm134041': 4394, 'm134095': 4395, 'm134109': 4396, 'm134184': 4397, 'm134252': 4398, 'm134326': 4399, 'm134849': 4400, 'm136445': 4401, 'm136447': 4402, 'm138835': 4403, 'm140038': 4404, 'm140265': 4405, 'm141810': 4406, 'm141816': 4407, 'm141818': 4408, 'm141820': 4409, 'm141836': 4410, 'm141844': 4411, 'm142020': 4412, 'm143511': 4413, 'm145994': 4414, 'm146028': 4415, 'm147196': 4416, 'm147250': 4417, 'm147282': 4418, 'm147286': 4419, 'm147300': 4420, 'm147326': 4421, 'm147328': 4422, 'm147330': 4423, 'm151769': 4424, 'm152591': 4425, 'm158402': 4426, 'm159811': 4427, 'm163072': 4428, 'm163112': 4429, 'm163134': 4430, 'm163386': 4431, 'm163925': 4432, 'm165959': 4433, 'm166183': 4434, 'm170411': 4435, 'm170597': 4436, 'm170777': 4437, 'm171749': 4438, 'm172577': 4439, 'm172583': 4440, 'm172585': 4441, 'm172587': 4442, 'm172589': 4443, 'm172637': 4444, 'm172793': 4445, 'm172825': 4446, 'm172909': 4447, 'm173351': 4448, 'm173355': 4449, 'm173535': 4450, 'm173619': 4451, 'm173963': 4452, 'm174551': 4453, 'm175293': 4454, 'm175387': 4455, 'm175397': 4456, 'm175401': 4457, 'm175431': 4458, 'm175435': 4459, 'm178613': 4460, 'm179133': 4461, 'm99636': 4462, 'm156': 4463, 'm1684': 4464, 'm2585': 4465, 'm3795': 4466, 'm4024': 4467, 'm4159': 4468, 'm4889': 4469, 'm4976': 4470, 'm4994': 4471, 'm5011': 4472, 'm5034': 4473, 'm5051': 4474, 'm5135': 4475, 'm5303': 4476, 'm5309': 4477, 'm5316': 4478, 'm5391': 4479, 'm5450': 4480, 'm5466': 4481, 'm5881': 4482, 'm6049': 4483, 'm283': 4484, 'm346': 4485, 'm528': 4486, 'm7096': 4487, 'm26171': 4488, 'm40870': 4489, 'm1856': 4490, 'm2447': 4491, 'm3979': 4492, 'm4228': 4493, 'm4247': 4494, 'm4649': 4495, 'm4900': 4496, 'm5025': 4497, 'm5363': 4498, 'm5501': 4499, 'm5524': 4500, 'm5564': 4501, 'm5942': 4502, 'm6003': 4503, 'm6482': 4504, 'm7225': 4505, 'm7285': 4506, 'm7439': 4507, 'm8531': 4508, 'm32298': 4509, 'm34520': 4510, 'm34530': 4511, 'm40581': 4512, 'm42007': 4513, 'm44840': 4514, 'm44972': 4515, 'm47640': 4516, 'm48322': 4517, 'm49396': 4518, 'm54732': 4519, 'm55245': 4520, 'm55261': 4521, 'm55872': 4522, 'm56805': 4523, 'm58156': 4524, 'm59143': 4525, 'm61255': 4526, 'm62439': 4527, 'm63479': 4528, 'm65585': 4529, 'm69436': 4530, 'm70565': 4531, 'm70641': 4532, 'm71205': 4533, 'm71668': 4534, 'm71838': 4535, 'm73929': 4536, 'm74275': 4537, 'm74532': 4538, 'm78174': 4539, 'm78209': 4540, 'm79428': 4541, 'm80139': 4542, 'm82852': 4543, 'm85022': 4544, 'm85367': 4545, 'm87483': 4546, 'm87529': 4547, 'm87867': 4548, 'm91323': 4549, 'm92264': 4550, 'm93270': 4551, 'm93443': 4552, 'm93831': 4553, 'm94478': 4554, 'm94953': 4555, 'm95720': 4556, 'm96616': 4557, 'm97172': 4558, 'm98083': 4559, 'm99007': 4560, 'm100083': 4561, 'm100194': 4562, 'm101142': 4563, 'm102720': 4564, 'm104218': 4565, 'm104644': 4566, 'm104925': 4567, 'm109282': 4568, 'm110669': 4569, 'm110771': 4570, 'm110773': 4571, 'm111375': 4572, 'm112497': 4573, 'm116977': 4574, 'm118930': 4575, 'm119153': 4576, 'm121372': 4577, 'm121374': 4578, 'm121715': 4579, 'm123200': 4580, 'm127116': 4581, 'm127152': 4582, 'm127390': 4583, 'm128097': 4584, 'm128099': 4585, 'm128914': 4586, 'm128975': 4587, 'm129737': 4588, 'm130087': 4589, 'm134861': 4590, 'm135137': 4591, 'm135436': 4592, 'm136443': 4593, 'm136471': 4594, 'm136511': 4595, 'm136598': 4596, 'm142422': 4597, 'm144606': 4598, 'm148652': 4599, 'm148956': 4600, 'm155509': 4601, 'm155812': 4602, 'm156609': 4603, 'm157312': 4604, 'm157699': 4605, 'm158813': 4606, 'm159161': 4607, 'm159441': 4608, 'm159755': 4609, 'm160080': 4610, 'm160271': 4611, 'm160289': 4612, 'm161024': 4613, 'm161580': 4614, 'm162344': 4615, 'm162478': 4616, 'm162602': 4617, 'm165103': 4618, 'm165483': 4619, 'm165645': 4620, 'm165671': 4621, 'm165843': 4622, 'm165947': 4623, 'm166461': 4624, 'm167634': 4625, 'm167746': 4626, 'm168144': 4627, 'm168326': 4628, 'm168418': 4629, 'm168632': 4630, 'm168846': 4631, 'm170357': 4632, 'm170399': 4633, 'm170401': 4634, 'm170813': 4635, 'm170817': 4636, 'm170897': 4637, 'm170937': 4638, 'm170957': 4639, 'm171251': 4640, 'm171631': 4641, 'm171867': 4642, 'm171891': 4643, 'm172215': 4644, 'm172547': 4645, 'm173255': 4646, 'm174045': 4647, 'm174815': 4648, 'm175577': 4649, 'm176329': 4650, 'm178323': 4651, 'm179427': 4652, 'm179953': 4653, 'm180265': 4654, 'm181139': 4655, 'm181659': 4656, 'm182749': 4657, 'm183197': 4658, 'm183227': 4659, 'm183959': 4660, 'm184015': 4661, 'm184257': 4662, 'm71': 4663, 'm779': 4664, 'm1043': 4665, 'm1589': 4666, 'm1600': 4667, 'm1735': 4668, 'm1829': 4669, 'm1897': 4670, 'm2132': 4671, 'm2166': 4672, 'm2331': 4673, 'm2475': 4674, 'm2749': 4675, 'm2764': 4676, 'm2844': 4677, 'm2969': 4678, 'm3099': 4679, 'm3103': 4680, 'm3217': 4681, 'm3251': 4682, 'm3296': 4683, 'm3537': 4684, 'm3546': 4685, 'm3831': 4686, 'm4003': 4687, 'm4063': 4688, 'm4083': 4689, 'm4130': 4690, 'm127198': 4691, 'm141718': 4692, 'm167732': 4693, 'm487': 4694, 'm2772': 4695, 'm4792': 4696, 'm62383': 4697, 'm73': 4698, 'm656': 4699, 'm46337': 4700, 'm66511': 4701, 'm85020': 4702, 'm95105': 4703, 'm99112': 4704, 'm103984': 4705, 'm108689': 4706, 'm109846': 4707, 'm110718': 4708, 'm110730': 4709, 'm112868': 4710, 'm114184': 4711, 'm114795': 4712, 'm117533': 4713, 'm117887': 4714, 'm120635': 4715, 'm127184': 4716, 'm128488': 4717, 'm130578': 4718, 'm131023': 4719, 'm131714': 4720, 'm135532': 4721, 'm136562': 4722, 'm136666': 4723, 'm138210': 4724, 'm141004': 4725, 'm165551': 4726, 'm52319': 4727, 'm70599': 4728, 'm71530': 4729, 'm77866': 4730, 'm95088': 4731, 'm96737': 4732, 'm97306': 4733, 'm112515': 4734, 'm115122': 4735, 'm121231': 4736, 'm144976': 4737, 'm69306': 4738, 'm81782': 4739, 'm112171': 4740, 'm143458': 4741, 'm501': 4742, 'm1844': 4743, 'm3342': 4744, 'm4082': 4745, 'm4738': 4746, 'm4864': 4747, 'm5088': 4748, 'm6902': 4749, 'm7008': 4750, 'm7265': 4751, 'm8254': 4752, 'm26681': 4753, 'm27022': 4754, 'm27482': 4755, 'm33201': 4756, 'm40148': 4757, 'm43836': 4758, 'm45440': 4759, 'm50842': 4760, 'm55278': 4761, 'm58301': 4762, 'm63276': 4763, 'm65130': 4764, 'm65642': 4765, 'm67695': 4766, 'm69516': 4767, 'm71304': 4768, 'm71429': 4769, 'm71520': 4770, 'm73488': 4771, 'm75985': 4772, 'm78218': 4773, 'm79553': 4774, 'm84952': 4775, 'm86721': 4776, 'm89190': 4777, 'm90403': 4778, 'm91470': 4779, 'm91690': 4780, 'm91947': 4781, 'm92694': 4782, 'm93855': 4783, 'm94931': 4784, 'm95690': 4785, 'm95761': 4786, 'm98607': 4787, 'm99437': 4788, 'm100882': 4789, 'm101112': 4790, 'm107630': 4791, 'm110330': 4792, 'm110882': 4793, 'm112623': 4794, 'm117466': 4795, 'm122890': 4796, 'm127096': 4797, 'm130490': 4798, 'm131749': 4799, 'm131920': 4800, 'm133217': 4801, 'm133771': 4802, 'm135567': 4803, 'm139855': 4804, 'm141408': 4805, 'm142420': 4806, 'm142456': 4807, 'm142509': 4808, 'm147142': 4809, 'm149144': 4810, 'm149146': 4811, 'm149830': 4812, 'm149902': 4813, 'm151455': 4814, 'm151695': 4815, 'm152083': 4816, 'm152091': 4817, 'm152284': 4818, 'm152970': 4819, 'm155064': 4820, 'm156371': 4821, 'm156387': 4822, 'm158783': 4823, 'm159415': 4824, 'm159717': 4825, 'm160563': 4826, 'm161634': 4827, 'm161966': 4828, 'm162082': 4829, 'm162578': 4830, 'm164881': 4831, 'm167790': 4832, 'm168266': 4833, 'm1066': 4834, 'm5159': 4835, 'm6093': 4836, 'm37830': 4837, 'm5959': 4838, 'm390': 4839, 'm567': 4840, 'm1318': 4841, 'm1554': 4842, 'm2729': 4843, 'm3067': 4844, 'm4168': 4845, 'm5284': 4846, 'm5508': 4847, 'm5969': 4848, 'm5970': 4849, 'm5992': 4850, 'm6251': 4851, 'm6291': 4852, 'm6774': 4853, 'm7773': 4854, 'm8973': 4855, 'm26776': 4856, 'm27731': 4857, 'm44694': 4858, 'm48082': 4859, 'm393': 4860, 'm893': 4861, 'm1422': 4862, 'm1483': 4863, 'm2798': 4864, 'm3102': 4865, 'm3327': 4866, 'm3812': 4867, 'm4037': 4868, 'm4066': 4869, 'm4467': 4870, 'm4553': 4871, 'm4613': 4872, 'm4634': 4873, 'm4812': 4874, 'm132': 4875, 'm188': 4876, 'm1949': 4877, 'm2330': 4878, 'm2940': 4879, 'm3679': 4880, 'm5177': 4881, 'm5385': 4882, 'm6986': 4883, 'm6987': 4884, 'm7171': 4885, 'm7762': 4886, 'm26084': 4887, 'm2582': 4888, 'm2924': 4889, 'm59103': 4890, 'm8640': 4891, 'm373': 4892, 'm1344': 4893, 'm1401': 4894, 'm1465': 4895, 'm1661': 4896, 'm1727': 4897, 'm1950': 4898, 'm1957': 4899, 'm2070': 4900, 'm2077': 4901, 'm2344': 4902, 'm2561': 4903, 'm2590': 4904, 'm2682': 4905, 'm2775': 4906, 'm2819': 4907, 'm2889': 4908, 'm2996': 4909, 'm3011': 4910, 'm3055': 4911, 'm3093': 4912, 'm3117': 4913, 'm3185': 4914, 'm3372': 4915, 'm3557': 4916, 'm3597': 4917, 'm3684': 4918, 'm3737': 4919, 'm3873': 4920, 'm3906': 4921, 'm3983': 4922, 'm3985': 4923, 'm3998': 4924, 'm4031': 4925, 'm4035': 4926, 'm4042': 4927, 'm4056': 4928, 'm4167': 4929, 'm4187': 4930, 'm4225': 4931, 'm4234': 4932, 'm4243': 4933, 'm4259': 4934, 'm4265': 4935, 'm4337': 4936, 'm4339': 4937, 'm4368': 4938, 'm4534': 4939, 'm4535': 4940, 'm4703': 4941, 'm4719': 4942, 'm4727': 4943, 'm4736': 4944, 'm4795': 4945, 'm4799': 4946, 'm4822': 4947, 'm4836': 4948, 'm4857': 4949, 'm4866': 4950, 'm4921': 4951, 'm4991': 4952, 'm5016': 4953, 'm5102': 4954, 'm5107': 4955, 'm5187': 4956, 'm5256': 4957, 'm5282': 4958, 'm5338': 4959, 'm5357': 4960, 'm5358': 4961, 'm5435': 4962, 'm5506': 4963, 'm5563': 4964, 'm5611': 4965, 'm5699': 4966, 'm5873': 4967, 'm5879': 4968, 'm5899': 4969, 'm5947': 4970, 'm6185': 4971, 'm6213': 4972, 'm6246': 4973, 'm6279': 4974, 'm6299': 4975, 'm6386': 4976, 'm6448': 4977, 'm6669': 4978, 'm6808': 4979, 'm6950': 4980, 'm7076': 4981, 'm7161': 4982, 'm7324': 4983, 'm8121': 4984, 'm8199': 4985, 'm26172': 4986, 'm26865': 4987, 'm27821': 4988, 'm31700': 4989, 'm32017': 4990, 'm34334': 4991, 'm34534': 4992, 'm37727': 4993, 'm39307': 4994, 'm42009': 4995, 'm42730': 4996, 'm43917': 4997, 'm44399': 4998, 'm47044': 4999, 'm49524': 5000, 'm49910': 5001, 'm6332': 5002, 'm6619': 5003, 'm7255': 5004, 'm7316': 5005, 'm8827': 5006, 'm32289': 5007, 'm36525': 5008, 'm78316': 5009, 'm103606': 5010, 'm27416': 5011, 'm98243': 5012, 'm160718': 5013, 'm1334': 5014, 'm2038': 5015, 'm2091': 5016, 'm9': 5017, 'm75': 5018, 'm634': 5019, 'm813': 5020, 'm840': 5021, 'm885': 5022, 'm1432': 5023, 'm36535': 5024, 'm56715': 5025, 'm64034': 5026, 'm81456': 5027, 'm85885': 5028, 'm100843': 5029, 'm101973': 5030, 'm105355': 5031, 'm112454': 5032, 'm133780': 5033, 'm138396': 5034, 'm152270': 5035, 'm173145': 5036, 'm177615': 5037, 'm179709': 5038, 'm86644': 5039, 'm130634': 5040, 'm1516': 5041, 'm2879': 5042, 'm2880': 5043, 'm3286': 5044, 'm3287': 5045, 'm3618': 5046, 'm425': 5047, 'm764': 5048, 'm869': 5049, 'm1078': 5050, 'm1162': 5051, 'm1264': 5052, 'm1836': 5053, 'm1948': 5054, 'm2130': 5055, 'm2239': 5056, 'm2247': 5057, 'm2290': 5058, 'm2349': 5059, 'm2361': 5060, 'm2511': 5061, 'm2734': 5062, 'm2750': 5063, 'm2779': 5064, 'm2863': 5065, 'm2946': 5066, 'm2970': 5067, 'm3028': 5068, 'm3076': 5069, 'm3096': 5070, 'm3130': 5071, 'm3134': 5072, 'm3141': 5073, 'm3167': 5074, 'm3200': 5075, 'm3223': 5076, 'm3224': 5077, 'm3283': 5078, 'm3341': 5079, 'm3467': 5080, 'm3473': 5081, 'm3492': 5082, 'm3503': 5083, 'm3506': 5084, 'm4205': 5085, 'm4784': 5086, 'm5637': 5087, 'm5788': 5088, 'm5847': 5089, 'm6509': 5090, 'm6658': 5091, 'm6684': 5092, 'm7089': 5093, 'm7107': 5094, 'm8128': 5095, 'm8571': 5096, 'm8614': 5097, 'm26313': 5098, 'm31038': 5099, 'm2392': 5100, 'm27674': 5101, 'm55391': 5102, 'm66320': 5103, 'm242': 5104, 'm718': 5105, 'm990': 5106, 'm1107': 5107, 'm1163': 5108, 'm1627': 5109, 'm1713': 5110, 'm1969': 5111, 'm1979': 5112, 'm2051': 5113, 'm2126': 5114, 'm2162': 5115, 'm2210': 5116, 'm2252': 5117, 'm2314': 5118, 'm2364': 5119, 'm2367': 5120, 'm2531': 5121, 'm2745': 5122, 'm2748': 5123, 'm2769': 5124, 'm2789': 5125, 'm2818': 5126, 'm2977': 5127, 'm2986': 5128, 'm3357': 5129, 'm3572': 5130, 'm3616': 5131, 'm3649': 5132, 'm3858': 5133, 'm3864': 5134, 'm3877': 5135, 'm4055': 5136, 'm4450': 5137, 'm4735': 5138, 'm6250': 5139, 'm6319': 5140, 'm6322': 5141, 'm6538': 5142, 'm5643': 5143, 'm45732': 5144, 'm1821': 5145, 'm1837': 5146, 'm3404': 5147, 'm4440': 5148, 'm5415': 5149, 'm5485': 5150, 'm5527': 5151, 'm5530': 5152, 'm5993': 5153, 'm6480': 5154, 'm4406': 5155, 'm7333': 5156, 'm7934': 5157, 'm26078': 5158, 'm26131': 5159, 'm33564': 5160, 'm2017': 5161, 'm2084': 5162, 'm4142': 5163, 'm4193': 5164, 'm4373': 5165, 'm4867': 5166, 'm4936': 5167, 'm4951': 5168, 'm5222': 5169, 'm5472': 5170, 'm5941': 5171, 'm6005': 5172, 'm6252': 5173, 'm6324': 5174, 'm6339': 5175, 'm6568': 5176, 'm7045': 5177, 'm7060': 5178, 'm7080': 5179, 'm7614': 5180, 'm8008': 5181, 'm1051': 5182, 'm1454': 5183, 'm2526': 5184, 'm5410': 5185, 'm7259': 5186, 'm8362': 5187, 'm8911': 5188, 'm33880': 5189, 'm39427': 5190, 'm43904': 5191, 'm44613': 5192, 'm47382': 5193, 'm1929': 5194, 'm1931': 5195, 'm1936': 5196, 'm1938': 5197, 'm2013': 5198, 'm2176': 5199, 'm2847': 5200, 'm3364': 5201, 'm3564': 5202, 'm3801': 5203, 'm3909': 5204, 'm3964': 5205, 'm4920': 5206, 'm5264': 5207, 'm5387': 5208, 'm6212': 5209, 'm6412': 5210, 'm6429': 5211, 'm6483': 5212, 'm6624': 5213, 'm6856': 5214, 'm7054': 5215, 'm7065': 5216, 'm7078': 5217, 'm7121': 5218, 'm7164': 5219, 'm7215': 5220, 'm7222': 5221, 'm7243': 5222, 'm7302': 5223, 'm7366': 5224, 'm7369': 5225, 'm7728': 5226, 'm8600': 5227, 'm8609': 5228, 'm8695': 5229, 'm8718': 5230, 'm8860': 5231, 'm8948': 5232, 'm9008': 5233, 'm25746': 5234, 'm25750': 5235, 'm25771': 5236, 'm25797': 5237, 'm25827': 5238, 'm25856': 5239, 'm25906': 5240, 'm27772': 5241, 'm31297': 5242, 'm33499': 5243, 'm33669': 5244, 'm34336': 5245, 'm35957': 5246, 'm39449': 5247, 'm40826': 5248, 'm42011': 5249, 'm42015': 5250, 'm43560': 5251, 'm45081': 5252, 'm46974': 5253, 'm48412': 5254, 'm48593': 5255, 'm49389': 5256, 'm51925': 5257, 'm51939': 5258, 'm52694': 5259, 'm56176': 5260, 'm60161': 5261, 'm61406': 5262, 'm63853': 5263, 'm65261': 5264, 'm66297': 5265, 'm67788': 5266, 'm70159': 5267, 'm71970': 5268, 'm72731': 5269, 'm72733': 5270, 'm77846': 5271, 'm78574': 5272, 'm80126': 5273, 'm83132': 5274, 'm86487': 5275, 'm89804': 5276, 'm89939': 5277, 'm90647': 5278, 'm93008': 5279, 'm95558': 5280, 'm98154': 5281, 'm123545': 5282, 'm5665': 5283, 'm6380': 5284, 'm33903': 5285, 'm725': 5286, 'm169': 5287, 'm453': 5288, 'm97': 5289, 'm166': 5290, 'm600': 5291, 'm760': 5292, 'm1437': 5293, 'm1447': 5294, 'm1546': 5295, 'm1598': 5296, 'm1611': 5297, 'm1649': 5298, 'm1695': 5299, 'm1827': 5300, 'm1941': 5301, 'm2022': 5302, 'm2025': 5303, 'm2181': 5304, 'm2295': 5305, 'm2474': 5306, 'm2563': 5307, 'm2607': 5308, 'm2691': 5309, 'm2696': 5310, 'm2765': 5311, 'm2971': 5312, 'm2976': 5313, 'm3003': 5314, 'm3078': 5315, 'm3150': 5316, 'm3158': 5317, 'm3323': 5318, 'm3474': 5319, 'm3521': 5320, 'm3598': 5321, 'm3747': 5322, 'm3761': 5323, 'm3862': 5324, 'm3879': 5325, 'm3888': 5326, 'm3895': 5327, 'm3915': 5328, 'm3925': 5329, 'm3947': 5330, 'm3955': 5331, 'm3992': 5332, 'm3993': 5333, 'm4032': 5334, 'm4052': 5335, 'm4133': 5336, 'm4146': 5337, 'm4152': 5338, 'm4157': 5339, 'm4160': 5340, 'm4178': 5341, 'm4275': 5342, 'm4305': 5343, 'm4307': 5344, 'm4313': 5345, 'm4350': 5346, 'm4389': 5347, 'm4407': 5348, 'm4439': 5349, 'm4452': 5350, 'm4628': 5351, 'm4640': 5352, 'm4642': 5353, 'm4644': 5354, 'm4699': 5355, 'm4723': 5356, 'm4770': 5357, 'm4811': 5358, 'm4815': 5359, 'm4826': 5360, 'm4849': 5361, 'm4879': 5362, 'm4888': 5363, 'm4898': 5364, 'm4911': 5365, 'm4919': 5366, 'm4959': 5367, 'm4978': 5368, 'm5046': 5369, 'm5062': 5370, 'm5083': 5371, 'm5095': 5372, 'm5131': 5373, 'm5155': 5374, 'm5298': 5375, 'm5323': 5376, 'm5325': 5377, 'm5347': 5378, 'm5379': 5379, 'm5421': 5380, 'm5423': 5381, 'm5425': 5382, 'm5427': 5383, 'm5486': 5384, 'm5498': 5385, 'm5522': 5386, 'm5609': 5387, 'm5612': 5388, 'm5615': 5389, 'm5646': 5390, 'm5666': 5391, 'm5668': 5392, 'm5680': 5393, 'm5684': 5394, 'm5772': 5395, 'm5809': 5396, 'm5818': 5397, 'm5999': 5398, 'm6002': 5399, 'm6041': 5400, 'm6062': 5401, 'm6067': 5402, 'm6192': 5403, 'm6215': 5404, 'm6217': 5405, 'm6264': 5406, 'm6285': 5407, 'm6294': 5408, 'm6330': 5409, 'm6334': 5410, 'm6335': 5411, 'm6341': 5412, 'm6551': 5413, 'm6571': 5414, 'm6572': 5415, 'm6588': 5416, 'm6645': 5417, 'm6679': 5418, 'm6688': 5419, 'm6881': 5420, 'm6890': 5421, 'm6932': 5422, 'm6969': 5423, 'm6971': 5424, 'm6978': 5425, 'm7038': 5426, 'm7264': 5427, 'm7299': 5428, 'm7352': 5429, 'm7354': 5430, 'm7449': 5431, 'm7698': 5432, 'm8042': 5433, 'm1582': 5434, 'm2457': 5435, 'm2534': 5436, 'm3573': 5437, 'm3726': 5438, 'm68959': 5439, 'm70533': 5440, 'm74754': 5441, 'm84187': 5442, 'm103210': 5443, 'm104303': 5444, 'm106873': 5445, 'm109578': 5446, 'm109848': 5447, 'm117895': 5448, 'm122906': 5449, 'm127212': 5450, 'm148978': 5451, 'm157369': 5452, 'm158035': 5453, 'm161594': 5454, 'm162968': 5455, 'm162982': 5456, 'm164917': 5457, 'm165635': 5458, 'm165639': 5459, 'm166291': 5460, 'm168090': 5461, 'm168218': 5462, 'm170907': 5463, 'm172705': 5464, 'm173235': 5465, 'm174479': 5466, 'm175475': 5467, 'm175585': 5468, 'm177285': 5469, 'm177939': 5470, 'm178111': 5471, 'm178827': 5472, 'm180297': 5473, 'm180497': 5474, 'm180985': 5475, 'm180987': 5476, 'm181413': 5477, 'm183911': 5478, 'm184641': 5479, 'm189333': 5480, 'm191005': 5481, 'm193565': 5482, 'm193567': 5483, 'm193571': 5484, 'm193573': 5485, 'm193579': 5486, 'm193581': 5487, 'm193583': 5488, 'm193585': 5489, 'm193587': 5490, 'm1685': 5491, 'm1767': 5492, 'm2799': 5493, 'm5804': 5494, 'm952': 5495, 'm2035': 5496, 'm2208': 5497, 'm2346': 5498, 'm2527': 5499, 'm3068': 5500, 'm3516': 5501, 'm3711': 5502, 'm3927': 5503, 'm4813': 5504, 'm5039': 5505, 'm5214': 5506, 'm5493': 5507, 'm5497': 5508, 'm5499': 5509, 'm5540': 5510, 'm2557': 5511, 'm2810': 5512, 'm3091': 5513, 'm3627': 5514, 'm4785': 5515, 'm5244': 5516, 'm5570': 5517, 'm5909': 5518, 'm6368': 5519, 'm7044': 5520, 'm7844': 5521, 'm7976': 5522, 'm7981': 5523, 'm8491': 5524, 'm8582': 5525, 'm8607': 5526, 'm25788': 5527, 'm25825': 5528, 'm26122': 5529, 'm26840': 5530, 'm27592': 5531, 'm27850': 5532, 'm27865': 5533, 'm27879': 5534, 'm27912': 5535, 'm31364': 5536, 'm32387': 5537, 'm33138': 5538, 'm33421': 5539, 'm33896': 5540, 'm37240': 5541, 'm39869': 5542, 'm46572': 5543, 'm49263': 5544, 'm49932': 5545, 'm1951': 5546, 'm2436': 5547, 'm2967': 5548, 'm3469': 5549, 'm72': 5550, 'm99': 5551, 'm148': 5552, 'm155': 5553, 'm178': 5554, 'm229': 5555, 'm269': 5556, 'm496': 5557, 'm668': 5558, 'm26116': 5559, 'm1392': 5560, 'm1502': 5561, 'm1755': 5562, 'm1306': 5563, 'm2575': 5564, 'm2744': 5565, 'm3436': 5566, 'm3894': 5567, 'm3932': 5568, 'm4174': 5569, 'm4808': 5570, 'm4932': 5571, 'm5607': 5572, 'm698': 5573, 'm731': 5574, 'm1055': 5575, 'm2165': 5576, 'm2670': 5577, 'm2674': 5578, 'm2815': 5579, 'm3129': 5580, 'm4608': 5581, 'm5670': 5582, 'm8532': 5583, 'm8833': 5584, 'm45210': 5585, 'm56274': 5586, 'm57243': 5587, 'm4722': 5588, 'm5139': 5589, 'm5610': 5590, 'm27685': 5591, 'm34321': 5592, 'm45106': 5593, 'm50802': 5594, 'm62299': 5595, 'm49': 5596, 'm461': 5597, 'm574': 5598, 'm679': 5599, 'm1176': 5600, 'm1312': 5601, 'm2024': 5602, 'm2147': 5603, 'm2983': 5604, 'm3036': 5605, 'm3138': 5606, 'm3194': 5607, 'm3214': 5608, 'm3329': 5609, 'm3402': 5610, 'm3445': 5611, 'm3470': 5612, 'm3528': 5613, 'm3682': 5614, 'm3724': 5615, 'm3725': 5616, 'm3834': 5617, 'm5949': 5618, 'm8815': 5619, 'm27075': 5620, 'm27368': 5621, 'm54372': 5622, 'm58332': 5623, 'm59604': 5624, 'm67295': 5625, 'm79008': 5626, 'm81132': 5627, 'm83601': 5628, 'm71462': 5629, 'm179817': 5630, 'm140956': 5631, 'm185029': 5632, 'm4625': 5633, 'm7810': 5634, 'm7811': 5635, 'm7812': 5636, 'm34397': 5637, 'm40697': 5638, 'm51562': 5639, 'm56915': 5640, 'm62834': 5641, 'm62836': 5642, 'm65651': 5643, 'm77795': 5644, 'm100611': 5645, 'm106642': 5646, 'm117192': 5647, 'm117646': 5648, 'm119167': 5649, 'm123553': 5650, 'm128842': 5651, 'm130444': 5652, 'm140359': 5653, 'm146662': 5654, 'm147372': 5655, 'm147374': 5656, 'm147376': 5657, 'm147378': 5658, 'm147380': 5659, 'm147382': 5660, 'm147384': 5661, 'm150596': 5662, 'm159779': 5663, 'm166203': 5664, 'm179511': 5665, 'm180031': 5666, 'm184053': 5667, 'm189547': 5668, 'm87192': 5669, 'm87234': 5670, 'm92439': 5671, 'm106144': 5672, 'm107314': 5673, 'm113573': 5674, 'm161922': 5675, 'm168366': 5676, 'm170697': 5677, 'm174909': 5678, 'm175197': 5679, 'm182823': 5680, 'm183897': 5681, 'm188751': 5682, 'm43679': 5683, 'm57274': 5684, 'm86142': 5685, 'm89582': 5686, 'm83': 5687, 'm55451': 5688, 'm927': 5689, 'm3422': 5690, 'm3963': 5691, 'm275': 5692, 'm429': 5693, 'm438': 5694, 'm444': 5695, 'm504': 5696, 'm517': 5697, 'm564': 5698, 'm692': 5699, 'm809': 5700, 'm870': 5701, 'm1007': 5702, 'm1085': 5703, 'm1126': 5704, 'm1581': 5705, 'm1599': 5706, 'm1602': 5707, 'm1626': 5708, 'm1671': 5709, 'm1677': 5710, 'm1686': 5711, 'm1731': 5712, 'm1867': 5713, 'm1875': 5714, 'm1937': 5715, 'm2056': 5716, 'm2152': 5717, 'm2350': 5718, 'm2373': 5719, 'm2382': 5720, 'm2473': 5721, 'm2477': 5722, 'm2525': 5723, 'm2535': 5724, 'm2537': 5725, 'm2741': 5726, 'm2786': 5727, 'm2816': 5728, 'm3014': 5729, 'm3132': 5730, 'm3165': 5731, 'm3389': 5732, 'm3392': 5733, 'm3406': 5734, 'm3417': 5735, 'm3431': 5736, 'm3432': 5737, 'm3433': 5738, 'm3434': 5739, 'm3524': 5740, 'm3529': 5741, 'm6425': 5742, 'm1752': 5743, 'm2296': 5744, 'm3054': 5745, 'm4749': 5746, 'm5047': 5747, 'm7319': 5748, 'm8880': 5749, 'm31221': 5750, 'm36708': 5751, 'm37380': 5752, 'm41716': 5753, 'm46335': 5754, 'm46850': 5755, 'm54768': 5756, 'm55020': 5757, 'm55292': 5758, 'm56156': 5759, 'm61246': 5760, 'm61348': 5761, 'm1430': 5762, 'm4219': 5763, 'm60937': 5764, 'm62344': 5765, 'm62437': 5766, 'm63540': 5767, 'm64231': 5768, 'm2469': 5769, 'm3090': 5770, 'm3095': 5771, 'm4338': 5772, 'm4605': 5773, 'm5248': 5774, 'm5382': 5775, 'm6306': 5776, 'm6639': 5777, 'm6724': 5778, 'm7013': 5779, 'm7056': 5780, 'm7072': 5781, 'm7216': 5782, 'm7311': 5783, 'm8044': 5784, 'm8364': 5785, 'm9018': 5786, 'm25773': 5787, 'm25841': 5788, 'm26375': 5789, 'm27768': 5790, 'm27776': 5791, 'm27820': 5792, 'm27882': 5793, 'm27899': 5794, 'm30818': 5795, 'm30846': 5796, 'm31437': 5797, 'm31610': 5798, 'm31692': 5799, 'm31702': 5800, 'm32022': 5801, 'm32584': 5802, 'm32632': 5803, 'm32770': 5804, 'm2205': 5805, 'm5523': 5806, 'm5710': 5807, 'm6290': 5808, 'm8363': 5809, 'm26322': 5810, 'm26732': 5811, 'm59014': 5812, 'm62250': 5813, 'm66744': 5814, 'm81831': 5815, 'm91483': 5816, 'm91628': 5817, 'm95307': 5818, 'm95949': 5819, 'm96448': 5820, 'm97168': 5821, 'm97860': 5822, 'm101531': 5823, 'm103137': 5824, 'm2747': 5825, 'm55854': 5826, 'm3496': 5827, 'm1130': 5828, 'm2327': 5829, 'm2633': 5830, 'm3042': 5831, 'm63': 5832, 'm1236': 5833, 'm1655': 5834, 'm1887': 5835, 'm2432': 5836, 'm2514': 5837, 'm2515': 5838, 'm2984': 5839, 'm3688': 5840, 'm3843': 5841, 'm4229': 5842, 'm4233': 5843, 'm4544': 5844, 'm4782': 5845, 'm5456': 5846, 'm5584': 5847, 'm6298': 5848, 'm6523': 5849, 'm6625': 5850, 'm6695': 5851, 'm6938': 5852, 'm7103': 5853, 'm7448': 5854, 'm32666': 5855, 'm37720': 5856, 'm45028': 5857, 'm51088': 5858, 'm38304': 5859, 'm85342': 5860, 'm8626': 5861, 'm34330': 5862, 'm52715': 5863, 'm55241': 5864, 'm55553': 5865, 'm4789': 5866, 'm5458': 5867, 'm5478': 5868, 'm5572': 5869, 'm5573': 5870, 'm6013': 5871, 'm6040': 5872, 'm6057': 5873, 'm6186': 5874, 'm6374': 5875, 'm6615': 5876, 'm6862': 5877, 'm6951': 5878, 'm6959': 5879, 'm7150': 5880, 'm7257': 5881, 'm7258': 5882, 'm7261': 5883, 'm7262': 5884, 'm7376': 5885, 'm7440': 5886, 'm8369': 5887, 'm8530': 5888, 'm8799': 5889, 'm8830': 5890, 'm8835': 5891, 'm8836': 5892, 'm8864': 5893, 'm8912': 5894, 'm8916': 5895, 'm8918': 5896, 'm8939': 5897, 'm27434': 5898, 'm27790': 5899, 'm27816': 5900, 'm27837': 5901, 'm27839': 5902, 'm30883': 5903, 'm30894': 5904, 'm31114': 5905, 'm31223': 5906, 'm31427': 5907, 'm31431': 5908, 'm31445': 5909, 'm31867': 5910, 'm32009': 5911, 'm32011': 5912, 'm32019': 5913, 'm32589': 5914, 'm33148': 5915, 'm33158': 5916, 'm33164': 5917, 'm33639': 5918, 'm33815': 5919, 'm34129': 5920, 'm34271': 5921, 'm34532': 5922, 'm36509': 5923, 'm36533': 5924, 'm37477': 5925, 'm37853': 5926, 'm38798': 5927, 'm39231': 5928, 'm39435': 5929, 'm40851': 5930, 'm40946': 5931, 'm41769': 5932, 'm42728': 5933, 'm42732': 5934, 'm43556': 5935, 'm43871': 5936, 'm43919': 5937, 'm43932': 5938, 'm44397': 5939, 'm44731': 5940, 'm45208': 5941, 'm45442': 5942, 'm45662': 5943, 'm48161': 5944, 'm48596': 5945, 'm49220': 5946, 'm49276': 5947, 'm49284': 5948, 'm49793': 5949, 'm50005': 5950, 'm50158': 5951, 'm50445': 5952, 'm50798': 5953, 'm50923': 5954, 'm51082': 5955, 'm51412': 5956, 'm51698': 5957, 'm51933': 5958, 'm51937': 5959, 'm52283': 5960, 'm52712': 5961, 'm53127': 5962, 'm54256': 5963, 'm55995': 5964, 'm57326': 5965, 'm57526': 5966, 'm58105': 5967, 'm58627': 5968, 'm58876': 5969, 'm59985': 5970, 'm61705': 5971, 'm62081': 5972, 'm62511': 5973, 'm66509': 5974, 'm67186': 5975, 'm67197': 5976, 'm70301': 5977, 'm70334': 5978, 'm71252': 5979, 'm71254': 5980, 'm71823': 5981, 'm73515': 5982, 'm78893': 5983, 'm81512': 5984, 'm78103': 5985, 'm118198': 5986, 'm134214': 5987, 'm136912': 5988, 'm162600': 5989, 'm178061': 5990, 'm183011': 5991, 'm42': 5992, 'm577': 5993, 'm917': 5994, 'm1460': 5995, 'm1495': 5996, 'm1707': 5997, 'm1826': 5998, 'm2050': 5999, 'm2566': 6000, 'm3672': 6001, 'm1998': 6002, 'm4329': 6003, 'm4498': 6004, 'm4803': 6005, 'm4852': 6006, 'm4916': 6007, 'm4917': 6008, 'm4945': 6009, 'm4946': 6010, 'm4947': 6011, 'm4957': 6012, 'm81786': 6013, 'm118700': 6014, 'm547': 6015, 'm2919': 6016, 'm3566': 6017, 'm3106': 6018, 'm123': 6019, 'm757': 6020, 'm4956': 6021, 'm5279': 6022, 'm7486': 6023, 'm8327': 6024, 'm27320': 6025, 'm61026': 6026, 'm68486': 6027, 'm80615': 6028, 'm80969': 6029, 'm83613': 6030, 'm90888': 6031, 'm82169': 6032, 'm120799': 6033, 'm151763': 6034, 'm4470': 6035, 'm4531': 6036, 'm5784': 6037, 'm7016': 6038, 'm26686': 6039, 'm27478': 6040, 'm32213': 6041, 'm33085': 6042, 'm38294': 6043, 'm39400': 6044, 'm47254': 6045, 'm47810': 6046, 'm51037': 6047, 'm58315': 6048, 'm65810': 6049, 'm66171': 6050, 'm69606': 6051, 'm70361': 6052, 'm72605': 6053, 'm73431': 6054, 'm75813': 6055, 'm77667': 6056, 'm78039': 6057, 'm78088': 6058, 'm80862': 6059, 'm82053': 6060, 'm84637': 6061, 'm84942': 6062, 'm85056': 6063, 'm85131': 6064, 'm85510': 6065, 'm86295': 6066, 'm86835': 6067, 'm86960': 6068, 'm87298': 6069, 'm88699': 6070, 'm88954': 6071, 'm89047': 6072, 'm89840': 6073, 'm90057': 6074, 'm90430': 6075, 'm90439': 6076, 'm90531': 6077, 'm91622': 6078, 'm91978': 6079, 'm92008': 6080, 'm92507': 6081, 'm93363': 6082, 'm93512': 6083, 'm93563': 6084, 'm93766': 6085, 'm94266': 6086, 'm94780': 6087, 'm95207': 6088, 'm95309': 6089, 'm95583': 6090, 'm95873': 6091, 'm96411': 6092, 'm96417': 6093, 'm98239': 6094, 'm99750': 6095, 'm99910': 6096, 'm100163': 6097, 'm101025': 6098, 'm101076': 6099, 'm101362': 6100, 'm102033': 6101, 'm102684': 6102, 'm103539': 6103, 'm103624': 6104, 'm103655': 6105, 'm104243': 6106, 'm105351': 6107, 'm107953': 6108, 'm108928': 6109, 'm109042': 6110, 'm109673': 6111, 'm110297': 6112, 'm110350': 6113, 'm111364': 6114, 'm112070': 6115, 'm143365': 6116, 'm143367': 6117, 'm146210': 6118, 'm148888': 6119, 'm160954': 6120, 'm169984': 6121, 'm173941': 6122, 'm175569': 6123, 'm184253': 6124, 'm185435': 6125, 'm6983': 6126, 'm142115': 6127, 'm4217': 6128, 'm26366': 6129, 'm26524': 6130, 'm44633': 6131, 'm58309': 6132, 'm5319': 6133, 'm44929': 6134, 'm48883': 6135, 'm1739': 6136, 'm2907': 6137, 'm3929': 6138, 'm4480': 6139, 'm121171': 6140, 'm131656': 6141, 'm140725': 6142, 'm146024': 6143, 'm128': 6144, 'm2348': 6145, 'm2766': 6146, 'm2859': 6147, 'm4529': 6148, 'm4711': 6149, 'm5137': 6150, 'm5820': 6151, 'm6027': 6152, 'm6337': 6153, 'm6370': 6154, 'm6713': 6155, 'm7564': 6156, 'm7815': 6157, 'm8011': 6158, 'm8015': 6159, 'm294': 6160, 'm988': 6161, 'm1415': 6162, 'm7879': 6163, 'm8535': 6164, 'm7303': 6165, 'm388': 6166, 'm1807': 6167, 'm2240': 6168, 'm2377': 6169, 'm2445': 6170, 'm3733': 6171, 'm3807': 6172, 'm476': 6173, 'm2812': 6174, 'm1791': 6175, 'm1964': 6176, 'm2178': 6177, 'm2182': 6178, 'm2593': 6179, 'm2630': 6180, 'm2829': 6181, 'm619': 6182, 'm886': 6183, 'm1255': 6184, 'm1327': 6185, 'm1497': 6186, 'm1503': 6187, 'm1992': 6188, 'm1993': 6189, 'm2170': 6190, 'm2448': 6191, 'm2498': 6192, 'm2517': 6193, 'm2846': 6194, 'm2974': 6195, 'm3235': 6196, 'm3511': 6197, 'm3652': 6198, 'm3676': 6199, 'm3696': 6200, 'm3857': 6201, 'm3908': 6202, 'm3938': 6203, 'm4030': 6204, 'm4143': 6205, 'm4224': 6206, 'm4248': 6207, 'm4533': 6208, 'm4683': 6209, 'm4748': 6210, 'm4771': 6211, 'm5076': 6212, 'm5080': 6213, 'm5127': 6214, 'm5401': 6215, 'm5452': 6216, 'm5556': 6217, 'm5569': 6218, 'm5667': 6219, 'm5833': 6220, 'm5853': 6221, 'm6196': 6222, 'm6220': 6223, 'm6379': 6224, 'm6405': 6225, 'm6559': 6226, 'm6664': 6227, 'm6715': 6228, 'm6794': 6229, 'm6868': 6230, 'm6872': 6231, 'm7024': 6232, 'm7117': 6233, 'm7228': 6234, 'm7236': 6235, 'm7321': 6236, 'm7362': 6237, 'm7368': 6238, 'm7646': 6239, 'm7845': 6240, 'm7846': 6241, 'm7894': 6242, 'm8142': 6243, 'm8225': 6244, 'm8241': 6245, 'm8578': 6246, 'm8831': 6247, 'm8906': 6248, 'm8967': 6249, 'm26242': 6250, 'm26492': 6251, 'm26523': 6252, 'm26629': 6253, 'm26736': 6254, 'm26870': 6255, 'm27311': 6256, 'm27604': 6257, 'm27618': 6258, 'm27822': 6259, 'm30745': 6260, 'm31193': 6261, 'm31909': 6262, 'm33132': 6263, 'm33834': 6264, 'm34323': 6265, 'm37382': 6266, 'm37475': 6267, 'm38992': 6268, 'm40723': 6269, 'm42285': 6270, 'm43549': 6271, 'm44828': 6272, 'm45361': 6273, 'm50147': 6274, 'm50440': 6275, 'm50800': 6276, 'm51091': 6277, 'm51498': 6278, 'm53468': 6279, 'm54648': 6280, 'm54785': 6281, 'm56012': 6282, 'm57536': 6283, 'm57910': 6284, 'm58870': 6285, 'm59727': 6286, 'm60037': 6287, 'm60291': 6288, 'm60522': 6289, 'm60538': 6290, 'm60979': 6291, 'm65126': 6292, 'm66427': 6293, 'm66783': 6294, 'm69251': 6295, 'm69275': 6296, 'm70994': 6297, 'm71211': 6298, 'm71379': 6299, 'm71500': 6300, 'm74075': 6301, 'm74685': 6302, 'm74851': 6303, 'm77364': 6304, 'm78041': 6305, 'm79274': 6306, 'm80846': 6307, 'm298': 6308, 'm556': 6309, 'm1123': 6310, 'm1406': 6311, 'm1533': 6312, 'm1571': 6313, 'm1574': 6314, 'm1594': 6315, 'm1904': 6316, 'm2069': 6317, 'm2073': 6318, 'm2212': 6319, 'm2323': 6320, 'm2624': 6321, 'm2824': 6322, 'm2937': 6323, 'm2964': 6324, 'm3038': 6325, 'm3046': 6326, 'm3192': 6327, 'm3302': 6328, 'm3384': 6329, 'm3480': 6330, 'm3728': 6331, 'm3794': 6332, 'm3914': 6333, 'm4061': 6334, 'm4116': 6335, 'm4285': 6336, 'm4334': 6337, 'm4345': 6338, 'm4384': 6339, 'm4809': 6340, 'm5147': 6341, 'm5241': 6342, 'm5258': 6343, 'm5272': 6344, 'm5603': 6345, 'm5723': 6346, 'm5745': 6347, 'm5884': 6348, 'm5938': 6349, 'm6122': 6350, 'm6254': 6351, 'm1167': 6352, 'm107069': 6353, 'm60293': 6354, 'm70984': 6355, 'm71619': 6356, 'm73266': 6357, 'm86817': 6358, 'm91079': 6359, 'm4091': 6360, 'm113207': 6361, 'm6086': 6362, 'm5876': 6363, 'm963': 6364, 'm1008': 6365, 'm1128': 6366, 'm1389': 6367, 'm1660': 6368, 'm1983': 6369, 'm1984': 6370, 'm1995': 6371, 'm2043': 6372, 'm2055': 6373, 'm2057': 6374, 'm2095': 6375, 'm2098': 6376, 'm2120': 6377, 'm2163': 6378, 'm2241': 6379, 'm2259': 6380, 'm2286': 6381, 'm2347': 6382, 'm2365': 6383, 'm2400': 6384, 'm2460': 6385, 'm2462': 6386, 'm2852': 6387, 'm2866': 6388, 'm2902': 6389, 'm2903': 6390, 'm3015': 6391, 'm3161': 6392, 'm3313': 6393, 'm3331': 6394, 'm3345': 6395, 'm3368': 6396, 'm3525': 6397, 'm3689': 6398, 'm3767': 6399, 'm3771': 6400, 'm3806': 6401, 'm3833': 6402, 'm3846': 6403, 'm3926': 6404, 'm3928': 6405, 'm3930': 6406, 'm3957': 6407, 'm3971': 6408, 'm3974': 6409, 'm4000': 6410, 'm4009': 6411, 'm4010': 6412, 'm4043': 6413, 'm4110': 6414, 'm4412': 6415, 'm4443': 6416, 'm4459': 6417, 'm4473': 6418, 'm4492': 6419, 'm4506': 6420, 'm4522': 6421, 'm4709': 6422, 'm4953': 6423, 'm4966': 6424, 'm5428': 6425, 'm5462': 6426, 'm5543': 6427, 'm5544': 6428, 'm5638': 6429, 'm7619': 6430, 'm8959': 6431, 'm31923': 6432, 'm34528': 6433, 'm37736': 6434, 'm42418': 6435, 'm43460': 6436, 'm43869': 6437, 'm46967': 6438, 'm47261': 6439, 'm47950': 6440, 'm48416': 6441, 'm60760': 6442, 'm6125': 6443, 'm6453': 6444, 'm26704': 6445, 'm129': 6446, 'm341': 6447, 'm1699': 6448, 'm2066': 6449, 'm2439': 6450, 'm2494': 6451, 'm2549': 6452, 'm2660': 6453, 'm2932': 6454, 'm2988': 6455, 'm3007': 6456, 'm3559': 6457, 'm3634': 6458, 'm3713': 6459, 'm3738': 6460, 'm3849': 6461, 'm102007': 6462, 'm2828': 6463, 'm3086': 6464, 'm3871': 6465, 'm4830': 6466, 'm7720': 6467, 'm8383': 6468, 'm33677': 6469, 'm68597': 6470, 'm80839': 6471, 'm87522': 6472, 'm92192': 6473, 'm96121': 6474, 'm97470': 6475, 'm113345': 6476, 'm115231': 6477, 'm127323': 6478, 'm129937': 6479, 'm130576': 6480, 'm165549': 6481, 'm278': 6482, 'm470': 6483, 'm499': 6484, 'm998': 6485, 'm1440': 6486, 'm2149': 6487, 'm2736': 6488, 'm3043': 6489, 'm3412': 6490, 'm3544': 6491, 'm3667': 6492, 'm3710': 6493, 'm160848': 6494, 'm169034': 6495, 'm171765': 6496, 'm1439': 6497, 'm1526': 6498, 'm1746': 6499, 'm4733': 6500, 'm4757': 6501, 'm4845': 6502, 'm5128': 6503, 'm6554': 6504, 'm6811': 6505, 'm7460': 6506, 'm7926': 6507, 'm26887': 6508, 'm34523': 6509, 'm36537': 6510, 'm50610': 6511, 'm54745': 6512, 'm54934': 6513, 'm58655': 6514, 'm58806': 6515, 'm61729': 6516, 'm62113': 6517, 'm67799': 6518, 'm68600': 6519, 'm70663': 6520, 'm71248': 6521, 'm72405': 6522, 'm74452': 6523, 'm74916': 6524, 'm76060': 6525, 'm84615': 6526, 'm90376': 6527, 'm91128': 6528, 'm103048': 6529, 'm109895': 6530, 'm112370': 6531, 'm112911': 6532, 'm116138': 6533, 'm127108': 6534, 'm134528': 6535, 'm134783': 6536, 'm134808': 6537, 'm136449': 6538, 'm138798': 6539, 'm8261': 6540, 'm944': 6541, 'm6818': 6542, 'm26249': 6543, 'm49347': 6544, 'm60516': 6545, 'm64499': 6546, 'm64501': 6547, 'm72294': 6548, 'm74624': 6549, 'm74868': 6550, 'm79251': 6551, 'm80590': 6552, 'm85788': 6553, 'm89118': 6554, 'm91842': 6555, 'm94018': 6556, 'm105197': 6557, 'm105585': 6558, 'm106441': 6559, 'm106785': 6560, 'm109850': 6561, 'm112818': 6562, 'm112897': 6563, 'm114246': 6564, 'm118706': 6565, 'm131796': 6566, 'm132796': 6567, 'm140627': 6568, 'm145418': 6569, 'm148671': 6570, 'm158027': 6571, 'm160400': 6572, 'm163985': 6573, 'm177763': 6574, 'm185585': 6575, 'm92391': 6576, 'm104908': 6577, 'm105731': 6578, 'm115664': 6579, 'm122884': 6580, 'm140016': 6581, 'm149334': 6582, 'm156726': 6583, 'm158528': 6584, 'm159858': 6585, 'm175199': 6586, 'm183295': 6587, 'm409': 6588, 'm1323': 6589, 'm1325': 6590, 'm1328': 6591, 'm1490': 6592, 'm2154': 6593, 'm2190': 6594, 'm2332': 6595, 'm2506': 6596, 'm2516': 6597, 'm2559': 6598, 'm2639': 6599, 'm2787': 6600, 'm2962': 6601, 'm3051': 6602, 'm3145': 6603, 'm3280': 6604, 'm3423': 6605, 'm3478': 6606, 'm3830': 6607, 'm3943': 6608, 'm4127': 6609, 'm4181': 6610, 'm4371': 6611, 'm4403': 6612, 'm4520': 6613, 'm4584': 6614, 'm4602': 6615, 'm4619': 6616, 'm4662': 6617, 'm4673': 6618, 'm4697': 6619, 'm4750': 6620, 'm4835': 6621, 'm4862': 6622, 'm4885': 6623, 'm4893': 6624, 'm4915': 6625, 'm5099': 6626, 'm5170': 6627, 'm5255': 6628, 'm5361': 6629, 'm5443': 6630, 'm5454': 6631, 'm5538': 6632, 'm5539': 6633, 'm5590': 6634, 'm5664': 6635, 'm5696': 6636, 'm5735': 6637, 'm5736': 6638, 'm5883': 6639, 'm5927': 6640, 'm6153': 6641, 'm6265': 6642, 'm6316': 6643, 'm6558': 6644, 'm6705': 6645, 'm6827': 6646, 'm6850': 6647, 'm6999': 6648, 'm7026': 6649, 'm7030': 6650, 'm7282': 6651, 'm7636': 6652, 'm7708': 6653, 'm7781': 6654, 'm8169': 6655, 'm8402': 6656, 'm8506': 6657, 'm9005': 6658, 'm26133': 6659, 'm26792': 6660, 'm27555': 6661, 'm27838': 6662, 'm30848': 6663, 'm31422': 6664, 'm31424': 6665, 'm33171': 6666, 'm33681': 6667, 'm34143': 6668, 'm34326': 6669, 'm37857': 6670, 'm39234': 6671, 'm48142': 6672, 'm48518': 6673, 'm48678': 6674, 'm49314': 6675, 'm52375': 6676, 'm52867': 6677, 'm53956': 6678, 'm53974': 6679, 'm55272': 6680, 'm55729': 6681, 'm56003': 6682, 'm58287': 6683, 'm65601': 6684, 'm65738': 6685, 'm65740': 6686, 'm65882': 6687, 'm973': 6688, 'm1946': 6689, 'm3171': 6690, 'm3872': 6691, 'm4432': 6692, 'm5398': 6693, 'm6452': 6694, 'm6706': 6695, 'm7218': 6696, 'm7943': 6697, 'm25886': 6698, 'm3330': 6699, 'm4483': 6700, 'm6410': 6701, 'm7184': 6702, 'm7305': 6703, 'm40': 6704, 'm6561': 6705, 'm680': 6706, 'm3732': 6707, 'm4117': 6708, 'm4754': 6709, 'm5433': 6710, 'm5925': 6711, 'm2275': 6712, 'm3889': 6713, 'm4180': 6714, 'm4210': 6715, 'm618': 6716, 'm703': 6717, 'm2896': 6718, 'm74545': 6719, 'm81158': 6720, 'm82667': 6721, 'm104272': 6722, 'm110387': 6723, 'm121253': 6724, 'm133115': 6725, 'm773': 6726, 'm823': 6727, 'm1419': 6728, 'm3569': 6729, 'm3736': 6730, 'm3845': 6731, 'm4256': 6732, 'm4612': 6733, 'm4708': 6734, 'm4825': 6735, 'm5202': 6736, 'm5238': 6737, 'm5475': 6738, 'm5838': 6739, 'm6197': 6740, 'm6241': 6741, 'm6329': 6742, 'm7071': 6743, 'm7124': 6744, 'm7238': 6745, 'm7459': 6746, 'm7979': 6747, 'm8190': 6748, 'm8484': 6749, 'm8724': 6750, 'm8748': 6751, 'm26003': 6752, 'm26048': 6753, 'm26059': 6754, 'm26073': 6755, 'm26158': 6756, 'm26225': 6757, 'm26317': 6758, 'm26713': 6759, 'm26928': 6760, 'm27003': 6761, 'm27176': 6762, 'm27186': 6763, 'm27328': 6764, 'm31545': 6765, 'm31952': 6766, 'm32511': 6767, 'm32554': 6768, 'm32906': 6769, 'm32917': 6770, 'm40955': 6771, 'm42176': 6772, 'm44931': 6773, 'm47446': 6774, 'm48001': 6775, 'm48638': 6776, 'm49917': 6777, 'm51174': 6778, 'm53574': 6779, 'm53883': 6780, 'm54185': 6781, 'm54354': 6782, 'm57772': 6783, 'm58376': 6784, 'm60408': 6785, 'm60885': 6786, 'm61394': 6787, 'm62208': 6788, 'm64167': 6789, 'm65037': 6790, 'm65225': 6791, 'm65631': 6792, 'm67508': 6793, 'm68444': 6794, 'm69746': 6795, 'm69953': 6796, 'm71131': 6797, 'm71147': 6798, 'm71453': 6799, 'm71468': 6800, 'm71494': 6801, 'm71867': 6802, 'm72171': 6803, 'm72714': 6804, 'm72921': 6805, 'm74089': 6806, 'm74226': 6807, 'm74791': 6808, 'm76054': 6809, 'm76173': 6810, 'm76738': 6811, 'm77191': 6812, 'm77233': 6813, 'm78836': 6814, 'm79073': 6815, 'm80478': 6816, 'm80553': 6817, 'm81191': 6818, 'm83827': 6819, 'm83976': 6820, 'm84273': 6821, 'm84716': 6822, 'm85213': 6823, 'm86237': 6824, 'm86279': 6825, 'm86922': 6826, 'm87304': 6827, 'm87444': 6828, 'm87660': 6829, 'm89030': 6830, 'm89945': 6831, 'm90245': 6832, 'm90357': 6833, 'm90528': 6834, 'm90630': 6835, 'm90769': 6836, 'm91784': 6837, 'm91860': 6838, 'm92422': 6839, 'm92637': 6840, 'm94735': 6841, 'm96084': 6842, 'm97904': 6843, 'm100044': 6844, 'm100106': 6845, 'm100277': 6846, 'm101741': 6847, 'm102742': 6848, 'm102823': 6849, 'm105254': 6850, 'm106648': 6851, 'm109187': 6852, 'm109383': 6853, 'm109968': 6854, 'm111817': 6855, 'm113348': 6856, 'm114847': 6857, 'm116505': 6858, 'm117364': 6859, 'm117531': 6860, 'm117545': 6861, 'm117849': 6862, 'm118784': 6863, 'm118880': 6864, 'm120761': 6865, 'm121169': 6866, 'm124853': 6867, 'm127114': 6868, 'm127172': 6869, 'm127180': 6870, 'm127204': 6871, 'm127298': 6872, 'm128900': 6873, 'm128902': 6874, 'm128991': 6875, 'm133802': 6876, 'm134019': 6877, 'm134796': 6878, 'm136024': 6879, 'm138966': 6880, 'm140162': 6881, 'm140737': 6882, 'm140816': 6883, 'm143525': 6884, 'm143896': 6885, 'm144478': 6886, 'm145080': 6887, 'm147002': 6888, 'm148424': 6889, 'm150696': 6890, 'm152065': 6891, 'm155774': 6892, 'm158842': 6893, 'm159976': 6894, 'm160684': 6895, 'm168612': 6896, 'm170355': 6897, 'm171495': 6898, 'm173197': 6899, 'm173291': 6900, 'm173317': 6901, 'm179135': 6902, 'm184245': 6903, 'm188675': 6904, 'm188833': 6905, 'm189381': 6906, 'm26555': 6907, 'm2882': 6908, 'm110127': 6909, 'm111443': 6910, 'm3884': 6911, 'm3899': 6912, 'm3912': 6913, 'm30': 6914, 'm80': 6915, 'm183': 6916, 'm2425': 6917, 'm2848': 6918, 'm2894': 6919, 'm4086': 6920, 'm4263': 6921, 'm4294': 6922, 'm4471': 6923, 'm4500': 6924, 'm4523': 6925, 'm4714': 6926, 'm4717': 6927, 'm4927': 6928, 'm5033': 6929, 'm5075': 6930, 'm5980': 6931, 'm27866': 6932, 'm70451': 6933, 'm73344': 6934, 'm81257': 6935, 'm84240': 6936, 'm102194': 6937, 'm165101': 6938, 'm130482': 6939, 'm136850': 6940, 'm26528': 6941, 'm193609': 6942, 'm3420': 6943, 'm5226': 6944, 'm7925': 6945, 'm26564': 6946, 'm80917': 6947, 'm92938': 6948, 'm93610': 6949, 'm97757': 6950, 'm3567': 6951, 'm3580': 6952, 'm30850': 6953, 'm47404': 6954, 'm59118': 6955, 'm189043': 6956, 'm189111': 6957, 'm190207': 6958, 'm190209': 6959, 'm190213': 6960, 'm190215': 6961, 'm190219': 6962, 'm190221': 6963, 'm6869': 6964, 'm56869': 6965, 'm58842': 6966, 'm77177': 6967, 'm82378': 6968, 'm90345': 6969, 'm92243': 6970, 'm109687': 6971, 'm115969': 6972, 'm141749': 6973, 'm141890': 6974, 'm156783': 6975, 'm166946': 6976, 'm176751': 6977, 'm94405': 6978, 'm2188': 6979, 'm2370': 6980, 'm2676': 6981, 'm2975': 6982, 'm4195': 6983, 'm4419': 6984, 'm5404': 6985, 'm5707': 6986, 'm27751': 6987, 'm38164': 6988, 'm521': 6989, 'm1572': 6990, 'm2442': 6991, 'm4297': 6992, 'm4404': 6993, 'm4422': 6994, 'm5951': 6995, 'm6023': 6996, 'm6286': 6997, 'm6530': 6998, 'm7084': 6999, 'm7115': 7000, 'm7178': 7001, 'm7179': 7002, 'm7820': 7003, 'm7937': 7004, 'm7940': 7005, 'm8405': 7006, 'm32179': 7007, 'm6223': 7008, 'm6263': 7009, 'm40412': 7010, 'm52579': 7011, 'm54787': 7012, 'm55555': 7013, 'm57843': 7014, 'm60857': 7015, 'm60894': 7016, 'm88179': 7017, 'm88272': 7018, 'm88932': 7019, 'm89028': 7020, 'm89761': 7021, 'm90353': 7022, 'm90471': 7023, 'm92048': 7024, 'm5074': 7025, 'm7122': 7026, 'm34164': 7027, 'm44889': 7028, 'm48744': 7029, 'm58492': 7030, 'm59141': 7031, 'm1996': 7032, 'm4354': 7033, 'm4622': 7034, 'm6612': 7035, 'm8580': 7036, 'm8998': 7037, 'm27329': 7038, 'm53024': 7039, 'm59810': 7040, 'm73854': 7041, 'm74282': 7042, 'm93040': 7043, 'm96563': 7044, 'm2226': 7045, 'm26095': 7046, 'm65350': 7047, 'm70687': 7048, 'm85334': 7049, 'm87028': 7050, 'm89386': 7051, 'm26472': 7052, 'm1647': 7053, 'm161127': 7054, 'm176389': 7055, 'm176579': 7056, 'm96964': 7057, 'm101415': 7058, 'm106062': 7059, 'm107997': 7060, 'm109569': 7061, 'm113604': 7062, 'm114494': 7063, 'm132888': 7064, 'm145935': 7065, 'm148172': 7066, 'm155288': 7067, 'm155820': 7068, 'm1565': 7069, 'm2695': 7070, 'm3299': 7071, 'm3453': 7072, 'm4053': 7073, 'm4078': 7074, 'm4505': 7075, 'm4517': 7076, 'm2307': 7077, 'm2399': 7078, 'm3127': 7079, 'm3162': 7080, 'm3545': 7081, 'm3716': 7082, 'm3731': 7083, 'm3758': 7084, 'm3922': 7085, 'm33312': 7086, 'm55167': 7087, 'm112512': 7088, 'm335': 7089, 'm882': 7090, 'm1351': 7091, 'm1352': 7092, 'm1601': 7093, 'm3648': 7094, 'm4434': 7095, 'm4942': 7096, 'm5113': 7097, 'm5288': 7098, 'm5468': 7099, 'm5706': 7100, 'm5979': 7101, 'm6021': 7102, 'm6654': 7103, 'm6656': 7104, 'm6836': 7105, 'm6899': 7106, 'm7104': 7107, 'm7304': 7108, 'm7756': 7109, 'm7834': 7110, 'm8138': 7111, 'm8610': 7112, 'm25959': 7113, 'm27692': 7114, 'm32139': 7115, 'm42556': 7116, 'm56837': 7117, 'm71302': 7118, 'm71999': 7119, 'm80748': 7120, 'm84799': 7121, 'm87287': 7122, 'm92760': 7123, 'm94262': 7124, 'm152': 7125, 'm2656': 7126, 'm4444': 7127, 'm4814': 7128, 'm5134': 7129, 'm5476': 7130, 'm6889': 7131, 'm7310': 7132, 'm8526': 7133, 'm26585': 7134, 'm26999': 7135, 'm27584': 7136, 'm27683': 7137, 'm27802': 7138, 'm31698': 7139, 'm31804': 7140, 'm32456': 7141, 'm32743': 7142, 'm33644': 7143, 'm40614': 7144, 'm40617': 7145, 'm44020': 7146, 'm47124': 7147, 'm51927': 7148, 'm52950': 7149, 'm58404': 7150, 'm60818': 7151, 'm63222': 7152, 'm64249': 7153, 'm65133': 7154, 'm68194': 7155, 'm71129': 7156, 'm72601': 7157, 'm74750': 7158, 'm77798': 7159, 'm82744': 7160, 'm84414': 7161, 'm88515': 7162, 'm90603': 7163, 'm94160': 7164, 'm94985': 7165, 'm95004': 7166, 'm95147': 7167, 'm95149': 7168, 'm95182': 7169, 'm95473': 7170, 'm95475': 7171, 'm95497': 7172, 'm96007': 7173, 'm96815': 7174, 'm97643': 7175, 'm97785': 7176, 'm101739': 7177, 'm102058': 7178, 'm102084': 7179, 'm103233': 7180, 'm103449': 7181, 'm104141': 7182, 'm104419': 7183, 'm104457': 7184, 'm107723': 7185, 'm108795': 7186, 'm113278': 7187, 'm134524': 7188, 'm137863': 7189, 'm152173': 7190, 'm161354': 7191, 'm162598': 7192, 'm163056': 7193, 'm166558': 7194, 'm169982': 7195, 'm172497': 7196, 'm172875': 7197, 'm172881': 7198, 'm172887': 7199, 'm176935': 7200, 'm179119': 7201, 'm182639': 7202, 'm31435': 7203, 'm43376': 7204, 'm45074': 7205, 'm53326': 7206, 'm55259': 7207, 'm63808': 7208, 'm1003': 7209, 'm4580': 7210, 'm4632': 7211, 'm8387': 7212, 'm26764': 7213, 'm26765': 7214, 'm46865': 7215, 'm47952': 7216, 'm48598': 7217, 'm49647': 7218, 'm50003': 7219, 'm52279': 7220, 'm65685': 7221, 'm72696': 7222, 'm88356': 7223, 'm91660': 7224, 'm93139': 7225, 'm95796': 7226, 'm100737': 7227, 'm104074': 7228, 'm104076': 7229, 'm112460': 7230, 'm114713': 7231, 'm116887': 7232, 'm122902': 7233, 'm126482': 7234, 'm130686': 7235, 'm131934': 7236, 'm142372': 7237, 'm152079': 7238, 'm158254': 7239, 'm170289': 7240, 'm2546': 7241, 'm2669': 7242, 'm2856': 7243, 'm4276': 7244, 'm4323': 7245, 'm4355': 7246, 'm206': 7247, 'm363': 7248, 'm841': 7249, 'm1161': 7250, 'm1329': 7251, 'm1662': 7252, 'm1770': 7253, 'm1977': 7254, 'm2071': 7255, 'm2074': 7256, 'm2303': 7257, 'm2488': 7258, 'm2632': 7259, 'm3455': 7260, 'm3587': 7261, 'm3680': 7262, 'm3765': 7263, 'm3813': 7264, 'm3838': 7265, 'm3865': 7266, 'm3919': 7267, 'm4064': 7268, 'm4065': 7269, 'm4191': 7270, 'm4278': 7271, 'm4289': 7272, 'm4298': 7273, 'm4390': 7274, 'm4392': 7275, 'm4393': 7276, 'm4408': 7277, 'm4409': 7278, 'm4426': 7279, 'm4429': 7280, 'm4441': 7281, 'm4527': 7282, 'm4552': 7283, 'm4563': 7284, 'm4614': 7285, 'm4687': 7286, 'm4833': 7287, 'm4985': 7288, 'm4988': 7289, 'm5121': 7290, 'm5156': 7291, 'm5397': 7292, 'm5465': 7293, 'm5489': 7294, 'm5515': 7295, 'm5531': 7296, 'm5780': 7297, 'm5974': 7298, 'm5984': 7299, 'm6035': 7300, 'm6063': 7301, 'm6100': 7302, 'm6123': 7303, 'm6184': 7304, 'm6465': 7305, 'm6533': 7306, 'm6577': 7307, 'm6710': 7308, 'm6748': 7309, 'm6885': 7310, 'm6918': 7311, 'm6981': 7312, 'm7088': 7313, 'm7091': 7314, 'm7102': 7315, 'm7116': 7316, 'm7205': 7317, 'm7301': 7318, 'm7328': 7319, 'm7336': 7320, 'm7386': 7321, 'm7394': 7322, 'm7450': 7323, 'm7581': 7324, 'm7616': 7325, 'm7745': 7326, 'm7749': 7327, 'm7895': 7328, 'm7936': 7329, 'm7938': 7330, 'm7939': 7331, 'm7951': 7332, 'm7987': 7333, 'm7993': 7334, 'm8188': 7335, 'm8195': 7336, 'm8196': 7337, 'm8239': 7338, 'm8270': 7339, 'm8290': 7340, 'm8512': 7341, 'm8542': 7342, 'm8596': 7343, 'm8670': 7344, 'm25898': 7345, 'm25963': 7346, 'm26002': 7347, 'm26052': 7348, 'm26124': 7349, 'm26151': 7350, 'm26231': 7351, 'm26303': 7352, 'm26694': 7353, 'm31590': 7354, 'm31737': 7355, 'm32314': 7356, 'm32392': 7357, 'm33188': 7358, 'm40966': 7359, 'm41617': 7360, 'm44657': 7361, 'm44759': 7362, 'm44864': 7363, 'm46772': 7364, 'm47465': 7365, 'm52462': 7366, 'm52644': 7367, 'm6158': 7368, 'm63239': 7369, 'm104245': 7370, 'm6344': 7371, 'm7208': 7372, 'm27695': 7373, 'm44943': 7374, 'm59995': 7375, 'm695': 7376, 'm1150': 7377, 'm1900': 7378, 'm2708': 7379, 'm4237': 7380, 'm4562': 7381, 'm4965': 7382, 'm5470': 7383, 'm5477': 7384, 'm5537': 7385, 'm5575': 7386, 'm130842': 7387, 'm1701': 7388, 'm6408': 7389, 'm8738': 7390, 'm26147': 7391, 'm26631': 7392, 'm60333': 7393, 'm42734': 7394, 'm170939': 7395, 'm61465': 7396, 'm61697': 7397, 'm7134': 7398, 'm26810': 7399, 'm27664': 7400, 'm59814': 7401, 'm70708': 7402, 'm77266': 7403, 'm6776': 7404, 'm70305': 7405, 'm85412': 7406, 'm87785': 7407, 'm103596': 7408, 'm136540': 7409, 'm3590': 7410, 'm3760': 7411, 'm389': 7412, 'm549': 7413, 'm670': 7414, 'm824': 7415, 'm3823': 7416, 'm3855': 7417, 'm4077': 7418, 'm4175': 7419, 'm4268': 7420, 'm119': 7421, 'm386': 7422, 'm650': 7423, 'm1040': 7424, 'm1121': 7425, 'm1332': 7426, 'm1484': 7427, 'm1605': 7428, 'm1609': 7429, 'm1656': 7430, 'm1870': 7431, 'm1922': 7432, 'm2007': 7433, 'm2119': 7434, 'm2172': 7435, 'm2260': 7436, 'm2264': 7437, 'm2271': 7438, 'm2472': 7439, 'm2482': 7440, 'm2552': 7441, 'm2570': 7442, 'm2751': 7443, 'm2835': 7444, 'm2884': 7445, 'm2891': 7446, 'm2893': 7447, 'm2928': 7448, 'm2979': 7449, 'm3008': 7450, 'm3111': 7451, 'm3206': 7452, 'm3378': 7453, 'm3391': 7454, 'm3539': 7455, 'm3581': 7456, 'm3625': 7457, 'm3790': 7458, 'm3847': 7459, 'm3898': 7460, 'm3900': 7461, 'm3951': 7462, 'm3953': 7463, 'm4012': 7464, 'm4081': 7465, 'm4089': 7466, 'm4115': 7467, 'm4123': 7468, 'm4125': 7469, 'm4138': 7470, 'm4139': 7471, 'm4147': 7472, 'm4221': 7473, 'm4242': 7474, 'm4290': 7475, 'm4312': 7476, 'm4353': 7477, 'm4451': 7478, 'm4458': 7479, 'm4462': 7480, 'm4463': 7481, 'm4475': 7482, 'm4478': 7483, 'm4488': 7484, 'm4524': 7485, 'm4573': 7486, 'm4583': 7487, 'm4595': 7488, 'm4600': 7489, 'm4610': 7490, 'm4617': 7491, 'm4636': 7492, 'm4666': 7493, 'm4672': 7494, 'm4675': 7495, 'm4721': 7496, 'm4745': 7497, 'm4777': 7498, 'm4780': 7499, 'm4818': 7500, 'm4847': 7501, 'm4926': 7502, 'm4961': 7503, 'm4962': 7504, 'm5068': 7505, 'm5071': 7506, 'm5073': 7507, 'm5081': 7508, 'm5112': 7509, 'm5178': 7510, 'm5209': 7511, 'm5237': 7512, 'm5240': 7513, 'm5278': 7514, 'm5285': 7515, 'm5297': 7516, 'm5321': 7517, 'm5322': 7518, 'm5324': 7519, 'm5328': 7520, 'm5337': 7521, 'm5345': 7522, 'm5390': 7523, 'm5416': 7524, 'm5422': 7525, 'm5424': 7526, 'm5437': 7527, 'm5461': 7528, 'm5471': 7529, 'm5483': 7530, 'm5521': 7531, 'm5562': 7532, 'm5625': 7533, 'm5633': 7534, 'm5635': 7535, 'm5636': 7536, 'm5663': 7537, 'm5678': 7538, 'm5685': 7539, 'm5688': 7540, 'm5817': 7541, 'm5829': 7542, 'm5880': 7543, 'm5896': 7544, 'm5968': 7545, 'm5994': 7546, 'm6033': 7547, 'm6036': 7548, 'm6039': 7549, 'm6078': 7550, 'm6116': 7551, 'm6141': 7552, 'm6159': 7553, 'm6162': 7554, 'm6195': 7555, 'm6216': 7556, 'm6222': 7557, 'm6268': 7558, 'm6269': 7559, 'm6280': 7560, 'm6295': 7561, 'm6308': 7562, 'm6314': 7563, 'm6315': 7564, 'm6349': 7565, 'm6442': 7566, 'm6493': 7567, 'm6510': 7568, 'm6517': 7569, 'm6542': 7570, 'm6547': 7571, 'm6549': 7572, 'm6560': 7573, 'm6563': 7574, 'm6574': 7575, 'm6582': 7576, 'm6598': 7577, 'm6616': 7578, 'm6628': 7579, 'm6631': 7580, 'm6670': 7581, 'm6689': 7582, 'm6696': 7583, 'm6699': 7584, 'm6718': 7585, 'm6720': 7586, 'm6780': 7587, 'm6797': 7588, 'm6809': 7589, 'm6810': 7590, 'm6812': 7591, 'm6816': 7592, 'm6851': 7593, 'm6883': 7594, 'm6898': 7595, 'm6954': 7596, 'm7033': 7597, 'm7165': 7598, 'm7175': 7599, 'm7176': 7600, 'm7193': 7601, 'm7248': 7602, 'm7251': 7603, 'm7315': 7604, 'm7340': 7605, 'm7348': 7606, 'm7364': 7607, 'm7390': 7608, 'm8119': 7609, 'm8587': 7610, 'm8915': 7611, 'm8919': 7612, 'm8952': 7613, 'm8954': 7614, 'm25834': 7615, 'm30820': 7616, 'm31162': 7617, 'm32116': 7618, 'm33725': 7619, 'm33826': 7620, 'm33838': 7621, 'm34540': 7622, 'm41527': 7623, 'm42602': 7624, 'm43912': 7625, 'm45062': 7626, 'm45635': 7627, 'm46347': 7628, 'm46559': 7629, 'm48319': 7630, 'm48560': 7631, 'm49132': 7632, 'm49280': 7633, 'm49957': 7634, 'm50792': 7635, 'm51694': 7636, 'm52299': 7637, 'm52668': 7638, 'm52724': 7639, 'm52784': 7640, 'm53447': 7641, 'm54771': 7642, 'm55110': 7643, 'm55250': 7644, 'm56908': 7645, 'm58879': 7646, 'm59037': 7647, 'm60128': 7648, 'm60141': 7649, 'm61401': 7650, 'm70862': 7651, 'm76763': 7652, 'm95135': 7653, 'm112940': 7654, 'm115828': 7655, 'm127130': 7656, 'm154358': 7657, 'm166024': 7658, 'm166568': 7659, 'm167570': 7660, 'm169992': 7661, 'm173205': 7662, 'm173209': 7663, 'm176423': 7664, 'm180045': 7665, 'm90374': 7666, 'm1412': 7667, 'm2807': 7668, 'm4093': 7669, 'm27704': 7670, 'm50851': 7671, 'm69860': 7672, 'm79677': 7673, 'm85394': 7674, 'm86668': 7675, 'm89580': 7676, 'm90943': 7677, 'm97866': 7678, 'm6210': 7679, 'm8337': 7680, 'm8577': 7681, 'm26693': 7682, 'm59295': 7683, 'm2665': 7684, 'm3447': 7685, 'm3973': 7686, 'm4190': 7687, 'm4802': 7688, 'm4925': 7689, 'm4939': 7690, 'm5063': 7691, 'm136469': 7692, 'm91325': 7693, 'm6055': 7694, 'm6347': 7695, 'm6348': 7696, 'm6597': 7697, 'm5532': 7698, 'm7306': 7699, 'm8588': 7700, 'm27708': 7701, 'm33893': 7702, 'm45503': 7703, 'm66090': 7704, 'm68347': 7705, 'm71902': 7706, 'm80880': 7707, 'm89208': 7708, 'm92348': 7709, 'm568': 7710, 'm1675': 7711, 'm2540': 7712, 'm4453': 7713, 'm4743': 7714, 'm5409': 7715, 'm5580': 7716, 'm5675': 7717, 'm5787': 7718, 'm6992': 7719, 'm7017': 7720, 'm7192': 7721, 'm8782': 7722, 'm30898': 7723, 'm36276': 7724, 'm43708': 7725, 'm8690': 7726, 'm4402': 7727, 'm96430': 7728, 'm941': 7729, 'm1839': 7730, 'm2368': 7731, 'm2520': 7732, 'm2521': 7733, 'm2523': 7734, 'm2693': 7735, 'm2887': 7736, 'm3057': 7737, 'm3276': 7738, 'm3284': 7739, 'm3390': 7740, 'm3596': 7741, 'm3933': 7742, 'm4051': 7743, 'm4156': 7744, 'm4198': 7745, 'm4212': 7746, 'm4397': 7747, 'm4526': 7748, 'm4630': 7749, 'm4660': 7750, 'm4756': 7751, 'm4775': 7752, 'm4952': 7753, 'm4981': 7754, 'm5250': 7755, 'm5334': 7756, 'm5356': 7757, 'm5490': 7758, 'm5700': 7759, 'm5752': 7760, 'm5779': 7761, 'm5915': 7762, 'm6302': 7763, 'm6424': 7764, 'm6427': 7765, 'm6476': 7766, 'm6514': 7767, 'm6760': 7768, 'm6798': 7769, 'm6814': 7770, 'm7101': 7771, 'm7245': 7772, 'm7372': 7773, 'm8136': 7774, 'm8137': 7775, 'm8447': 7776, 'm8743': 7777, 'm26152': 7778, 'm26386': 7779, 'm26464': 7780, 'm26700': 7781, 'm31000': 7782, 'm32291': 7783, 'm34018': 7784, 'm37211': 7785, 'm43558': 7786, 'm48262': 7787, 'm49688': 7788, 'm50064': 7789, 'm53453': 7790, 'm53808': 7791, 'm55294': 7792, 'm58351': 7793, 'm61123': 7794, 'm61289': 7795, 'm63393': 7796, 'm65135': 7797, 'm66785': 7798, 'm67361': 7799, 'm69118': 7800, 'm69453': 7801, 'm69604': 7802, 'm70545': 7803, 'm71466': 7804, 'm71732': 7805, 'm72224': 7806, 'm72694': 7807, 'm73386': 7808, 'm75803': 7809, 'm75816': 7810, 'm77421': 7811, 'm78034': 7812, 'm78116': 7813, 'm79259': 7814, 'm79590': 7815, 'm79879': 7816, 'm79946': 7817, 'm80241': 7818, 'm80864': 7819, 'm81949': 7820, 'm82093': 7821, 'm82095': 7822, 'm82527': 7823, 'm83374': 7824, 'm84696': 7825, 'm84950': 7826, 'm85025': 7827, 'm85399': 7828, 'm86028': 7829, 'm86593': 7830, 'm87876': 7831, 'm88672': 7832, 'm89305': 7833, 'm89343': 7834, 'm89388': 7835, 'm89427': 7836, 'm90343': 7837, 'm90719': 7838, 'm90738': 7839, 'm91273': 7840, 'm91688': 7841, 'm91873': 7842, 'm91935': 7843, 'm92198': 7844, 'm92665': 7845, 'm93242': 7846, 'm93980': 7847, 'm93982': 7848, 'm94011': 7849, 'm94323': 7850, 'm94494': 7851, 'm94896': 7852, 'm94919': 7853, 'm95201': 7854, 'm95508': 7855, 'm95744': 7856, 'm96114': 7857, 'm96281': 7858, 'm96530': 7859, 'm96726': 7860, 'm97328': 7861, 'm97742': 7862, 'm97858': 7863, 'm97870': 7864, 'm97936': 7865, 'm98160': 7866, 'm98175': 7867, 'm98230': 7868, 'm98296': 7869, 'm98836': 7870, 'm98908': 7871, 'm99005': 7872, 'm99415': 7873, 'm99574': 7874, 'm99846': 7875, 'm99992': 7876, 'm100226': 7877, 'm100304': 7878, 'm100326': 7879, 'm100487': 7880, 'm101360': 7881, 'm101529': 7882, 'm101577': 7883, 'm101884': 7884, 'm101895': 7885, 'm102025': 7886, 'm102165': 7887, 'm102278': 7888, 'm102819': 7889, 'm102880': 7890, 'm103221': 7891, 'm103502': 7892, 'm103543': 7893, 'm103755': 7894, 'm103865': 7895, 'm104078': 7896, 'm104129': 7897, 'm104760': 7898, 'm104906': 7899, 'm105121': 7900, 'm105755': 7901, 'm106330': 7902, 'm106438': 7903, 'm106542': 7904, 'm106883': 7905, 'm107702': 7906, 'm107945': 7907, 'm107962': 7908, 'm108188': 7909, 'm108601': 7910, 'm108715': 7911, 'm109183': 7912, 'm109191': 7913, 'm109295': 7914, 'm109317': 7915, 'm109372': 7916, 'm109416': 7917, 'm110611': 7918, 'm110655': 7919, 'm110826': 7920, 'm111663': 7921, 'm111680': 7922, 'm111795': 7923, 'm112303': 7924, 'm112749': 7925, 'm113186': 7926, 'm113225': 7927, 'm113350': 7928, 'm113416': 7929, 'm113532': 7930, 'm114028': 7931, 'm114601': 7932, 'm114925': 7933, 'm115151': 7934, 'm115170': 7935, 'm115216': 7936, 'm116207': 7937, 'm116413': 7938, 'm116419': 7939, 'm116849': 7940, 'm116985': 7941, 'm117107': 7942, 'm117511': 7943, 'm118248': 7944, 'm118326': 7945, 'm118354': 7946, 'm118512': 7947, 'm118702': 7948, 'm118814': 7949, 'm118924': 7950, 'm118997': 7951, 'm119068': 7952, 'm119655': 7953, 'm120637': 7954, 'm120783': 7955, 'm122490': 7956, 'm122932': 7957, 'm124859': 7958, 'm125221': 7959, 'm126420': 7960, 'm127132': 7961, 'm127136': 7962, 'm127194': 7963, 'm127319': 7964, 'm128592': 7965, 'm129250': 7966, 'm129333': 7967, 'm129657': 7968, 'm129659': 7969, 'm130083': 7970, 'm131480': 7971, 'm132333': 7972, 'm132462': 7973, 'm132488': 7974, 'm132618': 7975, 'm133195': 7976, 'm133281': 7977, 'm133365': 7978, 'm133377': 7979, 'm133545': 7980, 'm133782': 7981, 'm133798': 7982, 'm134021': 7983, 'm134158': 7984, 'm134859': 7985, 'm136654': 7986, 'm136664': 7987, 'm136778': 7988, 'm136786': 7989, 'm136800': 7990, 'm136816': 7991, 'm136859': 7992, 'm137517': 7993, 'm138546': 7994, 'm139052': 7995, 'm139415': 7996, 'm139857': 7997, 'm140237': 7998, 'm140525': 7999, 'm140850': 8000, 'm141422': 8001, 'm142424': 8002, 'm143001': 8003, 'm143255': 8004, 'm143257': 8005, 'm143410': 8006, 'm143472': 8007, 'm144262': 8008, 'm144620': 8009, 'm144714': 8010, 'm144716': 8011, 'm145150': 8012, 'm146688': 8013, 'm146730': 8014, 'm148482': 8015, 'm148592': 8016, 'm148709': 8017, 'm149590': 8018, 'm149612': 8019, 'm150401': 8020, 'm150604': 8021, 'm151315': 8022, 'm151317': 8023, 'm151501': 8024, 'm151559': 8025, 'm151653': 8026, 'm151745': 8027, 'm151777': 8028, 'm152085': 8029, 'm152105': 8030, 'm152658': 8031, 'm154065': 8032, 'm155358': 8033, 'm155659': 8034, 'm155743': 8035, 'm155892': 8036, 'm156553': 8037, 'm156706': 8038, 'm157122': 8039, 'm157130': 8040, 'm157172': 8041, 'm157200': 8042, 'm157270': 8043, 'm157340': 8044, 'm157407': 8045, 'm157432': 8046, 'm158022': 8047, 'm158956': 8048, 'm159077': 8049, 'm159193': 8050, 'm159690': 8051, 'm160440': 8052, 'm160573': 8053, 'm160646': 8054, 'm160730': 8055, 'm161290': 8056, 'm161830': 8057, 'm161918': 8058, 'm162828': 8059, 'm164375': 8060, 'm164647': 8061, 'm164753': 8062, 'm165075': 8063, 'm165139': 8064, 'm165343': 8065, 'm165347': 8066, 'm168350': 8067, 'm168456': 8068, 'm169180': 8069, 'm173751': 8070, 'm3568': 8071, 'm2839': 8072, 'm3240': 8073, 'm3241': 8074, 'm3756': 8075, 'm3787': 8076, 'm1341': 8077, 'm706': 8078, 'm89039': 8079, 'm1757': 8080, 'm2677': 8081, 'm3859': 8082, 'm3989': 8083, 'm4236': 8084, 'm4863': 8085, 'm4977': 8086, 'm5205': 8087, 'm5212': 8088, 'm5224': 8089, 'm5239': 8090, 'm5986': 8091, 'm6064': 8092, 'm6466': 8093, 'm6528': 8094, 'm6611': 8095, 'm6775': 8096, 'm6935': 8097, 'm6945': 8098, 'm6966': 8099, 'm7181': 8100, 'm7620': 8101, 'm7767': 8102, 'm7786': 8103, 'm7920': 8104, 'm8620': 8105, 'm8848': 8106, 'm26359': 8107, 'm26838': 8108, 'm27563': 8109, 'm32582': 8110, 'm38198': 8111, 'm45382': 8112, 'm46855': 8113, 'm55156': 8114, 'm58191': 8115, 'm67665': 8116, 'm71640': 8117, 'm82857': 8118, 'm89090': 8119, 'm100556': 8120, 'm103107': 8121, 'm105835': 8122, 'm109161': 8123, 'm148982': 8124, 'm151311': 8125, 'm152711': 8126, 'm160644': 8127, 'm162414': 8128, 'm164655': 8129, 'm167064': 8130, 'm179813': 8131, 'm183199': 8132, 'm183317': 8133, 'm184721': 8134, 'm187717': 8135, 'm188189': 8136, 'm189713': 8137, 'm56169': 8138, 'm59738': 8139, 'm60832': 8140, 'm74530': 8141, 'm74580': 8142, 'm90384': 8143, 'm3723': 8144, 'm2493': 8145, 'm451': 8146, 'm1180': 8147, 'm3405': 8148, 'm3619': 8149, 'm3658': 8150, 'm3832': 8151, 'm96': 8152, 'm488': 8153, 'm638': 8154, 'm907': 8155, 'm929': 8156, 'm956': 8157, 'm959': 8158, 'm970': 8159, 'm976': 8160, 'm982': 8161, 'm993': 8162, 'm1068': 8163, 'm1398': 8164, 'm1413': 8165, 'm1423': 8166, 'm1496': 8167, 'm1507': 8168, 'm1629': 8169, 'm1650': 8170, 'm1893': 8171, 'm1902': 8172, 'm1913': 8173, 'm1926': 8174, 'm1928': 8175, 'm1932': 8176, 'm1933': 8177, 'm1940': 8178, 'm2177': 8179, 'm2179': 8180, 'm2180': 8181, 'm2185': 8182, 'm2187': 8183, 'm2201': 8184, 'm2211': 8185, 'm2611': 8186, 'm2612': 8187, 'm2652': 8188, 'm2697': 8189, 'm2743': 8190, 'm2757': 8191, 'm2801': 8192, 'm2927': 8193, 'm2929': 8194, 'm2930': 8195, 'm3109': 8196, 'm3112': 8197, 'm3125': 8198, 'm3135': 8199, 'm3211': 8200, 'm3281': 8201, 'm3475': 8202, 'm3609': 8203, 'm3641': 8204, 'm3714': 8205, 'm3715': 8206, 'm3739': 8207, 'm3789': 8208, 'm3816': 8209, 'm3870': 8210, 'm3965': 8211, 'm3966': 8212, 'm4046': 8213, 'm4080': 8214, 'm4113': 8215, 'm4129': 8216, 'm4164': 8217, 'm4171': 8218, 'm4184': 8219, 'm4189': 8220, 'm4204': 8221, 'm4218': 8222, 'm4292': 8223, 'm4296': 8224, 'm4433': 8225, 'm4484': 8226, 'm4495': 8227, 'm4521': 8228, 'm4578': 8229, 'm4589': 8230, 'm4635': 8231, 'm4704': 8232, 'm4769': 8233, 'm4796': 8234, 'm4798': 8235, 'm4801': 8236, 'm4804': 8237, 'm4860': 8238, 'm4871': 8239, 'm4970': 8240, 'm4998': 8241, 'm5007': 8242, 'm5012': 8243, 'm5077': 8244, 'm5114': 8245, 'm5116': 8246, 'm5168': 8247, 'm5213': 8248, 'm5231': 8249, 'm5311': 8250, 'm5353': 8251, 'm5375': 8252, 'm5384': 8253, 'm5440': 8254, 'm5455': 8255, 'm5512': 8256, 'm5525': 8257, 'm5581': 8258, 'm5601': 8259, 'm5602': 8260, 'm5604': 8261, 'm5629': 8262, 'm5649': 8263, 'm5694': 8264, 'm5755': 8265, 'm5771': 8266, 'm5799': 8267, 'm5801': 8268, 'm5802': 8269, 'm5826': 8270, 'm5836': 8271, 'm5863': 8272, 'm5875': 8273, 'm5963': 8274, 'm6020': 8275, 'm6031': 8276, 'm6042': 8277, 'm6090': 8278, 'm6101': 8279, 'm6163': 8280, 'm6178': 8281, 'm6181': 8282, 'm6201': 8283, 'm6225': 8284, 'm6228': 8285, 'm6232': 8286, 'm6245': 8287, 'm6273': 8288, 'm6289': 8289, 'm6336': 8290, 'm6357': 8291, 'm6376': 8292, 'm6382': 8293, 'm6390': 8294, 'm6400': 8295, 'm6407': 8296, 'm6422': 8297, 'm6434': 8298, 'm6454': 8299, 'm6477': 8300, 'm6515': 8301, 'm6527': 8302, 'm6545': 8303, 'm6581': 8304, 'm6584': 8305, 'm6592': 8306, 'm6603': 8307, 'm6609': 8308, 'm6614': 8309, 'm6660': 8310, 'm6667': 8311, 'm6732': 8312, 'm6768': 8313, 'm6770': 8314, 'm6772': 8315, 'm6788': 8316, 'm6837': 8317, 'm6909': 8318, 'm6911': 8319, 'm6912': 8320, 'm6948': 8321, 'm6962': 8322, 'm6965': 8323, 'm6970': 8324, 'm6982': 8325, 'm6984': 8326, 'm6990': 8327, 'm7012': 8328, 'm7019': 8329, 'm7049': 8330, 'm7051': 8331, 'm7052': 8332, 'm7053': 8333, 'm7055': 8334, 'm7057': 8335, 'm7058': 8336, 'm7059': 8337, 'm7061': 8338, 'm7062': 8339, 'm7070': 8340, 'm7073': 8341, 'm7074': 8342, 'm7075': 8343, 'm7079': 8344, 'm7082': 8345, 'm7083': 8346, 'm7085': 8347, 'm7086': 8348, 'm7092': 8349, 'm7093': 8350, 'm7141': 8351, 'm7167': 8352, 'm7177': 8353, 'm7190': 8354, 'm7211': 8355, 'm7212': 8356, 'm7217': 8357, 'm7219': 8358, 'm7223': 8359, 'm7326': 8360, 'm7357': 8361, 'm7382': 8362, 'm7414': 8363, 'm7479': 8364, 'm7560': 8365, 'm7572': 8366, 'm7579': 8367, 'm7584': 8368, 'm7618': 8369, 'm7702': 8370, 'm7705': 8371, 'm7713': 8372, 'm7714': 8373, 'm7716': 8374, 'm7727': 8375, 'm7772': 8376, 'm7789': 8377, 'm7822': 8378, 'm7826': 8379, 'm7831': 8380, 'm7832': 8381, 'm7833': 8382, 'm7835': 8383, 'm7839': 8384, 'm7840': 8385, 'm7882': 8386, 'm7883': 8387, 'm7888': 8388, 'm7896': 8389, 'm7900': 8390, 'm7944': 8391, 'm8019': 8392, 'm8057': 8393, 'm8094': 8394, 'm8125': 8395, 'm8153': 8396, 'm8167': 8397, 'm8191': 8398, 'm8232': 8399, 'm8275': 8400, 'm8293': 8401, 'm8302': 8402, 'm8331': 8403, 'm8336': 8404, 'm8338': 8405, 'm8375': 8406, 'm8382': 8407, 'm8385': 8408, 'm8410': 8409, 'm8424': 8410, 'm8446': 8411, 'm8450': 8412, 'm8451': 8413, 'm8458': 8414, 'm8459': 8415, 'm8461': 8416, 'm8462': 8417, 'm8463': 8418, 'm8465': 8419, 'm8481': 8420, 'm8482': 8421, 'm8487': 8422, 'm8492': 8423, 'm8502': 8424, 'm8518': 8425, 'm8521': 8426, 'm8534': 8427, 'm8575': 8428, 'm8591': 8429, 'm8611': 8430, 'm8617': 8431, 'm8650': 8432, 'm8684': 8433, 'm8711': 8434, 'm8712': 8435, 'm8714': 8436, 'm8730': 8437, 'm8753': 8438, 'm8754': 8439, 'm8771': 8440, 'm8773': 8441, 'm8774': 8442, 'm8778': 8443, 'm8809': 8444, 'm8813': 8445, 'm8875': 8446, 'm8920': 8447, 'm8921': 8448, 'm8938': 8449, 'm8943': 8450, 'm8955': 8451, 'm8979': 8452, 'm8987': 8453, 'm8989': 8454, 'm25752': 8455, 'm25753': 8456, 'm25757': 8457, 'm25769': 8458, 'm25795': 8459, 'm25826': 8460, 'm25850': 8461, 'm25865': 8462, 'm25870': 8463, 'm25927': 8464, 'm25940': 8465, 'm25952': 8466, 'm25962': 8467, 'm25996': 8468, 'm25999': 8469, 'm26791': 8470, 'm26965': 8471, 'm31030': 8472, 'm31083': 8473, 'm31260': 8474, 'm31694': 8475, 'm31903': 8476, 'm34359': 8477, 'm35015': 8478, 'm42740': 8479, 'm43333': 8480, 'm44511': 8481, 'm48741': 8482, 'm49666': 8483, 'm50160': 8484, 'm50514': 8485, 'm53921': 8486, 'm55071': 8487, 'm55687': 8488, 'm56563': 8489, 'm3720': 8490, 'm4454': 8491, 'm4557': 8492, 'm4725': 8493, 'm5069': 8494, 'm5348': 8495, 'm6148': 8496, 'm7335': 8497, 'm8126': 8498, 'm27537': 8499, 'm31660': 8500, 'm42422': 8501, 'm68945': 8502, 'm72308': 8503, 'm78746': 8504, 'm82242': 8505, 'm2362': 8506, 'm3428': 8507, 'm4111': 8508, 'm4410': 8509, 'm4831': 8510, 'm5197': 8511, 'm5365': 8512, 'm5389': 8513, 'm5448': 8514, 'm5651': 8515, 'm5773': 8516, 'm6436': 8517, 'm6853': 8518, 'm8131': 8519, 'm27830': 8520, 'm32294': 8521, 'm36477': 8522, 'm37844': 8523, 'm43914': 8524, 'm44197': 8525, 'm47646': 8526, 'm2068': 8527, 'm6320': 8528, 'm8268': 8529, 'm2483': 8530, 'm8632': 8531, 'm27370': 8532, 'm31617': 8533, 'm36397': 8534, 'm68522': 8535, 'm72554': 8536, 'm88448': 8537, 'm89586': 8538, 'm90863': 8539, 'm91890': 8540, 'm93723': 8541, 'm94810': 8542, 'm95939': 8543, 'm96283': 8544, 'm97665': 8545, 'm99087': 8546, 'm100068': 8547, 'm101765': 8548, 'm105325': 8549, 'm109941': 8550, 'm109971': 8551, 'm112316': 8552, 'm115065': 8553, 'm4759': 8554, 'm5786': 8555, 'm8593': 8556, 'm71268': 8557, 'm93320': 8558, 'm26900': 8559, 'm40597': 8560, 'm54796': 8561, 'm72874': 8562, 'm73501': 8563, 'm77881': 8564, 'm79299': 8565, 'm79536': 8566, 'm80454': 8567, 'm80551': 8568, 'm84553': 8569, 'm86000': 8570, 'm87413': 8571, 'm91488': 8572, 'm92730': 8573, 'm94130': 8574, 'm50954': 8575, 'm78160': 8576, 'm78544': 8577, 'm180231': 8578, 'm103': 8579, 'm467': 8580, 'm876': 8581, 'm1170': 8582, 'm73290': 8583, 'm140523': 8584, 'm131739': 8585, 'm56286': 8586, 'm449': 8587, 'm1824': 8588, 'm1910': 8589, 'm7455': 8590, 'm32914': 8591, 'm46231': 8592, 'm79798': 8593, 'm6596': 8594, 'm6927': 8595, 'm68269': 8596, 'm5613': 8597, 'm26958': 8598, 'm50796': 8599, 'm65193': 8600, 'm74677': 8601, 'm80834': 8602, 'm82088': 8603, 'm84847': 8604, 'm89678': 8605, 'm90809': 8606, 'm91266': 8607, 'm91337': 8608, 'm93134': 8609, 'm93988': 8610, 'm94799': 8611, 'm95193': 8612, 'm110781': 8613, 'm117133': 8614, 'm126142': 8615, 'm129229': 8616, 'm130073': 8617, 'm136838': 8618, 'm136840': 8619, 'm34148': 8620, 'm6145': 8621, 'm1335': 8622, 'm1978': 8623, 'm2878': 8624, 'm3294': 8625, 'm4202': 8626, 'm5041': 8627, 'm5189': 8628, 'm5704': 8629, 'm5797': 8630, 'm6746': 8631, 'm6821': 8632, 'm7477': 8633, 'm7730': 8634, 'm7891': 8635, 'm8894': 8636, 'm26198': 8637, 'm31150': 8638, 'm38583': 8639, 'm40478': 8640, 'm62586': 8641, 'm124484': 8642, 'm135216': 8643, 'm136958': 8644, 'm141994': 8645, 'm149330': 8646, 'm158830': 8647, 'm159510': 8648, 'm160571': 8649, 'm167538': 8650, 'm168358': 8651, 'm180263': 8652, 'm182727': 8653, 'm184931': 8654, 'm184987': 8655, 'm185033': 8656, 'm185473': 8657, 'm186587': 8658, 'm187031': 8659, 'm188797': 8660, 'm4646': 8661, 'm8772': 8662, 'm26761': 8663, 'm83270': 8664, 'm88267': 8665, 'm91414': 8666, 'm93740': 8667, 'm96471': 8668, 'm96518': 8669, 'm96520': 8670, 'm97194': 8671, 'm107780': 8672, 'm121099': 8673, 'm144352': 8674, 'm152037': 8675, 'm160422': 8676, 'm162590': 8677, 'm165489': 8678, 'm7266': 8679, 'm32469': 8680, 'm27006': 8681, 'm27369': 8682, 'm66544': 8683, 'm79006': 8684, 'm120130': 8685, 'm8264': 8686, 'm91869': 8687, 'm96150': 8688, 'm98122': 8689, 'm106889': 8690, 'm120807': 8691, 'm127164': 8692, 'm134248': 8693, 'm146682': 8694, 'm148667': 8695, 'm159849': 8696, 'm163653': 8697, 'm164540': 8698, 'm39516': 8699, 'm135198': 8700, 'm176413': 8701, 'm176415': 8702, 'm2742': 8703, 'm3673': 8704, 'm3674': 8705, 'm4445': 8706, 'm5560': 8707, 'm4284': 8708, 'm125914': 8709, 'm27251': 8710, 'm36289': 8711, 'm51024': 8712, 'm53138': 8713, 'm53140': 8714, 'm58297': 8715, 'm64695': 8716, 'm69805': 8717, 'm73804': 8718, 'm76743': 8719, 'm83480': 8720, 'm85179': 8721, 'm85261': 8722, 'm91353': 8723, 'm112580': 8724, 'm116529': 8725, 'm116668': 8726, 'm116724': 8727, 'm128542': 8728, 'm134775': 8729, 'm135885': 8730, 'm144734': 8731, 'm150993': 8732, 'm164367': 8733, 'm2573': 8734, 'm55946': 8735, 'm121129': 8736, 'm2107': 8737, 'm626': 8738, 'm1986': 8739, 'm1990': 8740, 'm3626': 8741, 'm3939': 8742, 'm3940': 8743, 'm3941': 8744, 'm3942': 8745, 'm3958': 8746, 'm1477': 8747, 'm168712': 8748, 'm142056': 8749, 'm167296': 8750, 'm1825': 8751, 'm5059': 8752, 'm5513': 8753, 'm7457': 8754, 'm43684': 8755, 'm61257': 8756, 'm2820': 8757, 'm633': 8758, 'm790': 8759, 'm1336': 8760, 'm1397': 8761, 'm1985': 8762, 'm2256': 8763, 'm2451': 8764, 'm2597': 8765, 'm2862': 8766, 'm3442': 8767, 'm3574': 8768, 'm3577': 8769, 'm3660': 8770, 'm3661': 8771, 'm3663': 8772, 'm3664': 8773, 'm3678': 8774, 'm3691': 8775, 'm5839': 8776, 'm5840': 8777, 'm6119': 8778, 'm26308': 8779, 'm31123': 8780, 'm37495': 8781, 'm38095': 8782, 'm48045': 8783, 'm54617': 8784, 'm59026': 8785, 'm68886': 8786, 'm73681': 8787, 'm81383': 8788, 'm96945': 8789, 'm105246': 8790, 'm109313': 8791, 'm111384': 8792, 'm130498': 8793, 'm141866': 8794, 'm142558': 8795, 'm148238': 8796, 'm148881': 8797, 'm154975': 8798, 'm6800': 8799, 'm105468': 8800, 'm168174': 8801, 'm4135': 8802, 'm26357': 8803, 'm27140': 8804, 'm27667': 8805, 'm73211': 8806, 'm99191': 8807, 'm100306': 8808, 'm43930': 8809, 'm44225': 8810, 'm47516': 8811, 'm61071': 8812, 'm62718': 8813, 'm70932': 8814, 'm72919': 8815, 'm74688': 8816, 'm77414': 8817, 'm78264': 8818, 'm80858': 8819, 'm82152': 8820, 'm90524': 8821, 'm94325': 8822, 'm95199': 8823, 'm96975': 8824, 'm100527': 8825, 'm115667': 8826, 'm128832': 8827, 'm139747': 8828, 'm50942': 8829, 'm5028': 8830, 'm8189': 8831, 'm8335': 8832, 'm8477': 8833, 'm25782': 8834, 'm26717': 8835, 'm26743': 8836, 'm40491': 8837, 'm51573': 8838, 'm57502': 8839, 'm70015': 8840, 'm71438': 8841, 'm81681': 8842, 'm82684': 8843, 'm92234': 8844, 'm92681': 8845, 'm99917': 8846, 'm101070': 8847, 'm102088': 8848, 'm102800': 8849, 'm104337': 8850, 'm104944': 8851, 'm109897': 8852, 'm110603': 8853, 'm113705': 8854, 'm114396': 8855, 'm114554': 8856, 'm114627': 8857, 'm117877': 8858, 'm122246': 8859, 'm122888': 8860, 'm132335': 8861, 'm134246': 8862, 'm135288': 8863, 'm136602': 8864, 'm141668': 8865, 'm142507': 8866, 'm150254': 8867, 'm151687': 8868, 'm152063': 8869, 'm152071': 8870, 'm153070': 8871, 'm156605': 8872, 'm166526': 8873, 'm166705': 8874, 'm170945': 8875, 'm176419': 8876, 'm179491': 8877, 'm179749': 8878, 'm179815': 8879, 'm1331': 8880, 'm1623': 8881, 'm1980': 8882, 'm2655': 8883, 'm2740': 8884, 'm2982': 8885, 'm3021': 8886, 'm3073': 8887, 'm430': 8888, 'm2538': 8889, 'm2623': 8890, 'm2629': 8891, 'm2415': 8892, 'm3143': 8893, 'm6751': 8894, 'm7395': 8895, 'm56389': 8896, 'm75446': 8897, 'm2965': 8898, 'm5767': 8899, 'm5828': 8900, 'm6342': 8901, 'm6583': 8902, 'm6692': 8903, 'm7349': 8904, 'm8092': 8905, 'm8236': 8906, 'm8427': 8907, 'm8494': 8908, 'm8800': 8909, 'm8844': 8910, 'm26819': 8911, 'm27373': 8912, 'm136556': 8913, 'm2738': 8914, 'm3403': 8915, 'm3414': 8916, 'm3449': 8917, 'm4710': 8918, 'm284': 8919, 'm1652': 8920, 'm2175': 8921, 'm2196': 8922, 'm2589': 8923, 'm3353': 8924, 'm4200': 8925, 'm4374': 8926, 'm4715': 8927, 'm4794': 8928, 'm4827': 8929, 'm5105': 8930, 'm5657': 8931, 'm6140': 8932, 'm6417': 8933, 'm6665': 8934, 'm6723': 8935, 'm6967': 8936, 'm6994': 8937, 'm7023': 8938, 'm7031': 8939, 'm7032': 8940, 'm7114': 8941, 'm7345': 8942, 'm7742': 8943, 'm7782': 8944, 'm8035': 8945, 'm8118': 8946, 'm8727': 8947, 'm2774': 8948, 'm3094': 8949, 'm4342': 8950, 'm6769': 8951, 'm7260': 8952, 'm7615': 8953, 'm27246': 8954, 'm32799': 8955, 'm33649': 8956, 'm43744': 8957, 'm55844': 8958, 'm59549': 8959, 'm59667': 8960, 'm68835': 8961, 'm69495': 8962, 'm70637': 8963, 'm92954': 8964, 'm111800': 8965, 'm111913': 8966, 'm113280': 8967, 'm120919': 8968, 'm128908': 8969, 'm129397': 8970, 'm132454': 8971, 'm133645': 8972, 'm141131': 8973, 'm151557': 8974, 'm163639': 8975, 'm168026': 8976, 'm171917': 8977, 'm176051': 8978, 'm178615': 8979, 'm181719': 8980, 'm182793': 8981, 'm183635': 8982, 'm184997': 8983, 'm615': 8984, 'm1112': 8985, 'm4424': 8986, 'm113829': 8987, 'm114265': 8988, 'm124851': 8989, 'm478': 8990, 'm806': 8991, 'm1114': 8992, 'm1426': 8993, 'm1794': 8994, 'm2281': 8995, 'm2292': 8996, 'm2339': 8997, 'm2586': 8998, 'm2698': 8999, 'm3379': 9000, 'm3571': 9001, 'm3669': 9002, 'm3700': 9003, 'm3709': 9004, 'm3962': 9005, 'm4197': 9006, 'm4240': 9007, 'm4394': 9008, 'm4490': 9009, 'm4504': 9010, 'm4511': 9011, 'm4568': 9012, 'm4574': 9013, 'm4593': 9014, 'm4594': 9015, 'm4597': 9016, 'm4603': 9017, 'm4670': 9018, 'm5053': 9019, 'm5054': 9020, 'm5096': 9021, 'm5111': 9022, 'm5136': 9023, 'm5198': 9024, 'm5221': 9025, 'm5268': 9026, 'm5442': 9027, 'm5591': 9028, 'm5596': 9029, 'm5597': 9030, 'm5689': 9031, 'm5768': 9032, 'm5961': 9033, 'm6204': 9034, 'm6267': 9035, 'm6310': 9036, 'm6506': 9037, 'm6557': 9038, 'm6587': 9039, 'm6691': 9040, 'm6722': 9041, 'm6734': 9042, 'm6804': 9043, 'm6860': 9044, 'm6882': 9045, 'm6998': 9046, 'm7005': 9047, 'm7041': 9048, 'm7047': 9049, 'm7108': 9050, 'm7125': 9051, 'm7191': 9052, 'm7307': 9053, 'm7443': 9054, 'm7657': 9055, 'm7704': 9056, 'm7707': 9057, 'm7986': 9058, 'm7988': 9059, 'm8043': 9060, 'm8045': 9061, 'm8380': 9062, 'm8425': 9063, 'm8500': 9064, 'm8720': 9065, 'm8755': 9066, 'm8905': 9067, 'm8934': 9068, 'm9004': 9069, 'm26142': 9070, 'm26159': 9071, 'm26176': 9072, 'm26195': 9073, 'm26283': 9074, 'm26285': 9075, 'm26344': 9076, 'm26365': 9077, 'm26413': 9078, 'm26453': 9079, 'm26467': 9080, 'm26510': 9081, 'm26539': 9082, 'm26542': 9083, 'm26547': 9084, 'm26562': 9085, 'm26567': 9086, 'm26590': 9087, 'm26593': 9088, 'm26612': 9089, 'm26622': 9090, 'm26630': 9091, 'm26676': 9092, 'm26696': 9093, 'm26701': 9094, 'm26726': 9095, 'm26741': 9096, 'm26745': 9097, 'm26782': 9098, 'm26797': 9099, 'm26828': 9100, 'm26854': 9101, 'm26861': 9102, 'm26913': 9103, 'm26940': 9104, 'm26947': 9105, 'm27002': 9106, 'm27008': 9107, 'm27032': 9108, 'm27074': 9109, 'm27105': 9110, 'm27124': 9111, 'm27155': 9112, 'm27306': 9113, 'm27420': 9114, 'm27441': 9115, 'm27549': 9116, 'm27595': 9117, 'm27722': 9118, 'm27762': 9119, 'm27769': 9120, 'm27784': 9121, 'm27829': 9122, 'm31367': 9123, 'm31553': 9124, 'm31664': 9125, 'm31921': 9126, 'm32058': 9127, 'm32440': 9128, 'm32442': 9129, 'm32515': 9130, 'm33126': 9131, 'm33294': 9132, 'm33435': 9133, 'm33629': 9134, 'm33801': 9135, 'm33966': 9136, 'm34292': 9137, 'm34800': 9138, 'm34811': 9139, 'm36850': 9140, 'm39801': 9141, 'm40578': 9142, 'm41627': 9143, 'm42559': 9144, 'm42638': 9145, 'm42943': 9146, 'm42946': 9147, 'm43419': 9148, 'm43677': 9149, 'm43908': 9150, 'm44238': 9151, 'm44241': 9152, 'm44243': 9153, 'm44849': 9154, 'm45183': 9155, 'm45648': 9156, 'm45969': 9157, 'm46367': 9158, 'm46574': 9159, 'm47721': 9160, 'm47793': 9161, 'm49110': 9162, 'm51545': 9163, 'm53022': 9164, 'm53143': 9165, 'm53161': 9166, 'm53450': 9167, 'm54274': 9168, 'm54908': 9169, 'm55036': 9170, 'm55061': 9171, 'm55205': 9172, 'm55207': 9173, 'm56022': 9174, 'm57499': 9175, 'm58306': 9176, 'm59016': 9177, 'm59336': 9178, 'm59947': 9179, 'm60365': 9180, 'm60803': 9181, 'm61073': 9182, 'm62662': 9183, 'm62970': 9184, 'm66915': 9185, 'm67193': 9186, 'm68552': 9187, 'm68650': 9188, 'm69131': 9189, 'm69227': 9190, 'm70703': 9191, 'm71327': 9192, 'm71484': 9193, 'm71550': 9194, 'm71810': 9195, 'm72479': 9196, 'm73569': 9197, 'm73808': 9198, 'm74095': 9199, 'm74696': 9200, 'm75416': 9201, 'm75947': 9202, 'm76030': 9203, 'm77201': 9204, 'm77709': 9205, 'm78959': 9206, 'm79895': 9207, 'm80083': 9208, 'm81791': 9209, 'm82534': 9210, 'm83086': 9211, 'm83796': 9212, 'm84523': 9213, 'm85438': 9214, 'm86286': 9215, 'm86355': 9216, 'm86864': 9217, 'm86898': 9218, 'm87197': 9219, 'm87960': 9220, 'm88593': 9221, 'm88697': 9222, 'm89085': 9223, 'm89862': 9224, 'm90243': 9225, 'm90428': 9226, 'm90945': 9227, 'm91571': 9228, 'm91981': 9229, 'm92309': 9230, 'm92674': 9231, 'm93208': 9232, 'm93502': 9233, 'm94122': 9234, 'm95145': 9235, 'm95163': 9236, 'm95165': 9237, 'm95499': 9238, 'm95519': 9239, 'm95717': 9240, 'm95771': 9241, 'm95780': 9242, 'm95839': 9243, 'm95965': 9244, 'm97230': 9245, 'm97950': 9246, 'm98499': 9247, 'm98503': 9248, 'm98623': 9249, 'm98697': 9250, 'm98799': 9251, 'm99638': 9252, 'm101074': 9253, 'm101423': 9254, 'm102590': 9255, 'm102735': 9256, 'm102749': 9257, 'm102852': 9258, 'm103027': 9259, 'm103245': 9260, 'm103366': 9261, 'm103609': 9262, 'm104017': 9263, 'm104837': 9264, 'm105020': 9265, 'm105720': 9266, 'm107999': 9267, 'm108090': 9268, 'm108192': 9269, 'm110541': 9270, 'm111785': 9271, 'm112326': 9272, 'm113849': 9273, 'm114126': 9274, 'm115819': 9275, 'm116044': 9276, 'm116169': 9277, 'm116941': 9278, 'm116963': 9279, 'm117630': 9280, 'm118290': 9281, 'm119218': 9282, 'm119828': 9283, 'm120827': 9284, 'm121035': 9285, 'm122260': 9286, 'm122433': 9287, 'm122627': 9288, 'm123310': 9289, 'm128197': 9290, 'm128736': 9291, 'm129779': 9292, 'm131578': 9293, 'm132084': 9294, 'm132362': 9295, 'm135787': 9296, 'm136012': 9297, 'm136297': 9298, 'm137218': 9299, 'm137345': 9300, 'm137859': 9301, 'm138702': 9302, 'm139130': 9303, 'm139859': 9304, 'm140852': 9305, 'm144522': 9306, 'm145724': 9307, 'm145745': 9308, 'm151479': 9309, 'm151781': 9310, 'm153236': 9311, 'm156675': 9312, 'm157865': 9313, 'm158388': 9314, 'm158874': 9315, 'm159061': 9316, 'm159403': 9317, 'm160978': 9318, 'm161008': 9319, 'm161032': 9320, 'm161044': 9321, 'm163809': 9322, 'm165529': 9323, 'm167706': 9324, 'm168608': 9325, 'm169670': 9326, 'm169904': 9327, 'm169958': 9328, 'm170297': 9329, 'm170551': 9330, 'm171695': 9331, 'm172229': 9332, 'm172233': 9333, 'm172253': 9334, 'm173873': 9335, 'm174727': 9336, 'm178129': 9337, 'm179053': 9338, 'm181315': 9339, 'm183301': 9340, 'm2800': 9341, 'm25905': 9342, 'm25923': 9343, 'm25947': 9344, 'm46664': 9345, 'm59131': 9346, 'm141846': 9347, 'm77': 9348, 'm108': 9349, 'm149': 9350, 'm184': 9351, 'm301': 9352, 'm320': 9353, 'm495': 9354, 'm506': 9355, 'm526': 9356, 'm602': 9357, 'm645': 9358, 'm649': 9359, 'm803': 9360, 'm1053': 9361, 'm1119': 9362, 'm1310': 9363, 'm1349': 9364, 'm1475': 9365, 'm1514': 9366, 'm1549': 9367, 'm1585': 9368, 'm1612': 9369, 'm1613': 9370, 'm1759': 9371, 'm2008': 9372, 'm2104': 9373, 'm2283': 9374, 'm2304': 9375, 'm2417': 9376, 'm2435': 9377, 'm2512': 9378, 'm2544': 9379, 'm2577': 9380, 'm2609': 9381, 'm2620': 9382, 'm2725': 9383, 'm2727': 9384, 'm2813': 9385, 'm2865': 9386, 'm2885': 9387, 'm2892': 9388, 'm2972': 9389, 'm3002': 9390, 'm3183': 9391, 'm3303': 9392, 'm3344': 9393, 'm3374': 9394, 'm3459': 9395, 'm3514': 9396, 'm3531': 9397, 'm3586': 9398, 'm3637': 9399, 'm3655': 9400, 'm3792': 9401, 'm4420': 9402, 'm4428': 9403, 'm4436': 9404, 'm4690': 9405, 'm4695': 9406, 'm4705': 9407, 'm4766': 9408, 'm4786': 9409, 'm4810': 9410, 'm117': 9411, 'm220': 9412, 'm285': 9413, 'm311': 9414, 'm636': 9415, 'm1654': 9416, 'm27036': 9417, 'm35347': 9418, 'm47384': 9419, 'm54686': 9420, 'm65359': 9421, 'm66240': 9422, 'm71160': 9423, 'm72165': 9424, 'm72982': 9425, 'm202': 9426, 'm263': 9427, 'm563': 9428, 'm573': 9429, 'm579': 9430, 'm583': 9431, 'm632': 9432, 'm961': 9433, 'm1117': 9434, 'm1156': 9435, 'm1493': 9436, 'm1857': 9437, 'm2156': 9438, 'm2207': 9439, 'm2388': 9440, 'm2481': 9441, 'm2503': 9442, 'm2897': 9443, 'm3010': 9444, 'm3289': 9445, 'm3295': 9446, 'm3640': 9447, 'm3808': 9448, 'm3920': 9449, 'm4357': 9450, 'm4395': 9451, 'm4615': 9452, 'm4653': 9453, 'm4671': 9454, 'm4689': 9455, 'm4828': 9456, 'm4840': 9457, 'm4883': 9458, 'm5269': 9459, 'm5372': 9460, 'm5503': 9461, 'm5550': 9462, 'm5614': 9463, 'm5720': 9464, 'm5733': 9465, 'm5741': 9466, 'm5742': 9467, 'm5849': 9468, 'm5856': 9469, 'm5922': 9470, 'm5929': 9471, 'm5975': 9472, 'm5990': 9473, 'm6070': 9474, 'm6107': 9475, 'm6111': 9476, 'm6182': 9477, 'm6202': 9478, 'm6237': 9479, 'm6415': 9480, 'm6449': 9481, 'm6516': 9482, 'm6553': 9483, 'm6573': 9484, 'm6578': 9485, 'm6644': 9486, 'm6671': 9487, 'm6782': 9488, 'm6789': 9489, 'm6803': 9490, 'm6961': 9491, 'm6973': 9492, 'm7037': 9493, 'm7109': 9494, 'm7131': 9495, 'm7292': 9496, 'm7344': 9497, 'm7487': 9498, 'm7916': 9499, 'm8391': 9500, 'm8454': 9501, 'm8456': 9502, 'm8601': 9503, 'm8685': 9504, 'm8713': 9505, 'm8933': 9506, 'm8964': 9507, 'm25805': 9508, 'm25833': 9509, 'm25946': 9510, 'm26038': 9511, 'm26394': 9512, 'm26527': 9513, 'm26599': 9514, 'm26777': 9515, 'm26796': 9516, 'm26875': 9517, 'm26985': 9518, 'm27178': 9519, 'm27255': 9520, 'm27627': 9521, 'm27644': 9522, 'm27744': 9523, 'm30890': 9524, 'm30994': 9525, 'm31309': 9526, 'm31973': 9527, 'm32234': 9528, 'm32600': 9529, 'm32620': 9530, 'm32649': 9531, 'm32728': 9532, 'm32862': 9533, 'm33237': 9534, 'm33310': 9535, 'm41014': 9536, 'm44189': 9537, 'm44301': 9538, 'm47202': 9539, 'm47538': 9540, 'm47774': 9541, 'm48032': 9542, 'm48214': 9543, 'm50354': 9544, 'm50356': 9545, 'm51314': 9546, 'm55805': 9547, 'm56333': 9548, 'm58783': 9549, 'm68480': 9550, 'm68872': 9551, 'm69224': 9552, 'm72603': 9553, 'm241': 9554, 'm2737': 9555, 'm5901': 9556, 'm7377': 9557, 'm8667': 9558, 'm32302': 9559, 'm51903': 9560, 'm137': 9561, 'm1054': 9562, 'm3945': 9563, 'm4497': 9564, 'm5275': 9565, 'm5953': 9566, 'm6009': 9567, 'm6095': 9568, 'm7202': 9569, 'm7562': 9570, 'm7984': 9571, 'm8840': 9572, 'm26169': 9573, 'm26391': 9574, 'm26399': 9575, 'm26401': 9576, 'm26498': 9577, 'm26603': 9578, 'm27426': 9579, 'm27480': 9580, 'm27491': 9581, 'm27746': 9582, 'm27778': 9583, 'm27905': 9584, 'm31086': 9585, 'm34450': 9586, 'm36931': 9587, 'm41712': 9588, 'm43289': 9589, 'm44597': 9590, 'm47937': 9591, 'm48150': 9592, 'm51666': 9593, 'm52831': 9594, 'm54910': 9595, 'm55067': 9596, 'm55492': 9597, 'm56620': 9598, 'm57421': 9599, 'm57637': 9600, 'm58826': 9601, 'm58964': 9602, 'm58975': 9603, 'm59915': 9604, 'm60303': 9605, 'm60471': 9606, 'm61262': 9607, 'm61319': 9608, 'm61692': 9609, 'm61818': 9610, 'm63179': 9611, 'm63768': 9612, 'm63826': 9613, 'm64010': 9614, 'm66310': 9615, 'm67168': 9616, 'm70206': 9617, 'm70208': 9618, 'm71341': 9619, 'm71910': 9620, 'm72142': 9621, 'm72424': 9622, 'm73676': 9623, 'm73741': 9624, 'm73876': 9625, 'm74370': 9626, 'm75389': 9627, 'm76091': 9628, 'm77893': 9629, 'm77931': 9630, 'm78626': 9631, 'm79501': 9632, 'm79868': 9633, 'm80094': 9634, 'm80162': 9635, 'm81520': 9636, 'm82366': 9637, 'm82641': 9638, 'm82765': 9639, 'm88327': 9640, 'm89072': 9641, 'm89281': 9642, 'm89837': 9643, 'm91233': 9644, 'm93193': 9645, 'm93598': 9646, 'm93819': 9647, 'm94867': 9648, 'm96832': 9649, 'm97188': 9650, 'm97285': 9651, 'm97701': 9652, 'm97988': 9653, 'm98061': 9654, 'm98633': 9655, 'm99030': 9656, 'm99721': 9657, 'm100159': 9658, 'm100397': 9659, 'm100579': 9660, 'm100906': 9661, 'm102066': 9662, 'm102070': 9663, 'm102338': 9664, 'm102760': 9665, 'm102802': 9666, 'm103085': 9667, 'm103219': 9668, 'm103483': 9669, 'm103685': 9670, 'm105801': 9671, 'm107436': 9672, 'm107447': 9673, 'm107462': 9674, 'm107771': 9675, 'm110281': 9676, 'm110286': 9677, 'm110591': 9678, 'm110746': 9679, 'm111551': 9680, 'm112727': 9681, 'm113159': 9682, 'm113313': 9683, 'm113565': 9684, 'm113780': 9685, 'm113862': 9686, 'm114044': 9687, 'm114670': 9688, 'm114707': 9689, 'm115727': 9690, 'm117867': 9691, 'm118082': 9692, 'm128838': 9693, 'm129313': 9694, 'm130050': 9695, 'm130052': 9696, 'm130840': 9697, 'm133832': 9698, 'm135534': 9699, 'm135803': 9700, 'm135815': 9701, 'm138610': 9702, 'm138632': 9703, 'm139511': 9704, 'm139655': 9705, 'm140267': 9706, 'm141400': 9707, 'm141799': 9708, 'm142366': 9709, 'm142598': 9710, 'm145951': 9711, 'm146309': 9712, 'm147657': 9713, 'm147662': 9714, 'm148166': 9715, 'm149011': 9716, 'm152372': 9717, 'm158721': 9718, 'm160341': 9719, 'm160527': 9720, 'm160836': 9721, 'm163937': 9722, 'm163981': 9723})\n",
            "[3.26219512 0.77743902 1.53963415 ... 0.         0.         0.        ]\n"
          ]
        }
      ],
      "source": [
        "print(avg_item_ratings)\n",
        "print(iid_map)\n",
        "print(a_scores)"
      ]
    },
    {
      "cell_type": "markdown",
      "metadata": {
        "id": "4aCiYTWaeobQ"
      },
      "source": [
        "### Implicit Recommendation\n",
        "\n",
        "This part uses a music dataset from [Last.fm](https://www.last.fm/) -- a Spotify-like music streaming service -- that was obtained by a researcher at Pompeu Fabra University (Barcelona, Spain). The relevant citation is:\n",
        "\n",
        "```\n",
        "  @book{Celma:Springer2010,\n",
        "      \tauthor = {Celma, O.},\n",
        "      \ttitle = {{Music Recommendation and Discovery in the Long Tail}},\n",
        "       \tpublisher = {Springer},\n",
        "       \tyear = {2010}\n",
        "      }\n",
        " ```\n",
        "\n",
        "You can have more information about the dataset at [this link](http://ocelma.net/MusicRecommendationDataset/lastfm-1K.html)."
      ]
    },
    {
      "cell_type": "markdown",
      "metadata": {
        "id": "jsDavoa3qC64"
      },
      "source": [
        "## Dataset preparation\n",
        "\n",
        "The full Last.fm dataset is 2.4GB uncompressed. So we focus on a sample with 200k listens."
      ]
    },
    {
      "cell_type": "code",
      "execution_count": 40,
      "metadata": {
        "id": "9FCrsO425d4N"
      },
      "outputs": [],
      "source": [
        "listens_df = pd.read_csv(\"https://www.dcs.gla.ac.uk/~craigm/recsysH/lastfm-200ksample-listens_df.csv.gz\")"
      ]
    },
    {
      "cell_type": "markdown",
      "metadata": {
        "id": "GZSwFnZSgrNU"
      },
      "source": [
        "\n",
        "Let's look at the dataset. Note that the we don't have any explicit ratings by the users. We just know what they interacted with (and when)."
      ]
    },
    {
      "cell_type": "code",
      "execution_count": 41,
      "metadata": {
        "colab": {
          "base_uri": "https://localhost:8080/",
          "height": 486
        },
        "id": "HAP3dPt-4KMi",
        "outputId": "288df4e8-1445-4846-adef-b28a43aaa975"
      },
      "outputs": [
        {
          "output_type": "execute_result",
          "data": {
            "text/plain": [
              "          user             timestamp                              artistid  \\\n",
              "0  user_000593  2007-05-14T18:49:03Z  ad996aef-cc1c-42ac-af5c-619c370f4b8a   \n",
              "1  user_000093  2008-08-18T22:04:59Z  8c538f11-c141-4588-8ecb-931083524186   \n",
              "2  user_000594  2008-04-06T10:57:45Z  65f4f0c5-ef9e-490c-aee3-909e7ae6b2ab   \n",
              "3  user_000651  2008-05-10T07:14:45Z  3ca09fae-fdee-4771-bab9-244708515a98   \n",
              "4  user_000137  2009-03-11T23:17:22Z  af84ee9f-534a-4f7f-844b-188ba1c47e87   \n",
              "\n",
              "                   artist                               trackid  \\\n",
              "0  Emerson, Lake & Palmer                                   NaN   \n",
              "1              Bloc Party  315a301e-e764-4adf-91c6-e90a22320106   \n",
              "2               Metallica  683c89fe-2be8-4ed2-8e58-68b2343cb8d5   \n",
              "3                 Omarion                                   NaN   \n",
              "4           Los Rodríguez  76b83f07-3763-4c17-8d24-28040d85354a   \n",
              "\n",
              "                                          trackname  \n",
              "0             Three Fates (Clotho/Lachesis/Atropos)  \n",
              "1                                  Positive Tension  \n",
              "2                                 Through The Never  \n",
              "3  Ice Box [Orangefuzzz Weather Advisory Radio Mix]  \n",
              "4                                     Dulce Condena  "
            ],
            "text/html": [
              "\n",
              "  <div id=\"df-29171c68-a2bc-461c-82da-5cd6bcf57bd1\" class=\"colab-df-container\">\n",
              "    <div>\n",
              "<style scoped>\n",
              "    .dataframe tbody tr th:only-of-type {\n",
              "        vertical-align: middle;\n",
              "    }\n",
              "\n",
              "    .dataframe tbody tr th {\n",
              "        vertical-align: top;\n",
              "    }\n",
              "\n",
              "    .dataframe thead th {\n",
              "        text-align: right;\n",
              "    }\n",
              "</style>\n",
              "<table border=\"1\" class=\"dataframe\">\n",
              "  <thead>\n",
              "    <tr style=\"text-align: right;\">\n",
              "      <th></th>\n",
              "      <th>user</th>\n",
              "      <th>timestamp</th>\n",
              "      <th>artistid</th>\n",
              "      <th>artist</th>\n",
              "      <th>trackid</th>\n",
              "      <th>trackname</th>\n",
              "    </tr>\n",
              "  </thead>\n",
              "  <tbody>\n",
              "    <tr>\n",
              "      <th>0</th>\n",
              "      <td>user_000593</td>\n",
              "      <td>2007-05-14T18:49:03Z</td>\n",
              "      <td>ad996aef-cc1c-42ac-af5c-619c370f4b8a</td>\n",
              "      <td>Emerson, Lake &amp; Palmer</td>\n",
              "      <td>NaN</td>\n",
              "      <td>Three Fates (Clotho/Lachesis/Atropos)</td>\n",
              "    </tr>\n",
              "    <tr>\n",
              "      <th>1</th>\n",
              "      <td>user_000093</td>\n",
              "      <td>2008-08-18T22:04:59Z</td>\n",
              "      <td>8c538f11-c141-4588-8ecb-931083524186</td>\n",
              "      <td>Bloc Party</td>\n",
              "      <td>315a301e-e764-4adf-91c6-e90a22320106</td>\n",
              "      <td>Positive Tension</td>\n",
              "    </tr>\n",
              "    <tr>\n",
              "      <th>2</th>\n",
              "      <td>user_000594</td>\n",
              "      <td>2008-04-06T10:57:45Z</td>\n",
              "      <td>65f4f0c5-ef9e-490c-aee3-909e7ae6b2ab</td>\n",
              "      <td>Metallica</td>\n",
              "      <td>683c89fe-2be8-4ed2-8e58-68b2343cb8d5</td>\n",
              "      <td>Through The Never</td>\n",
              "    </tr>\n",
              "    <tr>\n",
              "      <th>3</th>\n",
              "      <td>user_000651</td>\n",
              "      <td>2008-05-10T07:14:45Z</td>\n",
              "      <td>3ca09fae-fdee-4771-bab9-244708515a98</td>\n",
              "      <td>Omarion</td>\n",
              "      <td>NaN</td>\n",
              "      <td>Ice Box [Orangefuzzz Weather Advisory Radio Mix]</td>\n",
              "    </tr>\n",
              "    <tr>\n",
              "      <th>4</th>\n",
              "      <td>user_000137</td>\n",
              "      <td>2009-03-11T23:17:22Z</td>\n",
              "      <td>af84ee9f-534a-4f7f-844b-188ba1c47e87</td>\n",
              "      <td>Los Rodríguez</td>\n",
              "      <td>76b83f07-3763-4c17-8d24-28040d85354a</td>\n",
              "      <td>Dulce Condena</td>\n",
              "    </tr>\n",
              "  </tbody>\n",
              "</table>\n",
              "</div>\n",
              "    <div class=\"colab-df-buttons\">\n",
              "\n",
              "  <div class=\"colab-df-container\">\n",
              "    <button class=\"colab-df-convert\" onclick=\"convertToInteractive('df-29171c68-a2bc-461c-82da-5cd6bcf57bd1')\"\n",
              "            title=\"Convert this dataframe to an interactive table.\"\n",
              "            style=\"display:none;\">\n",
              "\n",
              "  <svg xmlns=\"http://www.w3.org/2000/svg\" height=\"24px\" viewBox=\"0 -960 960 960\">\n",
              "    <path d=\"M120-120v-720h720v720H120Zm60-500h600v-160H180v160Zm220 220h160v-160H400v160Zm0 220h160v-160H400v160ZM180-400h160v-160H180v160Zm440 0h160v-160H620v160ZM180-180h160v-160H180v160Zm440 0h160v-160H620v160Z\"/>\n",
              "  </svg>\n",
              "    </button>\n",
              "\n",
              "  <style>\n",
              "    .colab-df-container {\n",
              "      display:flex;\n",
              "      gap: 12px;\n",
              "    }\n",
              "\n",
              "    .colab-df-convert {\n",
              "      background-color: #E8F0FE;\n",
              "      border: none;\n",
              "      border-radius: 50%;\n",
              "      cursor: pointer;\n",
              "      display: none;\n",
              "      fill: #1967D2;\n",
              "      height: 32px;\n",
              "      padding: 0 0 0 0;\n",
              "      width: 32px;\n",
              "    }\n",
              "\n",
              "    .colab-df-convert:hover {\n",
              "      background-color: #E2EBFA;\n",
              "      box-shadow: 0px 1px 2px rgba(60, 64, 67, 0.3), 0px 1px 3px 1px rgba(60, 64, 67, 0.15);\n",
              "      fill: #174EA6;\n",
              "    }\n",
              "\n",
              "    .colab-df-buttons div {\n",
              "      margin-bottom: 4px;\n",
              "    }\n",
              "\n",
              "    [theme=dark] .colab-df-convert {\n",
              "      background-color: #3B4455;\n",
              "      fill: #D2E3FC;\n",
              "    }\n",
              "\n",
              "    [theme=dark] .colab-df-convert:hover {\n",
              "      background-color: #434B5C;\n",
              "      box-shadow: 0px 1px 3px 1px rgba(0, 0, 0, 0.15);\n",
              "      filter: drop-shadow(0px 1px 2px rgba(0, 0, 0, 0.3));\n",
              "      fill: #FFFFFF;\n",
              "    }\n",
              "  </style>\n",
              "\n",
              "    <script>\n",
              "      const buttonEl =\n",
              "        document.querySelector('#df-29171c68-a2bc-461c-82da-5cd6bcf57bd1 button.colab-df-convert');\n",
              "      buttonEl.style.display =\n",
              "        google.colab.kernel.accessAllowed ? 'block' : 'none';\n",
              "\n",
              "      async function convertToInteractive(key) {\n",
              "        const element = document.querySelector('#df-29171c68-a2bc-461c-82da-5cd6bcf57bd1');\n",
              "        const dataTable =\n",
              "          await google.colab.kernel.invokeFunction('convertToInteractive',\n",
              "                                                    [key], {});\n",
              "        if (!dataTable) return;\n",
              "\n",
              "        const docLinkHtml = 'Like what you see? Visit the ' +\n",
              "          '<a target=\"_blank\" href=https://colab.research.google.com/notebooks/data_table.ipynb>data table notebook</a>'\n",
              "          + ' to learn more about interactive tables.';\n",
              "        element.innerHTML = '';\n",
              "        dataTable['output_type'] = 'display_data';\n",
              "        await google.colab.output.renderOutput(dataTable, element);\n",
              "        const docLink = document.createElement('div');\n",
              "        docLink.innerHTML = docLinkHtml;\n",
              "        element.appendChild(docLink);\n",
              "      }\n",
              "    </script>\n",
              "  </div>\n",
              "\n",
              "\n",
              "<div id=\"df-4c472f3a-727d-4d95-a573-620a75ef7549\">\n",
              "  <button class=\"colab-df-quickchart\" onclick=\"quickchart('df-4c472f3a-727d-4d95-a573-620a75ef7549')\"\n",
              "            title=\"Suggest charts\"\n",
              "            style=\"display:none;\">\n",
              "\n",
              "<svg xmlns=\"http://www.w3.org/2000/svg\" height=\"24px\"viewBox=\"0 0 24 24\"\n",
              "     width=\"24px\">\n",
              "    <g>\n",
              "        <path d=\"M19 3H5c-1.1 0-2 .9-2 2v14c0 1.1.9 2 2 2h14c1.1 0 2-.9 2-2V5c0-1.1-.9-2-2-2zM9 17H7v-7h2v7zm4 0h-2V7h2v10zm4 0h-2v-4h2v4z\"/>\n",
              "    </g>\n",
              "</svg>\n",
              "  </button>\n",
              "\n",
              "<style>\n",
              "  .colab-df-quickchart {\n",
              "      --bg-color: #E8F0FE;\n",
              "      --fill-color: #1967D2;\n",
              "      --hover-bg-color: #E2EBFA;\n",
              "      --hover-fill-color: #174EA6;\n",
              "      --disabled-fill-color: #AAA;\n",
              "      --disabled-bg-color: #DDD;\n",
              "  }\n",
              "\n",
              "  [theme=dark] .colab-df-quickchart {\n",
              "      --bg-color: #3B4455;\n",
              "      --fill-color: #D2E3FC;\n",
              "      --hover-bg-color: #434B5C;\n",
              "      --hover-fill-color: #FFFFFF;\n",
              "      --disabled-bg-color: #3B4455;\n",
              "      --disabled-fill-color: #666;\n",
              "  }\n",
              "\n",
              "  .colab-df-quickchart {\n",
              "    background-color: var(--bg-color);\n",
              "    border: none;\n",
              "    border-radius: 50%;\n",
              "    cursor: pointer;\n",
              "    display: none;\n",
              "    fill: var(--fill-color);\n",
              "    height: 32px;\n",
              "    padding: 0;\n",
              "    width: 32px;\n",
              "  }\n",
              "\n",
              "  .colab-df-quickchart:hover {\n",
              "    background-color: var(--hover-bg-color);\n",
              "    box-shadow: 0 1px 2px rgba(60, 64, 67, 0.3), 0 1px 3px 1px rgba(60, 64, 67, 0.15);\n",
              "    fill: var(--button-hover-fill-color);\n",
              "  }\n",
              "\n",
              "  .colab-df-quickchart-complete:disabled,\n",
              "  .colab-df-quickchart-complete:disabled:hover {\n",
              "    background-color: var(--disabled-bg-color);\n",
              "    fill: var(--disabled-fill-color);\n",
              "    box-shadow: none;\n",
              "  }\n",
              "\n",
              "  .colab-df-spinner {\n",
              "    border: 2px solid var(--fill-color);\n",
              "    border-color: transparent;\n",
              "    border-bottom-color: var(--fill-color);\n",
              "    animation:\n",
              "      spin 1s steps(1) infinite;\n",
              "  }\n",
              "\n",
              "  @keyframes spin {\n",
              "    0% {\n",
              "      border-color: transparent;\n",
              "      border-bottom-color: var(--fill-color);\n",
              "      border-left-color: var(--fill-color);\n",
              "    }\n",
              "    20% {\n",
              "      border-color: transparent;\n",
              "      border-left-color: var(--fill-color);\n",
              "      border-top-color: var(--fill-color);\n",
              "    }\n",
              "    30% {\n",
              "      border-color: transparent;\n",
              "      border-left-color: var(--fill-color);\n",
              "      border-top-color: var(--fill-color);\n",
              "      border-right-color: var(--fill-color);\n",
              "    }\n",
              "    40% {\n",
              "      border-color: transparent;\n",
              "      border-right-color: var(--fill-color);\n",
              "      border-top-color: var(--fill-color);\n",
              "    }\n",
              "    60% {\n",
              "      border-color: transparent;\n",
              "      border-right-color: var(--fill-color);\n",
              "    }\n",
              "    80% {\n",
              "      border-color: transparent;\n",
              "      border-right-color: var(--fill-color);\n",
              "      border-bottom-color: var(--fill-color);\n",
              "    }\n",
              "    90% {\n",
              "      border-color: transparent;\n",
              "      border-bottom-color: var(--fill-color);\n",
              "    }\n",
              "  }\n",
              "</style>\n",
              "\n",
              "  <script>\n",
              "    async function quickchart(key) {\n",
              "      const quickchartButtonEl =\n",
              "        document.querySelector('#' + key + ' button');\n",
              "      quickchartButtonEl.disabled = true;  // To prevent multiple clicks.\n",
              "      quickchartButtonEl.classList.add('colab-df-spinner');\n",
              "      try {\n",
              "        const charts = await google.colab.kernel.invokeFunction(\n",
              "            'suggestCharts', [key], {});\n",
              "      } catch (error) {\n",
              "        console.error('Error during call to suggestCharts:', error);\n",
              "      }\n",
              "      quickchartButtonEl.classList.remove('colab-df-spinner');\n",
              "      quickchartButtonEl.classList.add('colab-df-quickchart-complete');\n",
              "    }\n",
              "    (() => {\n",
              "      let quickchartButtonEl =\n",
              "        document.querySelector('#df-4c472f3a-727d-4d95-a573-620a75ef7549 button');\n",
              "      quickchartButtonEl.style.display =\n",
              "        google.colab.kernel.accessAllowed ? 'block' : 'none';\n",
              "    })();\n",
              "  </script>\n",
              "</div>\n",
              "    </div>\n",
              "  </div>\n"
            ],
            "application/vnd.google.colaboratory.intrinsic+json": {
              "type": "dataframe",
              "variable_name": "listens_df"
            }
          },
          "metadata": {},
          "execution_count": 41
        }
      ],
      "source": [
        "listens_df.head()"
      ]
    },
    {
      "cell_type": "markdown",
      "metadata": {
        "id": "MLGzG9Rig3E6"
      },
      "source": [
        "## An implicit recommendation approach\n",
        "\n",
        "Let's move away from explicit recommendation to implicit.\n",
        "\n",
        "We will continue using the [Spotlight](https://github.com/maciejkula/spotlight/) toolkit for our recommender."
      ]
    },
    {
      "cell_type": "markdown",
      "metadata": {
        "id": "U03zZ6CH---1"
      },
      "source": [
        "We can construct [Interaction](https://maciejkula.github.io/spotlight/interactions.html) objects for Spotlight in the same way as before. The only difference is that this time we do not record the user's ratings.\n"
      ]
    },
    {
      "cell_type": "code",
      "execution_count": 42,
      "metadata": {
        "colab": {
          "base_uri": "https://localhost:8080/"
        },
        "id": "jcRhNWXzg7LT",
        "outputId": "b93bc1cf-556e-46cc-d039-9b042ebfa2c9"
      },
      "outputs": [
        {
          "output_type": "stream",
          "name": "stdout",
          "text": [
            "<Interactions dataset (973 users x 125076 items x 200000 interactions)>\n",
            "\n"
          ]
        }
      ],
      "source": [
        "from collections import defaultdict\n",
        "from itertools import count\n",
        "\n",
        "#we cant trust the musicbrainz ids to exist, so lets build items ids based on artist & trackname attributes\n",
        "LFMiid_map = defaultdict(count().__next__)\n",
        "LFMiids = np.array([LFMiid_map[str(artist)+\"/\"+str(trackname)] for artist,trackname in listens_df[[\"artist\",\"trackname\"]].values ], dtype=np.int32)\n",
        "\n",
        "LFMuid_map = defaultdict(count().__next__)\n",
        "LFMuids = np.array([LFMuid_map[uid] for uid in listens_df[\"user\"].values ], dtype=np.int32)\n",
        "#freeze uid_map and iid_map so no more mapping are created\n",
        "LFMuid_map.default_factory = None\n",
        "LFMiid_map.default_factory = None\n",
        "\n",
        "LFMuid_rev_map = {v: k for k, v in LFMuid_map.items()}\n",
        "LFMiid_rev_map = {v: k for k, v in LFMiid_map.items()}\n",
        "\n",
        "from spotlight.interactions import Interactions\n",
        "from spotlight.cross_validation import random_train_test_split\n",
        "\n",
        "#NB: we will set num_users and num_items here - its a good practice.\n",
        "imp_dataset = Interactions(user_ids=LFMuids, item_ids=LFMiids, num_users=len(LFMuid_map), num_items=len(LFMiid_map))\n",
        "#we could add the timestamps here if we were doing sequence recommendation\n",
        "\n",
        "#what have we got.\n",
        "print(imp_dataset)\n",
        "print()"
      ]
    },
    {
      "cell_type": "code",
      "execution_count": 43,
      "metadata": {
        "colab": {
          "base_uri": "https://localhost:8080/"
        },
        "id": "22dmr7JKqUnz",
        "outputId": "54df59cf-5eb7-4d73-e860-de2d162774ff"
      },
      "outputs": [
        {
          "output_type": "stream",
          "name": "stdout",
          "text": [
            "<Interactions dataset (973 users x 125076 items x 160000 interactions)>\n",
            "<Interactions dataset (973 users x 125076 items x 40000 interactions)>\n"
          ]
        }
      ],
      "source": [
        "from spotlight.cross_validation import random_train_test_split\n",
        "\n",
        "itrain, itest = random_train_test_split(imp_dataset, random_state=np.random.RandomState(SEED))\n",
        "print(itrain)\n",
        "print(itest)"
      ]
    },
    {
      "cell_type": "markdown",
      "metadata": {
        "id": "EFQazPPxhG2_"
      },
      "source": [
        "Let's run Spotlight's impllicit Matrix Factorisation on this dataset. Here, we use a *pointwise* loss, which just tries to predict whether the user will like the item or not. It does not use the BPR loss function ."
      ]
    },
    {
      "cell_type": "code",
      "execution_count": 44,
      "metadata": {
        "colab": {
          "base_uri": "https://localhost:8080/"
        },
        "id": "co3ZwYgkhKvq",
        "outputId": "858e6ff4-aa8d-4ca2-f872-b4541a14d2ef"
      },
      "outputs": [
        {
          "output_type": "stream",
          "name": "stdout",
          "text": [
            "Epoch 0: loss 0.9663112604141235\n",
            "Epoch 1: loss 0.4953250312805176\n",
            "Epoch 2: loss 0.1903692701101303\n",
            "Epoch 3: loss 0.11518943915367126\n",
            "Epoch 4: loss 0.08347183756828308\n",
            "Training took 124 seconds\n"
          ]
        }
      ],
      "source": [
        "from spotlight.factorization.implicit import ImplicitFactorizationModel\n",
        "import time\n",
        "\n",
        "imodel = ImplicitFactorizationModel(n_iter=5,\n",
        "                                    embedding_dim=32, #this is Spotlight default\n",
        "                                    use_cuda=False,\n",
        "                                    random_state=np.random.RandomState(SEED) # ensure results are repeatable\n",
        ")\n",
        "current = time.time()\n",
        "\n",
        "imodel.fit(itrain, verbose=True)\n",
        "end = time.time()\n",
        "diff = end - current\n",
        "print(\"Training took %d seconds\" % (diff))"
      ]
    },
    {
      "cell_type": "markdown",
      "metadata": {
        "id": "zso4C5wehLog"
      },
      "source": [
        "Again, we can look at the predictions. We make a prediction (a score ) for ALL items for user uid 0. Note that the scores vary in magnitude - indeed, we're not predicting a rating, we just need to have scores in order to rank the items in descending order."
      ]
    },
    {
      "cell_type": "code",
      "execution_count": 45,
      "metadata": {
        "colab": {
          "base_uri": "https://localhost:8080/"
        },
        "id": "AR_qbWXEhUDB",
        "outputId": "87043b5e-fe5d-4743-e1a7-571b22f36d2d"
      },
      "outputs": [
        {
          "output_type": "stream",
          "name": "stdout",
          "text": [
            "[ -4.7577653   5.261051   -9.298162  ...  -9.027732  -11.657818\n",
            " -13.502151 ]\n",
            "125076\n"
          ]
        }
      ],
      "source": [
        "print(imodel.predict(0))\n",
        "print(len(imodel.predict(0)))"
      ]
    },
    {
      "cell_type": "markdown",
      "metadata": {
        "id": "iyZ3PyAxhdDF"
      },
      "source": [
        "Now that we have the scores of all items for a given user, we need to identify the top-scored ones, i.e. those that we would present to the user.\n",
        "\n",
        "Track Analysis\n",
        "\n",
        "Function `tracksForUser(user)` identifies the artist name & track of the top K (e.g. K=4) items based on their prediction scores of `imodel` for a given user index index (i.e. 0.. 964)."
      ]
    },
    {
      "cell_type": "code",
      "execution_count": 46,
      "metadata": {
        "colab": {
          "base_uri": "https://localhost:8080/"
        },
        "id": "wBGdB7SOhcjp",
        "outputId": "4f06d46e-4e32-49ea-e1c7-bf95c6740c4e"
      },
      "outputs": [
        {
          "output_type": "stream",
          "name": "stdout",
          "text": [
            "['Evanescence/Sweet Sacrifice', 'Mgmt/Kids', 'The Killers/Bones', 'Nelly Furtado/Say It Right', 'Kings Of Leon/Use Somebody', 'Amy Winehouse/Back To Black', 'Red Hot Chili Peppers/The Zephyr Song', 'Radiohead/Fake Plastic Trees', 'Incubus/Drive', 'Him/The Funeral Of Hearts']\n"
          ]
        }
      ],
      "source": [
        "def tracksForUser(userId, k=4):\n",
        "  top_tracks = []\n",
        "\n",
        "  predictions = imodel.predict(userId)\n",
        "  top_predictions_indeces = np.argsort(predictions)[::-1][:k]\n",
        "\n",
        "  for i in top_predictions_indeces:\n",
        "    # track = (LFMiid_rev_map[i], listens_df.iloc[i-1][\"artist\"], listens_df.iloc[i][\"trackname\"])\n",
        "    top_tracks.append(LFMiid_rev_map[i])\n",
        "\n",
        "  print(top_tracks)\n",
        "\n",
        "\n",
        "# top 10 items for user uId = 4\n",
        "tracksForUser(4, 10)"
      ]
    },
    {
      "cell_type": "markdown",
      "metadata": {
        "id": "jWFSAuQ40p2Y"
      },
      "source": [
        "### Artist Analysis\n",
        "\n",
        "We look at the artists actually listened to by uid 4, and compare/contrast with the predictions of the recommender. It's useful to examine how many times each artist was listened to.\n"
      ]
    },
    {
      "cell_type": "code",
      "execution_count": 47,
      "metadata": {
        "colab": {
          "base_uri": "https://localhost:8080/",
          "height": 223
        },
        "id": "rnNErTHP0u8G",
        "outputId": "4dea50e3-4283-4112-fc06-926c7640ec13"
      },
      "outputs": [
        {
          "output_type": "stream",
          "name": "stdout",
          "text": [
            "user_000137\n"
          ]
        },
        {
          "output_type": "execute_result",
          "data": {
            "text/plain": [
              "               artist  count\n",
              "119       Soda Stereo     39\n",
              "55     Gustavo Cerati     36\n",
              "104         Radiohead     31\n",
              "82           Lucybell     27\n",
              "114  Silvio Rodríguez     16"
            ],
            "text/html": [
              "\n",
              "  <div id=\"df-193e0b73-2dfb-436e-9b2f-cd51c09ef54b\" class=\"colab-df-container\">\n",
              "    <div>\n",
              "<style scoped>\n",
              "    .dataframe tbody tr th:only-of-type {\n",
              "        vertical-align: middle;\n",
              "    }\n",
              "\n",
              "    .dataframe tbody tr th {\n",
              "        vertical-align: top;\n",
              "    }\n",
              "\n",
              "    .dataframe thead th {\n",
              "        text-align: right;\n",
              "    }\n",
              "</style>\n",
              "<table border=\"1\" class=\"dataframe\">\n",
              "  <thead>\n",
              "    <tr style=\"text-align: right;\">\n",
              "      <th></th>\n",
              "      <th>artist</th>\n",
              "      <th>count</th>\n",
              "    </tr>\n",
              "  </thead>\n",
              "  <tbody>\n",
              "    <tr>\n",
              "      <th>119</th>\n",
              "      <td>Soda Stereo</td>\n",
              "      <td>39</td>\n",
              "    </tr>\n",
              "    <tr>\n",
              "      <th>55</th>\n",
              "      <td>Gustavo Cerati</td>\n",
              "      <td>36</td>\n",
              "    </tr>\n",
              "    <tr>\n",
              "      <th>104</th>\n",
              "      <td>Radiohead</td>\n",
              "      <td>31</td>\n",
              "    </tr>\n",
              "    <tr>\n",
              "      <th>82</th>\n",
              "      <td>Lucybell</td>\n",
              "      <td>27</td>\n",
              "    </tr>\n",
              "    <tr>\n",
              "      <th>114</th>\n",
              "      <td>Silvio Rodríguez</td>\n",
              "      <td>16</td>\n",
              "    </tr>\n",
              "  </tbody>\n",
              "</table>\n",
              "</div>\n",
              "    <div class=\"colab-df-buttons\">\n",
              "\n",
              "  <div class=\"colab-df-container\">\n",
              "    <button class=\"colab-df-convert\" onclick=\"convertToInteractive('df-193e0b73-2dfb-436e-9b2f-cd51c09ef54b')\"\n",
              "            title=\"Convert this dataframe to an interactive table.\"\n",
              "            style=\"display:none;\">\n",
              "\n",
              "  <svg xmlns=\"http://www.w3.org/2000/svg\" height=\"24px\" viewBox=\"0 -960 960 960\">\n",
              "    <path d=\"M120-120v-720h720v720H120Zm60-500h600v-160H180v160Zm220 220h160v-160H400v160Zm0 220h160v-160H400v160ZM180-400h160v-160H180v160Zm440 0h160v-160H620v160ZM180-180h160v-160H180v160Zm440 0h160v-160H620v160Z\"/>\n",
              "  </svg>\n",
              "    </button>\n",
              "\n",
              "  <style>\n",
              "    .colab-df-container {\n",
              "      display:flex;\n",
              "      gap: 12px;\n",
              "    }\n",
              "\n",
              "    .colab-df-convert {\n",
              "      background-color: #E8F0FE;\n",
              "      border: none;\n",
              "      border-radius: 50%;\n",
              "      cursor: pointer;\n",
              "      display: none;\n",
              "      fill: #1967D2;\n",
              "      height: 32px;\n",
              "      padding: 0 0 0 0;\n",
              "      width: 32px;\n",
              "    }\n",
              "\n",
              "    .colab-df-convert:hover {\n",
              "      background-color: #E2EBFA;\n",
              "      box-shadow: 0px 1px 2px rgba(60, 64, 67, 0.3), 0px 1px 3px 1px rgba(60, 64, 67, 0.15);\n",
              "      fill: #174EA6;\n",
              "    }\n",
              "\n",
              "    .colab-df-buttons div {\n",
              "      margin-bottom: 4px;\n",
              "    }\n",
              "\n",
              "    [theme=dark] .colab-df-convert {\n",
              "      background-color: #3B4455;\n",
              "      fill: #D2E3FC;\n",
              "    }\n",
              "\n",
              "    [theme=dark] .colab-df-convert:hover {\n",
              "      background-color: #434B5C;\n",
              "      box-shadow: 0px 1px 3px 1px rgba(0, 0, 0, 0.15);\n",
              "      filter: drop-shadow(0px 1px 2px rgba(0, 0, 0, 0.3));\n",
              "      fill: #FFFFFF;\n",
              "    }\n",
              "  </style>\n",
              "\n",
              "    <script>\n",
              "      const buttonEl =\n",
              "        document.querySelector('#df-193e0b73-2dfb-436e-9b2f-cd51c09ef54b button.colab-df-convert');\n",
              "      buttonEl.style.display =\n",
              "        google.colab.kernel.accessAllowed ? 'block' : 'none';\n",
              "\n",
              "      async function convertToInteractive(key) {\n",
              "        const element = document.querySelector('#df-193e0b73-2dfb-436e-9b2f-cd51c09ef54b');\n",
              "        const dataTable =\n",
              "          await google.colab.kernel.invokeFunction('convertToInteractive',\n",
              "                                                    [key], {});\n",
              "        if (!dataTable) return;\n",
              "\n",
              "        const docLinkHtml = 'Like what you see? Visit the ' +\n",
              "          '<a target=\"_blank\" href=https://colab.research.google.com/notebooks/data_table.ipynb>data table notebook</a>'\n",
              "          + ' to learn more about interactive tables.';\n",
              "        element.innerHTML = '';\n",
              "        dataTable['output_type'] = 'display_data';\n",
              "        await google.colab.output.renderOutput(dataTable, element);\n",
              "        const docLink = document.createElement('div');\n",
              "        docLink.innerHTML = docLinkHtml;\n",
              "        element.appendChild(docLink);\n",
              "      }\n",
              "    </script>\n",
              "  </div>\n",
              "\n",
              "\n",
              "<div id=\"df-f0dc1aa5-a418-4e34-82ff-aa7d02d9af2d\">\n",
              "  <button class=\"colab-df-quickchart\" onclick=\"quickchart('df-f0dc1aa5-a418-4e34-82ff-aa7d02d9af2d')\"\n",
              "            title=\"Suggest charts\"\n",
              "            style=\"display:none;\">\n",
              "\n",
              "<svg xmlns=\"http://www.w3.org/2000/svg\" height=\"24px\"viewBox=\"0 0 24 24\"\n",
              "     width=\"24px\">\n",
              "    <g>\n",
              "        <path d=\"M19 3H5c-1.1 0-2 .9-2 2v14c0 1.1.9 2 2 2h14c1.1 0 2-.9 2-2V5c0-1.1-.9-2-2-2zM9 17H7v-7h2v7zm4 0h-2V7h2v10zm4 0h-2v-4h2v4z\"/>\n",
              "    </g>\n",
              "</svg>\n",
              "  </button>\n",
              "\n",
              "<style>\n",
              "  .colab-df-quickchart {\n",
              "      --bg-color: #E8F0FE;\n",
              "      --fill-color: #1967D2;\n",
              "      --hover-bg-color: #E2EBFA;\n",
              "      --hover-fill-color: #174EA6;\n",
              "      --disabled-fill-color: #AAA;\n",
              "      --disabled-bg-color: #DDD;\n",
              "  }\n",
              "\n",
              "  [theme=dark] .colab-df-quickchart {\n",
              "      --bg-color: #3B4455;\n",
              "      --fill-color: #D2E3FC;\n",
              "      --hover-bg-color: #434B5C;\n",
              "      --hover-fill-color: #FFFFFF;\n",
              "      --disabled-bg-color: #3B4455;\n",
              "      --disabled-fill-color: #666;\n",
              "  }\n",
              "\n",
              "  .colab-df-quickchart {\n",
              "    background-color: var(--bg-color);\n",
              "    border: none;\n",
              "    border-radius: 50%;\n",
              "    cursor: pointer;\n",
              "    display: none;\n",
              "    fill: var(--fill-color);\n",
              "    height: 32px;\n",
              "    padding: 0;\n",
              "    width: 32px;\n",
              "  }\n",
              "\n",
              "  .colab-df-quickchart:hover {\n",
              "    background-color: var(--hover-bg-color);\n",
              "    box-shadow: 0 1px 2px rgba(60, 64, 67, 0.3), 0 1px 3px 1px rgba(60, 64, 67, 0.15);\n",
              "    fill: var(--button-hover-fill-color);\n",
              "  }\n",
              "\n",
              "  .colab-df-quickchart-complete:disabled,\n",
              "  .colab-df-quickchart-complete:disabled:hover {\n",
              "    background-color: var(--disabled-bg-color);\n",
              "    fill: var(--disabled-fill-color);\n",
              "    box-shadow: none;\n",
              "  }\n",
              "\n",
              "  .colab-df-spinner {\n",
              "    border: 2px solid var(--fill-color);\n",
              "    border-color: transparent;\n",
              "    border-bottom-color: var(--fill-color);\n",
              "    animation:\n",
              "      spin 1s steps(1) infinite;\n",
              "  }\n",
              "\n",
              "  @keyframes spin {\n",
              "    0% {\n",
              "      border-color: transparent;\n",
              "      border-bottom-color: var(--fill-color);\n",
              "      border-left-color: var(--fill-color);\n",
              "    }\n",
              "    20% {\n",
              "      border-color: transparent;\n",
              "      border-left-color: var(--fill-color);\n",
              "      border-top-color: var(--fill-color);\n",
              "    }\n",
              "    30% {\n",
              "      border-color: transparent;\n",
              "      border-left-color: var(--fill-color);\n",
              "      border-top-color: var(--fill-color);\n",
              "      border-right-color: var(--fill-color);\n",
              "    }\n",
              "    40% {\n",
              "      border-color: transparent;\n",
              "      border-right-color: var(--fill-color);\n",
              "      border-top-color: var(--fill-color);\n",
              "    }\n",
              "    60% {\n",
              "      border-color: transparent;\n",
              "      border-right-color: var(--fill-color);\n",
              "    }\n",
              "    80% {\n",
              "      border-color: transparent;\n",
              "      border-right-color: var(--fill-color);\n",
              "      border-bottom-color: var(--fill-color);\n",
              "    }\n",
              "    90% {\n",
              "      border-color: transparent;\n",
              "      border-bottom-color: var(--fill-color);\n",
              "    }\n",
              "  }\n",
              "</style>\n",
              "\n",
              "  <script>\n",
              "    async function quickchart(key) {\n",
              "      const quickchartButtonEl =\n",
              "        document.querySelector('#' + key + ' button');\n",
              "      quickchartButtonEl.disabled = true;  // To prevent multiple clicks.\n",
              "      quickchartButtonEl.classList.add('colab-df-spinner');\n",
              "      try {\n",
              "        const charts = await google.colab.kernel.invokeFunction(\n",
              "            'suggestCharts', [key], {});\n",
              "      } catch (error) {\n",
              "        console.error('Error during call to suggestCharts:', error);\n",
              "      }\n",
              "      quickchartButtonEl.classList.remove('colab-df-spinner');\n",
              "      quickchartButtonEl.classList.add('colab-df-quickchart-complete');\n",
              "    }\n",
              "    (() => {\n",
              "      let quickchartButtonEl =\n",
              "        document.querySelector('#df-f0dc1aa5-a418-4e34-82ff-aa7d02d9af2d button');\n",
              "      quickchartButtonEl.style.display =\n",
              "        google.colab.kernel.accessAllowed ? 'block' : 'none';\n",
              "    })();\n",
              "  </script>\n",
              "</div>\n",
              "    </div>\n",
              "  </div>\n"
            ],
            "application/vnd.google.colaboratory.intrinsic+json": {
              "type": "dataframe",
              "variable_name": "uid4_counts",
              "summary": "{\n  \"name\": \"uid4_counts\",\n  \"rows\": 146,\n  \"fields\": [\n    {\n      \"column\": \"artist\",\n      \"properties\": {\n        \"dtype\": \"string\",\n        \"num_unique_values\": 146,\n        \"samples\": [\n          \"Motel\",\n          \"Weezer\",\n          \"Queen\"\n        ],\n        \"semantic_type\": \"\",\n        \"description\": \"\"\n      }\n    },\n    {\n      \"column\": \"count\",\n      \"properties\": {\n        \"dtype\": \"number\",\n        \"std\": 5,\n        \"min\": 1,\n        \"max\": 39,\n        \"num_unique_values\": 17,\n        \"samples\": [\n          39,\n          36,\n          13\n        ],\n        \"semantic_type\": \"\",\n        \"description\": \"\"\n      }\n    }\n  ]\n}"
            }
          },
          "metadata": {},
          "execution_count": 47
        }
      ],
      "source": [
        "userId = LFMuid_rev_map[4]\n",
        "print(userId)\n",
        "\n",
        "uid4_counts = listens_df[listens_df['user'] == userId].groupby('artist')['trackname'].count().reset_index(name='count')\n",
        "uid4_counts = uid4_counts.sort_values(by=\"count\", ascending=False)\n",
        "\n",
        "uid4_counts.head()\n"
      ]
    },
    {
      "cell_type": "markdown",
      "metadata": {
        "id": "t2FWymqQRxKj"
      },
      "source": [
        "I observed that uid 4 listened frequently to \"Radiohead\" (rank 3), while a Radiohead song was among the top 10 ranked songs in our predicted model."
      ]
    },
    {
      "cell_type": "markdown",
      "metadata": {
        "id": "XmTNae6Romuk"
      },
      "source": [
        "## Evaluating an implicit recommender\n",
        "\n",
        "\n"
      ]
    },
    {
      "cell_type": "markdown",
      "metadata": {
        "id": "14Q2TTpZuHON"
      },
      "source": [
        "We can examine the MRR of the implicit model we have learned. We pass it the test set (which contains knowledge of what the user *actually* clicked), as our ground truth.\n",
        "\n",
        "In the second variant, we also pass the training data. Calculate MRR Score"
      ]
    },
    {
      "cell_type": "code",
      "execution_count": 48,
      "metadata": {
        "colab": {
          "base_uri": "https://localhost:8080/"
        },
        "id": "oLV71LSjt-k2",
        "outputId": "bbe378be-3c62-4851-febb-cc5d278540c5"
      },
      "outputs": [
        {
          "output_type": "stream",
          "name": "stdout",
          "text": [
            "Thu May 23 01:05:10 PM UTC 2024\n",
            "0.03720125940064275\n",
            "Thu May 23 01:05:43 PM UTC 2024\n",
            "0.008104536778740273\n",
            "Thu May 23 01:06:17 PM UTC 2024\n"
          ]
        }
      ],
      "source": [
        "from spotlight.evaluation import mrr_score\n",
        "\n",
        "#evaluate on this dataset takes approx 1 minute\n",
        "!date\n",
        "print(mrr_score(imodel, itest).mean())\n",
        "!date\n",
        "print(mrr_score(imodel, itest,  train=itrain).mean())\n",
        "!date\n"
      ]
    },
    {
      "cell_type": "markdown",
      "metadata": {
        "id": "LjM_kZNtAE2k"
      },
      "source": [
        "Interpret an MRR score - we know it has a range [0,1] with 1 being best. 1 means, on average across all users, we make a relevant prediction at rank 1; 0.5 means, on average, at rank 2. This is a very rough rule-of-thumb - MRR isn't a linear measure, so  a few poor predictions affect the average more than a few good ones.\n",
        "\n",
        "**More information:**\n",
        "\n",
        "rankdata() is a very useful function. Here's an example of its output:\n",
        "```python\n",
        ">>> rankdata([0, 2, 3, 2])\n",
        "array([1. , 2.5, 4. , 2.5])\n",
        "```\n",
        "\n",
        "It tells us the RANK of the number at each position. So the first element of the array (value 0) was the smallest, so is \"rank 1\"; the highest value gets \"rank 4\"; the other two values are tied, so they get equal ranks (2.5 is halfway between 2 & 3). We can adjust this tie-breaking behaviour using the `method=` kwarg.\n",
        "\n",
        "You can now answer all questions for Task 8."
      ]
    },
    {
      "cell_type": "markdown",
      "metadata": {
        "id": "hL2jRiGF2uLb"
      },
      "source": [
        "### Listens and Recommendations\n",
        "\n",
        "We now want to analyse how the recommender predictions differs from what it was trained on, to understand recommender performance\n",
        "\n",
        "We can see the models performance by using `mrr_score(imodel, itest)`.\n",
        "\n",
        "*   Pick the user with the lowest uid that has the highest RR. How many listens (ie. how many times they have listened to any song) did they have in the training dataset (as represented by `itrain`)?\n",
        "*   Similarly, pick the user with the lowest uid that had the lowest RR. How many listens did they have in the training dataset (`itrain`)?\n"
      ]
    },
    {
      "cell_type": "code",
      "execution_count": 49,
      "metadata": {
        "id": "B6H0l1S6nNcd"
      },
      "outputs": [],
      "source": [
        "scores = mrr_score(imodel, itest)\n",
        "\n",
        "#pick the user with the lowest uid that has the highest RR\n",
        "highest_score_i = scores.argmax()\n",
        "highest_score_user = LFMuid_rev_map[highest_score_i]\n",
        "num_listens_highest = len(itrain.user_ids[itrain.user_ids == highest_score_i])\n",
        "\n",
        "#pick the user with the lowest uid that had the lowest RR\n",
        "lowest_score_i = scores.argmin()\n",
        "lowest_score_user = LFMuid_rev_map[lowest_score_i]\n",
        "num_listens_lowest = len(itrain.user_ids[itrain.user_ids == lowest_score_i])\n",
        "\n",
        "# print(highest_score_user)\n",
        "# print(num_listens_highest)\n",
        "\n",
        "# print(lowest_score_user)\n",
        "# print(num_listens_lowest)\n",
        "\n",
        "useri_rr_1 = np.argmax(scores == 1)\n",
        "uid_rr_1 = LFMuid_rev_map[useri_rr_1]\n",
        "num_listens_1 = len(itrain.user_ids[itrain.user_ids == useri_rr_1])\n",
        "# print(uid_rr_1)\n",
        "# print(num_listens_1)\n",
        "\n",
        "useri_rr_0 = np.argmax(scores == 0)\n",
        "uid_rr_0 = LFMuid_rev_map[useri_rr_0]\n",
        "num_listens_0 = len(itrain.user_ids[itrain.user_ids == useri_rr_0])\n",
        "# print(uid_rr_0)\n",
        "# print(num_listens_0)\n"
      ]
    },
    {
      "cell_type": "markdown",
      "metadata": {
        "id": "anEhZSz9nPZt"
      },
      "source": [
        "Next, make a numpy array containing the number of listens for each uid in `itrain`. Plot a histogram of the distribution."
      ]
    },
    {
      "cell_type": "code",
      "execution_count": 50,
      "metadata": {
        "id": "zCI34-U48HHI",
        "colab": {
          "base_uri": "https://localhost:8080/",
          "height": 435
        },
        "outputId": "67238264-87d7-4d87-a084-22a4e6f887fa"
      },
      "outputs": [
        {
          "output_type": "display_data",
          "data": {
            "text/plain": [
              "<Figure size 1000x600 with 1 Axes>"
            ],
            "image/png": "[encoded data removed]"
          },
          "metadata": {}
        }
      ],
      "source": [
        "listen_counts = [len(itrain.user_ids[itrain.user_ids == uid]) for uid in range(len(LFMuid_rev_map))]\n",
        "\n",
        "#plotting a histogram of the distribution\n",
        "plt.figure(figsize=(10, 6))\n",
        "plt.hist(listen_counts, bins='auto', color='skyblue', log=True)\n",
        "plt.title('Distribution of listens per user in train set')\n",
        "plt.xlabel('Number of listens')\n",
        "plt.ylabel('Frequency')\n",
        "plt.grid(axis='y', linestyle='--', alpha=0.7)\n",
        "\n",
        "plt.savefig('listens_distribution.png')\n",
        "\n",
        "plt.show()"
      ]
    },
    {
      "cell_type": "markdown",
      "metadata": {
        "id": "5kjpISm3nwAy"
      },
      "source": [
        "Many users have very few listens. Lets set 20 listens as a threshold."
      ]
    },
    {
      "cell_type": "code",
      "execution_count": 59,
      "metadata": {
        "id": "4VRv-AAReGDs",
        "colab": {
          "base_uri": "https://localhost:8080/"
        },
        "outputId": "3d6002f9-4f5a-4327-f61d-8fcc6870260a"
      },
      "outputs": [
        {
          "output_type": "stream",
          "name": "stdout",
          "text": [
            "MRR for cold-start users: 0.0024\n",
            "MRR for all users: 0.0441\n"
          ]
        }
      ],
      "source": [
        "threshold = 20\n",
        "\n",
        "listen_counts = np.bincount(itrain.user_ids)\n",
        "\n",
        "# listen_counts = [len(itrain.user_ids[itrain.user_ids == uid]) for uid in range(len(LFMuid_rev_map))]\n",
        "# listen_counts = np.array(listen_counts)\n",
        "\n",
        "#evaluate the model for all users\n",
        "mrr_scores = mrr_score(imodel, itest)\n",
        "\n",
        "#filter indexes of cold start users and normal users\n",
        "cold_start_users = np.where(listen_counts < threshold)[0]\n",
        "normal_users = np.where(listen_counts >= threshold)[0]\n",
        "# print(cold_start_user_i)\n",
        "\n",
        "#take mrr_scores for exactly cold start and normal users and calculate mean values\n",
        "mrr_cold_start = (mrr_scores[cold_start_users]).mean()\n",
        "mrr_normal = (mrr_scores[normal_users]).mean()\n",
        "\n",
        "print(\"MRR for cold-start users:\", round(mrr_cold_start, 4))\n",
        "print(\"MRR for all users:\", round(mrr_normal, 4))\n"
      ]
    },
    {
      "cell_type": "markdown",
      "metadata": {
        "id": "MR_l43rFc7eo"
      },
      "source": [
        "## BPR\n",
        "\n",
        "Finally, let's compare the *pointwise* implicit factorisation model with Bayesian Personalised Ranking (BPR). BPR is a very key recommendation model in the literature, which is widely used today as a baseline in many research papers.\n",
        "\n",
        "Train an ImplicitFactorizationModel on the Last FM dataset (i.e. `itrain`) using identical settings as before, except adding `loss='bpr'`. Record the time taken to train, and the evaluate its effectiveness in terms of MRR. Do NOT use the `train=itrain` argument to `mrr_score()`."
      ]
    },
    {
      "cell_type": "code",
      "execution_count": 52,
      "metadata": {
        "id": "vNeyn7o2tf54",
        "colab": {
          "base_uri": "https://localhost:8080/"
        },
        "outputId": "be3c6390-d08d-4d57-a091-879f022127f0"
      },
      "outputs": [
        {
          "output_type": "stream",
          "name": "stdout",
          "text": [
            "Epoch 0: loss 0.47409727311134336\n",
            "Epoch 1: loss 0.14683696229457854\n",
            "Epoch 2: loss 0.02480817346572876\n",
            "Epoch 3: loss 0.014375450010970235\n",
            "Epoch 4: loss 0.011113866971805691\n",
            "Training took 132 seconds\n",
            "MRR score with BPR loss: 0.05814735966328977\n"
          ]
        }
      ],
      "source": [
        "imodelbpr = ImplicitFactorizationModel(n_iter=5,\n",
        "                                    loss='bpr',\n",
        "                                    embedding_dim=32, #this is Spotlight default\n",
        "                                    use_cuda=False,\n",
        "                                    random_state=np.random.RandomState(SEED) # ensure results are repeatable\n",
        ")\n",
        "current = time.time()\n",
        "\n",
        "imodelbpr.fit(itrain, verbose=True)\n",
        "end = time.time()\n",
        "diff = end - current\n",
        "print(\"Training took %d seconds\" % (diff))\n",
        "\n",
        "mrrscore = mrr_score(imodelbpr, itest).mean()\n",
        "\n",
        "print('MRR score with BPR loss:', mrrscore)\n"
      ]
    },
    {
      "cell_type": "code",
      "execution_count": 52,
      "metadata": {
        "id": "4RYG8CcwVkZL"
      },
      "outputs": [],
      "source": []
    },
    {
      "cell_type": "markdown",
      "metadata": {
        "id": "cMCJb-_i_eNC"
      },
      "source": [
        "As we see, BPR on our dataset resulted in enhanced effectivness, though not very considerable (only 0.014 better)"
      ]
    }
  ],
  "metadata": {
    "colab": {
      "provenance": []
    },
    "kernelspec": {
      "display_name": "Python 3",
      "name": "python3"
    }
  },
  "nbformat": 4,
  "nbformat_minor": 0
}